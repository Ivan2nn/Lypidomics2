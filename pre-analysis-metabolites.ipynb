{
 "cells": [
  {
   "cell_type": "code",
   "execution_count": 21,
   "metadata": {},
   "outputs": [],
   "source": [
    "import pandas as pd\n",
    "import numpy as np\n",
    "import matplotlib.pyplot as plt\n",
    "import seaborn as sns\n",
    "from sklearn.decomposition import PCA\n",
    "from sklearn.preprocessing import StandardScaler, LabelEncoder, MinMaxScaler\n",
    "from sklearn.feature_selection import SelectKBest, f_classif\n",
    "from scipy.stats import ttest_ind\n",
    "import json\n",
    "import os"
   ]
  },
  {
   "cell_type": "markdown",
   "metadata": {},
   "source": [
    "### Set Options"
   ]
  },
  {
   "cell_type": "code",
   "execution_count": 22,
   "metadata": {},
   "outputs": [],
   "source": [
    "# Set whole=True if we want to analyze the new data and the old data together\n",
    "whole = True\n",
    "\n",
    "THRESHOLD = 80\n",
    "batch_corrected = False\n",
    "zero_remove = False\n",
    "use_plsd_subset = True\n",
    "scaler_term = 'minmax'\n",
    "scaler = MinMaxScaler() if scaler_term=='minmax' else StandardScaler()\n",
    "\n",
    "test_enc_name = '_BatchCor'+str(batch_corrected)+'_NanRem'+str(zero_remove)+'_'+str(scaler_term)\n",
    "test_enc_name_new = '_Whole_'+str(whole)+'_PlsdSubset_'+str(use_plsd_subset)"
   ]
  },
  {
   "cell_type": "markdown",
   "metadata": {},
   "source": [
    "### Load Config Files"
   ]
  },
  {
   "cell_type": "code",
   "execution_count": 23,
   "metadata": {},
   "outputs": [],
   "source": [
    "with open('data/paths.json','r') as f:\n",
    "    paths = json.load(f)\n",
    "\n",
    "data_path = paths[\"data_path\"]"
   ]
  },
  {
   "cell_type": "markdown",
   "metadata": {},
   "source": [
    "### Get Data"
   ]
  },
  {
   "cell_type": "code",
   "execution_count": 24,
   "metadata": {},
   "outputs": [],
   "source": [
    "data_new = pd.read_excel(os.path.join(data_path,\"2023_12_laezza_deltamethrin_metabolomics.xlsx\"))\n",
    "if whole:\n",
    "    data_old = pd.read_excel(os.path.join(data_path,\"2022_12_Laezza_Bernabucci_Mouse_Brain_COMBINED_METABOLOMICS.xlsx\"))"
   ]
  },
  {
   "cell_type": "markdown",
   "metadata": {},
   "source": [
    "#### -- We have to filter the old data extracting only males, striatum, PND30 --"
   ]
  },
  {
   "cell_type": "code",
   "execution_count": 25,
   "metadata": {},
   "outputs": [],
   "source": [
    "if whole:\n",
    "    data_old = data_old[data_old['Sample Submission Date'] == '11/2022']\n",
    "    data_old = data_old[data_old['Sex']=='M']\n",
    "    data_old = data_old[data_old['Tissue Type']=='striatum']\n",
    "    data_old = data_old[data_old['PND']==30]"
   ]
  },
  {
   "cell_type": "markdown",
   "metadata": {},
   "source": [
    "### Rename the columns"
   ]
  },
  {
   "cell_type": "code",
   "execution_count": 26,
   "metadata": {},
   "outputs": [],
   "source": [
    "columns_data = ['LCMS Name', 'Tissue Weight\\n(mg)', 'Treatment', 'Metabolite', 'Normalized Peak Area (Peak Area of Metabolite / (Peak Area of Internal Standard * Tissue weight))']\n",
    "columns_old = ['Sample Name', 'Tissue weight\\n(mg)', 'Treatment', 'Metabolite', 'Normalized Peak Area\\n(Peak Area of Metabolite / (Peak Area of Internal Standard * Tisue weight))']\n",
    "columns_new = ['name','weight','treatment','metabolite','area']\n",
    "\n",
    "data_new = data_new[columns_data]\n",
    "data_new.columns = columns_new\n",
    "data_new['batch']=1\n",
    "\n",
    "if whole:\n",
    "    data_old = data_old[columns_old]\n",
    "    data_old.columns = columns_new\n",
    "    data_old['batch']=0\n",
    "\n",
    "if whole:\n",
    "    data_all = pd.concat([data_new, data_old], axis=0)\n",
    "    data_all = data_all[data_all['area']!=0]\n",
    "else:\n",
    "    data_all = data_new.copy()\n",
    "    \n",
    "data_all['area'] = np.log(data_all['area'])"
   ]
  },
  {
   "cell_type": "code",
   "execution_count": 27,
   "metadata": {},
   "outputs": [
    {
     "name": "stdout",
     "output_type": "stream",
     "text": [
      "26\n"
     ]
    }
   ],
   "source": [
    "## number of samples\n",
    "\n",
    "print(len(np.unique(data_all['name'])))"
   ]
  },
  {
   "cell_type": "markdown",
   "metadata": {},
   "source": [
    "### Show some info (metabolites are less than the old data)"
   ]
  },
  {
   "cell_type": "code",
   "execution_count": 28,
   "metadata": {},
   "outputs": [
    {
     "name": "stdout",
     "output_type": "stream",
     "text": [
      "207\n"
     ]
    }
   ],
   "source": [
    "metabolites_list = data_all['metabolite'].nunique()\n",
    "print(metabolites_list)"
   ]
  },
  {
   "cell_type": "code",
   "execution_count": 29,
   "metadata": {},
   "outputs": [
    {
     "data": {
      "text/html": [
       "<div>\n",
       "<style scoped>\n",
       "    .dataframe tbody tr th:only-of-type {\n",
       "        vertical-align: middle;\n",
       "    }\n",
       "\n",
       "    .dataframe tbody tr th {\n",
       "        vertical-align: top;\n",
       "    }\n",
       "\n",
       "    .dataframe thead th {\n",
       "        text-align: right;\n",
       "    }\n",
       "</style>\n",
       "<table border=\"1\" class=\"dataframe\">\n",
       "  <thead>\n",
       "    <tr style=\"text-align: right;\">\n",
       "      <th></th>\n",
       "      <th>name</th>\n",
       "      <th>weight</th>\n",
       "      <th>treatment</th>\n",
       "      <th>metabolite</th>\n",
       "      <th>area</th>\n",
       "      <th>batch</th>\n",
       "    </tr>\n",
       "  </thead>\n",
       "  <tbody>\n",
       "    <tr>\n",
       "      <th>0</th>\n",
       "      <td>Laezza #1</td>\n",
       "      <td>106</td>\n",
       "      <td>control</td>\n",
       "      <td>1 or 3-Methyl-Histidine.1</td>\n",
       "      <td>-4.538732</td>\n",
       "      <td>1</td>\n",
       "    </tr>\n",
       "    <tr>\n",
       "      <th>1</th>\n",
       "      <td>Laezza #2</td>\n",
       "      <td>82</td>\n",
       "      <td>control</td>\n",
       "      <td>1 or 3-Methyl-Histidine.1</td>\n",
       "      <td>-3.227442</td>\n",
       "      <td>1</td>\n",
       "    </tr>\n",
       "    <tr>\n",
       "      <th>2</th>\n",
       "      <td>Laezza #3</td>\n",
       "      <td>92</td>\n",
       "      <td>control</td>\n",
       "      <td>1 or 3-Methyl-Histidine.1</td>\n",
       "      <td>-4.773899</td>\n",
       "      <td>1</td>\n",
       "    </tr>\n",
       "    <tr>\n",
       "      <th>3</th>\n",
       "      <td>Laezza #4</td>\n",
       "      <td>105</td>\n",
       "      <td>control</td>\n",
       "      <td>1 or 3-Methyl-Histidine.1</td>\n",
       "      <td>-3.893745</td>\n",
       "      <td>1</td>\n",
       "    </tr>\n",
       "    <tr>\n",
       "      <th>4</th>\n",
       "      <td>Laezza #5</td>\n",
       "      <td>100</td>\n",
       "      <td>control</td>\n",
       "      <td>1 or 3-Methyl-Histidine.1</td>\n",
       "      <td>-4.290535</td>\n",
       "      <td>1</td>\n",
       "    </tr>\n",
       "  </tbody>\n",
       "</table>\n",
       "</div>"
      ],
      "text/plain": [
       "        name  weight treatment                 metabolite      area  batch\n",
       "0  Laezza #1     106   control  1 or 3-Methyl-Histidine.1 -4.538732      1\n",
       "1  Laezza #2      82   control  1 or 3-Methyl-Histidine.1 -3.227442      1\n",
       "2  Laezza #3      92   control  1 or 3-Methyl-Histidine.1 -4.773899      1\n",
       "3  Laezza #4     105   control  1 or 3-Methyl-Histidine.1 -3.893745      1\n",
       "4  Laezza #5     100   control  1 or 3-Methyl-Histidine.1 -4.290535      1"
      ]
     },
     "execution_count": 29,
     "metadata": {},
     "output_type": "execute_result"
    }
   ],
   "source": [
    "data_all.head()"
   ]
  },
  {
   "cell_type": "markdown",
   "metadata": {},
   "source": [
    "### Organize PIVOT Table"
   ]
  },
  {
   "cell_type": "code",
   "execution_count": 30,
   "metadata": {},
   "outputs": [
    {
     "data": {
      "text/html": [
       "<div>\n",
       "<style scoped>\n",
       "    .dataframe tbody tr th:only-of-type {\n",
       "        vertical-align: middle;\n",
       "    }\n",
       "\n",
       "    .dataframe tbody tr th {\n",
       "        vertical-align: top;\n",
       "    }\n",
       "\n",
       "    .dataframe thead th {\n",
       "        text-align: right;\n",
       "    }\n",
       "</style>\n",
       "<table border=\"1\" class=\"dataframe\">\n",
       "  <thead>\n",
       "    <tr style=\"text-align: right;\">\n",
       "      <th>metabolite</th>\n",
       "      <th>name</th>\n",
       "      <th>treatment</th>\n",
       "      <th>1 or 3-Methyl-Histidine.1</th>\n",
       "      <th>2'-O-Methyl Guanosine.1</th>\n",
       "      <th>2'-O-Methyl Uridine.1</th>\n",
       "      <th>2-Deoxycytide</th>\n",
       "      <th>2-Hydroxyglutarate.1</th>\n",
       "      <th>2-ketoglutaric acid.1</th>\n",
       "      <th>2/3-Phosphoglyceric acid.2</th>\n",
       "      <th>3-Hydroxyhexadecanoylcarnitine</th>\n",
       "      <th>...</th>\n",
       "      <th>UDP.1</th>\n",
       "      <th>Urate.1</th>\n",
       "      <th>Urea.1</th>\n",
       "      <th>Ureidosuccinic acid.1</th>\n",
       "      <th>Uridine.1</th>\n",
       "      <th>Xanthine.1</th>\n",
       "      <th>acetyl-CoA_pos</th>\n",
       "      <th>dGDP.1</th>\n",
       "      <th>glutathione disulfide_pos</th>\n",
       "      <th>sn-glycerol-3-phosphate.1</th>\n",
       "    </tr>\n",
       "  </thead>\n",
       "  <tbody>\n",
       "    <tr>\n",
       "      <th>0</th>\n",
       "      <td>C15M1S</td>\n",
       "      <td>0</td>\n",
       "      <td>-6.027376</td>\n",
       "      <td>-10.244992</td>\n",
       "      <td>-8.857315</td>\n",
       "      <td>-6.008248</td>\n",
       "      <td>-3.915421</td>\n",
       "      <td>-6.913606</td>\n",
       "      <td>-8.419121</td>\n",
       "      <td>-6.256186</td>\n",
       "      <td>...</td>\n",
       "      <td>-7.175464</td>\n",
       "      <td>-7.003032</td>\n",
       "      <td>-2.167248</td>\n",
       "      <td>-4.458483</td>\n",
       "      <td>-3.072309</td>\n",
       "      <td>-4.245012</td>\n",
       "      <td>-6.731001</td>\n",
       "      <td>-4.609007</td>\n",
       "      <td>0.000001</td>\n",
       "      <td>-5.991207</td>\n",
       "    </tr>\n",
       "    <tr>\n",
       "      <th>1</th>\n",
       "      <td>C62M1S</td>\n",
       "      <td>0</td>\n",
       "      <td>-5.629738</td>\n",
       "      <td>-10.183447</td>\n",
       "      <td>-9.938186</td>\n",
       "      <td>-6.491512</td>\n",
       "      <td>-4.502041</td>\n",
       "      <td>-6.766981</td>\n",
       "      <td>-10.810593</td>\n",
       "      <td>-6.708994</td>\n",
       "      <td>...</td>\n",
       "      <td>-11.529038</td>\n",
       "      <td>-6.808951</td>\n",
       "      <td>-2.236118</td>\n",
       "      <td>-5.245530</td>\n",
       "      <td>-2.957595</td>\n",
       "      <td>-4.283107</td>\n",
       "      <td>-7.846362</td>\n",
       "      <td>-7.729930</td>\n",
       "      <td>-4.913726</td>\n",
       "      <td>-6.679960</td>\n",
       "    </tr>\n",
       "    <tr>\n",
       "      <th>2</th>\n",
       "      <td>C63M1S</td>\n",
       "      <td>0</td>\n",
       "      <td>-5.694237</td>\n",
       "      <td>-10.101875</td>\n",
       "      <td>-9.974555</td>\n",
       "      <td>-6.402515</td>\n",
       "      <td>-4.786079</td>\n",
       "      <td>-6.855724</td>\n",
       "      <td>-11.062538</td>\n",
       "      <td>-6.185396</td>\n",
       "      <td>...</td>\n",
       "      <td>-11.754332</td>\n",
       "      <td>-6.965191</td>\n",
       "      <td>-2.280404</td>\n",
       "      <td>-5.485073</td>\n",
       "      <td>-3.103059</td>\n",
       "      <td>-4.527706</td>\n",
       "      <td>-8.697023</td>\n",
       "      <td>-8.479288</td>\n",
       "      <td>-5.130358</td>\n",
       "      <td>-6.834526</td>\n",
       "    </tr>\n",
       "    <tr>\n",
       "      <th>3</th>\n",
       "      <td>Laezza #1</td>\n",
       "      <td>0</td>\n",
       "      <td>-4.538732</td>\n",
       "      <td>-9.991292</td>\n",
       "      <td>-10.530331</td>\n",
       "      <td>-7.504787</td>\n",
       "      <td>-4.180784</td>\n",
       "      <td>-2.848938</td>\n",
       "      <td>-4.611318</td>\n",
       "      <td>-6.407001</td>\n",
       "      <td>...</td>\n",
       "      <td>-5.530046</td>\n",
       "      <td>-7.779612</td>\n",
       "      <td>-3.304009</td>\n",
       "      <td>-4.259102</td>\n",
       "      <td>-4.486284</td>\n",
       "      <td>-4.862928</td>\n",
       "      <td>-5.926340</td>\n",
       "      <td>-3.370416</td>\n",
       "      <td>-1.282907</td>\n",
       "      <td>-5.668776</td>\n",
       "    </tr>\n",
       "    <tr>\n",
       "      <th>4</th>\n",
       "      <td>Laezza #10</td>\n",
       "      <td>0</td>\n",
       "      <td>-4.756983</td>\n",
       "      <td>-7.310499</td>\n",
       "      <td>-7.802734</td>\n",
       "      <td>-6.366854</td>\n",
       "      <td>-5.448672</td>\n",
       "      <td>-2.188969</td>\n",
       "      <td>-7.413345</td>\n",
       "      <td>-3.591153</td>\n",
       "      <td>...</td>\n",
       "      <td>-9.055753</td>\n",
       "      <td>-7.339957</td>\n",
       "      <td>-1.566261</td>\n",
       "      <td>-5.137251</td>\n",
       "      <td>-2.769198</td>\n",
       "      <td>-3.249870</td>\n",
       "      <td>-7.654659</td>\n",
       "      <td>-6.780270</td>\n",
       "      <td>-4.347206</td>\n",
       "      <td>-6.295892</td>\n",
       "    </tr>\n",
       "  </tbody>\n",
       "</table>\n",
       "<p>5 rows × 133 columns</p>\n",
       "</div>"
      ],
      "text/plain": [
       "metabolite        name  treatment  1 or 3-Methyl-Histidine.1  \\\n",
       "0               C15M1S          0                  -6.027376   \n",
       "1               C62M1S          0                  -5.629738   \n",
       "2               C63M1S          0                  -5.694237   \n",
       "3            Laezza #1          0                  -4.538732   \n",
       "4           Laezza #10          0                  -4.756983   \n",
       "\n",
       "metabolite  2'-O-Methyl Guanosine.1  2'-O-Methyl Uridine.1  2-Deoxycytide  \\\n",
       "0                        -10.244992              -8.857315      -6.008248   \n",
       "1                        -10.183447              -9.938186      -6.491512   \n",
       "2                        -10.101875              -9.974555      -6.402515   \n",
       "3                         -9.991292             -10.530331      -7.504787   \n",
       "4                         -7.310499              -7.802734      -6.366854   \n",
       "\n",
       "metabolite  2-Hydroxyglutarate.1  2-ketoglutaric acid.1  \\\n",
       "0                      -3.915421              -6.913606   \n",
       "1                      -4.502041              -6.766981   \n",
       "2                      -4.786079              -6.855724   \n",
       "3                      -4.180784              -2.848938   \n",
       "4                      -5.448672              -2.188969   \n",
       "\n",
       "metabolite  2/3-Phosphoglyceric acid.2  3-Hydroxyhexadecanoylcarnitine  ...  \\\n",
       "0                            -8.419121                       -6.256186  ...   \n",
       "1                           -10.810593                       -6.708994  ...   \n",
       "2                           -11.062538                       -6.185396  ...   \n",
       "3                            -4.611318                       -6.407001  ...   \n",
       "4                            -7.413345                       -3.591153  ...   \n",
       "\n",
       "metabolite      UDP.1   Urate.1    Urea.1  Ureidosuccinic acid.1  Uridine.1  \\\n",
       "0           -7.175464 -7.003032 -2.167248              -4.458483  -3.072309   \n",
       "1          -11.529038 -6.808951 -2.236118              -5.245530  -2.957595   \n",
       "2          -11.754332 -6.965191 -2.280404              -5.485073  -3.103059   \n",
       "3           -5.530046 -7.779612 -3.304009              -4.259102  -4.486284   \n",
       "4           -9.055753 -7.339957 -1.566261              -5.137251  -2.769198   \n",
       "\n",
       "metabolite  Xanthine.1  acetyl-CoA_pos    dGDP.1  glutathione disulfide_pos  \\\n",
       "0            -4.245012       -6.731001 -4.609007                   0.000001   \n",
       "1            -4.283107       -7.846362 -7.729930                  -4.913726   \n",
       "2            -4.527706       -8.697023 -8.479288                  -5.130358   \n",
       "3            -4.862928       -5.926340 -3.370416                  -1.282907   \n",
       "4            -3.249870       -7.654659 -6.780270                  -4.347206   \n",
       "\n",
       "metabolite  sn-glycerol-3-phosphate.1  \n",
       "0                           -5.991207  \n",
       "1                           -6.679960  \n",
       "2                           -6.834526  \n",
       "3                           -5.668776  \n",
       "4                           -6.295892  \n",
       "\n",
       "[5 rows x 133 columns]"
      ]
     },
     "execution_count": 30,
     "metadata": {},
     "output_type": "execute_result"
    }
   ],
   "source": [
    "data_pivot = data_all.pivot(index=['name', 'treatment'], columns='metabolite', values=data_all.columns[-2])\n",
    "\n",
    "\n",
    "data_pivot = data_pivot.reset_index().dropna(axis=1, thresh=0.9*data_pivot.shape[0]).fillna(1e-3*np.min(np.abs(data_all.iloc[:,-2])))\n",
    "\n",
    "data_pivot['treatment'] = LabelEncoder().fit_transform(data_pivot['treatment'])\n",
    "data_pivot.head()"
   ]
  },
  {
   "cell_type": "code",
   "execution_count": 31,
   "metadata": {},
   "outputs": [
    {
     "data": {
      "text/plain": [
       "131"
      ]
     },
     "execution_count": 31,
     "metadata": {},
     "output_type": "execute_result"
    }
   ],
   "source": [
    "metabolites_ok = list(data_pivot.columns[2:])\n",
    "tot_metabolites = len(metabolites_ok)\n",
    "tot_metabolites"
   ]
  },
  {
   "cell_type": "markdown",
   "metadata": {},
   "source": [
    "### Dimensionality Reduction"
   ]
  },
  {
   "cell_type": "code",
   "execution_count": 32,
   "metadata": {},
   "outputs": [
    {
     "name": "stderr",
     "output_type": "stream",
     "text": [
      "c:\\Users\\ibern\\AppData\\Local\\Programs\\Python\\Python311\\Lib\\site-packages\\sklearn\\cross_decomposition\\_pls.py:302: UserWarning: Y residual is constant at iteration 25\n",
      "  warnings.warn(f\"Y residual is constant at iteration {k}\")\n"
     ]
    }
   ],
   "source": [
    "from sklearn.cross_decomposition import PLSRegression\n",
    "\n",
    "pls2_treatment = PLSRegression(n_components=26, scale = False)\n",
    "pls2_date = PLSRegression(n_components=26, scale = False)\n",
    "data_pls2_treatment = pls2_treatment.fit_transform(data_pivot.values[:,2:], data_pivot['treatment'].values)"
   ]
  },
  {
   "cell_type": "code",
   "execution_count": 33,
   "metadata": {},
   "outputs": [
    {
     "name": "stdout",
     "output_type": "stream",
     "text": [
      "(26, 2)\n"
     ]
    }
   ],
   "source": [
    "p_values_pls2 = [\n",
    "    [\n",
    "        d,\n",
    "        ttest_ind(data_pls2_treatment[0][data_pivot['treatment']==0, d], data_pls2_treatment[0][data_pivot['treatment']==1, d])[1],\n",
    "    ]\n",
    "    for d in range(data_pls2_treatment[0].shape[1])\n",
    "]\n",
    "p_values_pls2 = np.asarray(p_values_pls2)\n",
    "print(p_values_pls2.shape)"
   ]
  },
  {
   "cell_type": "code",
   "execution_count": 34,
   "metadata": {},
   "outputs": [
    {
     "name": "stderr",
     "output_type": "stream",
     "text": [
      "No artists with labels found to put in legend.  Note that artists whose label start with an underscore are ignored when legend() is called with no argument.\n"
     ]
    },
    {
     "data": {
      "image/png": "[encoded data removed]",
      "text/plain": [
       "<Figure size 1400x800 with 1 Axes>"
      ]
     },
     "metadata": {},
     "output_type": "display_data"
    }
   ],
   "source": [
    "fig = plt.figure(figsize=(14,8))\n",
    "plt.scatter(data_pls2_treatment[0][data_pivot['treatment']==0, 2], data_pls2_treatment[0][data_pivot['treatment']==0, 3],c=\"red\")\n",
    "plt.scatter(data_pls2_treatment[0][data_pivot['treatment']==1, 2], data_pls2_treatment[0][data_pivot['treatment']==1, 3],c=\"blue\")\n",
    "plt.legend()\n",
    "plt.title('Representation of samples in PLS space', fontdict={'fontsize':18})\n",
    "plt.tick_params(axis='both', which='major', labelsize=12)\n",
    "plt.xlabel('PLS1', fontdict={'fontsize':14})\n",
    "plt.ylabel('PLS2', fontdict={'fontsize':14})\n",
    "fig.savefig(os.path.join(data_path,\"mb-sample_distribution_PLS_space\"+test_enc_name_new+\".png\"), format='png', facecolor='w', dpi=100)"
   ]
  },
  {
   "cell_type": "code",
   "execution_count": 35,
   "metadata": {},
   "outputs": [
    {
     "name": "stdout",
     "output_type": "stream",
     "text": [
      "2 significant pc with respect to TREATMENT\n",
      "[2 3]\n"
     ]
    }
   ],
   "source": [
    "print(f'{np.sum(p_values_pls2[:,1]<0.05)} significant pc with respect to TREATMENT')\n",
    "\n",
    "significant_pc_pls2_treatment = np.where(p_values_pls2[:,1]<0.05)[0]\n",
    "print(significant_pc_pls2_treatment)"
   ]
  },
  {
   "cell_type": "code",
   "execution_count": 36,
   "metadata": {},
   "outputs": [],
   "source": [
    "significant_components_pls2_treatment = pls2_treatment.x_weights_.T[significant_pc_pls2_treatment,:]\n",
    "max_values_pls2_treatment = np.max(np.abs(significant_components_pls2_treatment), axis = 0)"
   ]
  },
  {
   "cell_type": "code",
   "execution_count": 37,
   "metadata": {},
   "outputs": [],
   "source": [
    "ths_pls2_treatment = np.percentile(np.abs(pls2_treatment.x_weights_.T.flatten()), THRESHOLD)"
   ]
  },
  {
   "cell_type": "code",
   "execution_count": 38,
   "metadata": {},
   "outputs": [],
   "source": [
    "tot_metabolites = data_pivot.shape[1] - 2"
   ]
  },
  {
   "cell_type": "code",
   "execution_count": 39,
   "metadata": {},
   "outputs": [
    {
     "name": "stdout",
     "output_type": "stream",
     "text": [
      "55 (41.98% of original total) significant metabolites found\n"
     ]
    }
   ],
   "source": [
    "idx_significant_metabolites_pls2_treatment = np.where(max_values_pls2_treatment>ths_pls2_treatment)[0]\n",
    "n_significant_metabolites_pls2_treatment = len(idx_significant_metabolites_pls2_treatment)\n",
    "print(f'{n_significant_metabolites_pls2_treatment} ({n_significant_metabolites_pls2_treatment/tot_metabolites*100:.2f}% of original total) significant metabolites found')\n",
    "significant_metabolites_pls2_treatment = [metabolites_ok[i] for i in idx_significant_metabolites_pls2_treatment]\n"
   ]
  },
  {
   "cell_type": "code",
   "execution_count": 20,
   "metadata": {},
   "outputs": [],
   "source": [
    "with open(os.path.join('results','significant_metabolites_pls2_treatment'+test_enc_name_new+'.txt'), 'w+') as f:\n",
    "    for l in significant_metabolites_pls2_treatment:\n",
    "        f.write(l+'\\n')"
   ]
  },
  {
   "cell_type": "code",
   "execution_count": null,
   "metadata": {},
   "outputs": [],
   "source": []
  }
 ],
 "metadata": {
  "kernelspec": {
   "display_name": "Python 3",
   "language": "python",
   "name": "python3"
  },
  "language_info": {
   "codemirror_mode": {
    "name": "ipython",
    "version": 3
   },
   "file_extension": ".py",
   "mimetype": "text/x-python",
   "name": "python",
   "nbconvert_exporter": "python",
   "pygments_lexer": "ipython3",
   "version": "3.11.4"
  }
 },
 "nbformat": 4,
 "nbformat_minor": 2
}
