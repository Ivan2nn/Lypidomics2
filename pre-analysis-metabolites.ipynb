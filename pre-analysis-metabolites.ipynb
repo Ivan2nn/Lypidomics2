{
 "cells": [
  {
   "cell_type": "code",
   "execution_count": 116,
   "metadata": {},
   "outputs": [],
   "source": [
    "import pandas as pd\n",
    "import numpy as np\n",
    "import matplotlib.pyplot as plt\n",
    "import seaborn as sns\n",
    "from sklearn.decomposition import PCA\n",
    "from sklearn.preprocessing import StandardScaler, LabelEncoder, MinMaxScaler\n",
    "from sklearn.feature_selection import SelectKBest, f_classif\n",
    "from scipy.stats import ttest_ind\n",
    "import json\n",
    "import os"
   ]
  },
  {
   "cell_type": "markdown",
   "metadata": {},
   "source": [
    "### Set Options"
   ]
  },
  {
   "cell_type": "code",
   "execution_count": 138,
   "metadata": {},
   "outputs": [],
   "source": [
    "# Set whole=True if we want to analyze the new data and the old data together\n",
    "whole = False\n",
    "\n",
    "THRESHOLD = 80\n",
    "batch_corrected = False\n",
    "zero_remove = False\n",
    "scaler_term = 'minmax'\n",
    "scaler = MinMaxScaler() if scaler_term=='minmax' else StandardScaler()\n",
    "\n",
    "test_enc_name = '_BatchCor'+str(batch_corrected)+'_NanRem'+str(zero_remove)+'_'+str(scaler_term)\n",
    "test_enc_name_new = '_Whole_'+str(whole)"
   ]
  },
  {
   "cell_type": "markdown",
   "metadata": {},
   "source": [
    "### Load Config Files"
   ]
  },
  {
   "cell_type": "code",
   "execution_count": 118,
   "metadata": {},
   "outputs": [],
   "source": [
    "with open('data/paths.json','r') as f:\n",
    "    paths = json.load(f)\n",
    "\n",
    "data_path = paths[\"data_path\"]"
   ]
  },
  {
   "cell_type": "markdown",
   "metadata": {},
   "source": [
    "### Get Data"
   ]
  },
  {
   "cell_type": "code",
   "execution_count": 120,
   "metadata": {},
   "outputs": [],
   "source": [
    "data_new = pd.read_excel(os.path.join(data_path,\"2023_12_laezza_deltamethrin_metabolomics.xlsx\"))\n",
    "if whole:\n",
    "    data_old = pd.read_excel(os.path.join(data_path,\"2022_12_Laezza_Bernabucci_Mouse_Brain_COMBINED_METABOLOMICS.xlsx\"))"
   ]
  },
  {
   "cell_type": "markdown",
   "metadata": {},
   "source": [
    "#### -- We have to filter the old data extracting only males, striatum, PND30 --"
   ]
  },
  {
   "cell_type": "code",
   "execution_count": 121,
   "metadata": {},
   "outputs": [],
   "source": [
    "if whole:\n",
    "    data_old = data_old[data_old['Sex']=='M']\n",
    "    data_old = data_old[data_old['Tissue Type']=='striatum']\n",
    "    data_old = data_old[data_old['PND']==30]"
   ]
  },
  {
   "cell_type": "markdown",
   "metadata": {},
   "source": [
    "### Rename the columns"
   ]
  },
  {
   "cell_type": "code",
   "execution_count": 122,
   "metadata": {},
   "outputs": [],
   "source": [
    "columns_data = ['LCMS Name', 'Tissue Weight\\n(mg)', 'Treatment', 'Metabolite', 'Normalized Peak Area (Peak Area of Metabolite / (Peak Area of Internal Standard * Tissue weight))']\n",
    "columns_old = ['Sample Name', 'Tissue weight\\n(mg)', 'Treatment', 'Metabolite', 'Normalized Peak Area\\n(Peak Area of Metabolite / (Peak Area of Internal Standard * Tisue weight))']\n",
    "columns_new = ['name','weight','treatment','metabolite','area']\n",
    "\n",
    "data_new = data_new[columns_data]\n",
    "data_new.columns = columns_new\n",
    "data_new['batch']=1\n",
    "\n",
    "if whole:\n",
    "    data_old = data_old[columns_old]\n",
    "    data_old.columns = columns_new\n",
    "    data_old['batch']=0\n",
    "\n",
    "if whole:\n",
    "    data_all = pd.concat([data_new, data_old], axis=0)\n",
    "    data_all = data_all[data_all['area']!=0]\n",
    "else:\n",
    "    data_all = data_new.copy()\n",
    "    \n",
    "data_all['area'] = np.log(data_all['area'])"
   ]
  },
  {
   "cell_type": "code",
   "execution_count": 123,
   "metadata": {},
   "outputs": [
    {
     "name": "stdout",
     "output_type": "stream",
     "text": [
      "20\n"
     ]
    }
   ],
   "source": [
    "## number of samples\n",
    "\n",
    "print(len(np.unique(data_all['name'])))"
   ]
  },
  {
   "cell_type": "markdown",
   "metadata": {},
   "source": [
    "### Show some info (metabolites are less than the old data)"
   ]
  },
  {
   "cell_type": "code",
   "execution_count": 125,
   "metadata": {},
   "outputs": [
    {
     "name": "stdout",
     "output_type": "stream",
     "text": [
      "161\n"
     ]
    }
   ],
   "source": [
    "metabolites_list = data_all['metabolite'].nunique()\n",
    "print(metabolites_list)"
   ]
  },
  {
   "cell_type": "code",
   "execution_count": 126,
   "metadata": {},
   "outputs": [
    {
     "data": {
      "text/html": [
       "<div>\n",
       "<style scoped>\n",
       "    .dataframe tbody tr th:only-of-type {\n",
       "        vertical-align: middle;\n",
       "    }\n",
       "\n",
       "    .dataframe tbody tr th {\n",
       "        vertical-align: top;\n",
       "    }\n",
       "\n",
       "    .dataframe thead th {\n",
       "        text-align: right;\n",
       "    }\n",
       "</style>\n",
       "<table border=\"1\" class=\"dataframe\">\n",
       "  <thead>\n",
       "    <tr style=\"text-align: right;\">\n",
       "      <th></th>\n",
       "      <th>name</th>\n",
       "      <th>weight</th>\n",
       "      <th>treatment</th>\n",
       "      <th>metabolite</th>\n",
       "      <th>area</th>\n",
       "      <th>batch</th>\n",
       "    </tr>\n",
       "  </thead>\n",
       "  <tbody>\n",
       "    <tr>\n",
       "      <th>0</th>\n",
       "      <td>Laezza #1</td>\n",
       "      <td>106</td>\n",
       "      <td>control</td>\n",
       "      <td>1 or 3-Methyl-Histidine.1</td>\n",
       "      <td>-4.538732</td>\n",
       "      <td>1</td>\n",
       "    </tr>\n",
       "    <tr>\n",
       "      <th>1</th>\n",
       "      <td>Laezza #2</td>\n",
       "      <td>82</td>\n",
       "      <td>control</td>\n",
       "      <td>1 or 3-Methyl-Histidine.1</td>\n",
       "      <td>-3.227442</td>\n",
       "      <td>1</td>\n",
       "    </tr>\n",
       "    <tr>\n",
       "      <th>2</th>\n",
       "      <td>Laezza #3</td>\n",
       "      <td>92</td>\n",
       "      <td>control</td>\n",
       "      <td>1 or 3-Methyl-Histidine.1</td>\n",
       "      <td>-4.773899</td>\n",
       "      <td>1</td>\n",
       "    </tr>\n",
       "    <tr>\n",
       "      <th>3</th>\n",
       "      <td>Laezza #4</td>\n",
       "      <td>105</td>\n",
       "      <td>control</td>\n",
       "      <td>1 or 3-Methyl-Histidine.1</td>\n",
       "      <td>-3.893745</td>\n",
       "      <td>1</td>\n",
       "    </tr>\n",
       "    <tr>\n",
       "      <th>4</th>\n",
       "      <td>Laezza #5</td>\n",
       "      <td>100</td>\n",
       "      <td>control</td>\n",
       "      <td>1 or 3-Methyl-Histidine.1</td>\n",
       "      <td>-4.290535</td>\n",
       "      <td>1</td>\n",
       "    </tr>\n",
       "  </tbody>\n",
       "</table>\n",
       "</div>"
      ],
      "text/plain": [
       "        name  weight treatment                 metabolite      area  batch\n",
       "0  Laezza #1     106   control  1 or 3-Methyl-Histidine.1 -4.538732      1\n",
       "1  Laezza #2      82   control  1 or 3-Methyl-Histidine.1 -3.227442      1\n",
       "2  Laezza #3      92   control  1 or 3-Methyl-Histidine.1 -4.773899      1\n",
       "3  Laezza #4     105   control  1 or 3-Methyl-Histidine.1 -3.893745      1\n",
       "4  Laezza #5     100   control  1 or 3-Methyl-Histidine.1 -4.290535      1"
      ]
     },
     "execution_count": 126,
     "metadata": {},
     "output_type": "execute_result"
    }
   ],
   "source": [
    "data_all.head()"
   ]
  },
  {
   "cell_type": "markdown",
   "metadata": {},
   "source": [
    "### Organize PIVOT Table"
   ]
  },
  {
   "cell_type": "code",
   "execution_count": 127,
   "metadata": {},
   "outputs": [
    {
     "data": {
      "text/html": [
       "<div>\n",
       "<style scoped>\n",
       "    .dataframe tbody tr th:only-of-type {\n",
       "        vertical-align: middle;\n",
       "    }\n",
       "\n",
       "    .dataframe tbody tr th {\n",
       "        vertical-align: top;\n",
       "    }\n",
       "\n",
       "    .dataframe thead th {\n",
       "        text-align: right;\n",
       "    }\n",
       "</style>\n",
       "<table border=\"1\" class=\"dataframe\">\n",
       "  <thead>\n",
       "    <tr style=\"text-align: right;\">\n",
       "      <th>metabolite</th>\n",
       "      <th>name</th>\n",
       "      <th>treatment</th>\n",
       "      <th>1 or 3-Methyl-Histidine.1</th>\n",
       "      <th>1-Methyl-Histidine.1</th>\n",
       "      <th>2'-O-Methyl Guanosine.1</th>\n",
       "      <th>2'-O-Methyl Uridine.1</th>\n",
       "      <th>2-Aminooctanoic acid.1</th>\n",
       "      <th>2-Deoxycytide</th>\n",
       "      <th>2-Hydroxyglutarate.1</th>\n",
       "      <th>2-ketoglutaric acid.1</th>\n",
       "      <th>...</th>\n",
       "      <th>Urate.1</th>\n",
       "      <th>Urea.1</th>\n",
       "      <th>Ureidosuccinic acid.1</th>\n",
       "      <th>Uridine.1</th>\n",
       "      <th>Xanthine.1</th>\n",
       "      <th>acetyl-CoA_pos</th>\n",
       "      <th>beta-hydroxybutyrate</th>\n",
       "      <th>dGDP.1</th>\n",
       "      <th>glutathione disulfide_pos</th>\n",
       "      <th>sn-glycerol-3-phosphate.1</th>\n",
       "    </tr>\n",
       "  </thead>\n",
       "  <tbody>\n",
       "    <tr>\n",
       "      <th>0</th>\n",
       "      <td>Laezza #1</td>\n",
       "      <td>0</td>\n",
       "      <td>-4.538732</td>\n",
       "      <td>-4.506496</td>\n",
       "      <td>-9.991292</td>\n",
       "      <td>-10.530331</td>\n",
       "      <td>-2.640416</td>\n",
       "      <td>-7.504787</td>\n",
       "      <td>-4.180784</td>\n",
       "      <td>-2.848938</td>\n",
       "      <td>...</td>\n",
       "      <td>-7.779612</td>\n",
       "      <td>-3.304009</td>\n",
       "      <td>-4.259102</td>\n",
       "      <td>-4.486284</td>\n",
       "      <td>-4.862928</td>\n",
       "      <td>-5.926340</td>\n",
       "      <td>-8.979504</td>\n",
       "      <td>-3.370416</td>\n",
       "      <td>-1.282907</td>\n",
       "      <td>-5.668776</td>\n",
       "    </tr>\n",
       "    <tr>\n",
       "      <th>1</th>\n",
       "      <td>Laezza #10</td>\n",
       "      <td>0</td>\n",
       "      <td>-4.756983</td>\n",
       "      <td>-4.272655</td>\n",
       "      <td>-7.310499</td>\n",
       "      <td>-7.802734</td>\n",
       "      <td>-1.821644</td>\n",
       "      <td>-6.366854</td>\n",
       "      <td>-5.448672</td>\n",
       "      <td>-2.188969</td>\n",
       "      <td>...</td>\n",
       "      <td>-7.339957</td>\n",
       "      <td>-1.566261</td>\n",
       "      <td>-5.137251</td>\n",
       "      <td>-2.769198</td>\n",
       "      <td>-3.249870</td>\n",
       "      <td>-7.654659</td>\n",
       "      <td>-7.445284</td>\n",
       "      <td>-6.780270</td>\n",
       "      <td>-4.347206</td>\n",
       "      <td>-6.295892</td>\n",
       "    </tr>\n",
       "    <tr>\n",
       "      <th>2</th>\n",
       "      <td>Laezza #11</td>\n",
       "      <td>1</td>\n",
       "      <td>-4.775666</td>\n",
       "      <td>-4.779137</td>\n",
       "      <td>-10.650918</td>\n",
       "      <td>-10.253243</td>\n",
       "      <td>-3.786762</td>\n",
       "      <td>-7.650193</td>\n",
       "      <td>-4.673007</td>\n",
       "      <td>-3.522046</td>\n",
       "      <td>...</td>\n",
       "      <td>-7.665028</td>\n",
       "      <td>-4.055494</td>\n",
       "      <td>-4.182802</td>\n",
       "      <td>-4.607482</td>\n",
       "      <td>-4.701447</td>\n",
       "      <td>-5.907430</td>\n",
       "      <td>-9.640908</td>\n",
       "      <td>-4.013263</td>\n",
       "      <td>-1.881817</td>\n",
       "      <td>-6.096684</td>\n",
       "    </tr>\n",
       "    <tr>\n",
       "      <th>3</th>\n",
       "      <td>Laezza #12</td>\n",
       "      <td>1</td>\n",
       "      <td>-2.930925</td>\n",
       "      <td>-2.807127</td>\n",
       "      <td>-7.036422</td>\n",
       "      <td>-6.912366</td>\n",
       "      <td>-2.421270</td>\n",
       "      <td>-6.184990</td>\n",
       "      <td>-4.171308</td>\n",
       "      <td>-2.945924</td>\n",
       "      <td>...</td>\n",
       "      <td>-5.338538</td>\n",
       "      <td>-1.393694</td>\n",
       "      <td>-3.540332</td>\n",
       "      <td>-1.286180</td>\n",
       "      <td>-1.779559</td>\n",
       "      <td>-5.988246</td>\n",
       "      <td>-7.437343</td>\n",
       "      <td>-4.498110</td>\n",
       "      <td>-1.877280</td>\n",
       "      <td>-6.322114</td>\n",
       "    </tr>\n",
       "    <tr>\n",
       "      <th>4</th>\n",
       "      <td>Laezza #13</td>\n",
       "      <td>1</td>\n",
       "      <td>-4.659573</td>\n",
       "      <td>-4.566560</td>\n",
       "      <td>-9.420376</td>\n",
       "      <td>-9.759581</td>\n",
       "      <td>-2.767915</td>\n",
       "      <td>-7.929703</td>\n",
       "      <td>-4.904701</td>\n",
       "      <td>-2.856391</td>\n",
       "      <td>...</td>\n",
       "      <td>-7.723829</td>\n",
       "      <td>-3.301917</td>\n",
       "      <td>-4.580625</td>\n",
       "      <td>-4.670382</td>\n",
       "      <td>-4.285440</td>\n",
       "      <td>-6.373278</td>\n",
       "      <td>-8.801787</td>\n",
       "      <td>-5.142975</td>\n",
       "      <td>-2.409548</td>\n",
       "      <td>-6.684200</td>\n",
       "    </tr>\n",
       "  </tbody>\n",
       "</table>\n",
       "<p>5 rows × 163 columns</p>\n",
       "</div>"
      ],
      "text/plain": [
       "metabolite        name  treatment  1 or 3-Methyl-Histidine.1  \\\n",
       "0            Laezza #1          0                  -4.538732   \n",
       "1           Laezza #10          0                  -4.756983   \n",
       "2           Laezza #11          1                  -4.775666   \n",
       "3           Laezza #12          1                  -2.930925   \n",
       "4           Laezza #13          1                  -4.659573   \n",
       "\n",
       "metabolite  1-Methyl-Histidine.1  2'-O-Methyl Guanosine.1  \\\n",
       "0                      -4.506496                -9.991292   \n",
       "1                      -4.272655                -7.310499   \n",
       "2                      -4.779137               -10.650918   \n",
       "3                      -2.807127                -7.036422   \n",
       "4                      -4.566560                -9.420376   \n",
       "\n",
       "metabolite  2'-O-Methyl Uridine.1  2-Aminooctanoic acid.1  2-Deoxycytide  \\\n",
       "0                      -10.530331               -2.640416      -7.504787   \n",
       "1                       -7.802734               -1.821644      -6.366854   \n",
       "2                      -10.253243               -3.786762      -7.650193   \n",
       "3                       -6.912366               -2.421270      -6.184990   \n",
       "4                       -9.759581               -2.767915      -7.929703   \n",
       "\n",
       "metabolite  2-Hydroxyglutarate.1  2-ketoglutaric acid.1  ...   Urate.1  \\\n",
       "0                      -4.180784              -2.848938  ... -7.779612   \n",
       "1                      -5.448672              -2.188969  ... -7.339957   \n",
       "2                      -4.673007              -3.522046  ... -7.665028   \n",
       "3                      -4.171308              -2.945924  ... -5.338538   \n",
       "4                      -4.904701              -2.856391  ... -7.723829   \n",
       "\n",
       "metabolite    Urea.1  Ureidosuccinic acid.1  Uridine.1  Xanthine.1  \\\n",
       "0          -3.304009              -4.259102  -4.486284   -4.862928   \n",
       "1          -1.566261              -5.137251  -2.769198   -3.249870   \n",
       "2          -4.055494              -4.182802  -4.607482   -4.701447   \n",
       "3          -1.393694              -3.540332  -1.286180   -1.779559   \n",
       "4          -3.301917              -4.580625  -4.670382   -4.285440   \n",
       "\n",
       "metabolite  acetyl-CoA_pos  beta-hydroxybutyrate    dGDP.1  \\\n",
       "0                -5.926340             -8.979504 -3.370416   \n",
       "1                -7.654659             -7.445284 -6.780270   \n",
       "2                -5.907430             -9.640908 -4.013263   \n",
       "3                -5.988246             -7.437343 -4.498110   \n",
       "4                -6.373278             -8.801787 -5.142975   \n",
       "\n",
       "metabolite  glutathione disulfide_pos  sn-glycerol-3-phosphate.1  \n",
       "0                           -1.282907                  -5.668776  \n",
       "1                           -4.347206                  -6.295892  \n",
       "2                           -1.881817                  -6.096684  \n",
       "3                           -1.877280                  -6.322114  \n",
       "4                           -2.409548                  -6.684200  \n",
       "\n",
       "[5 rows x 163 columns]"
      ]
     },
     "execution_count": 127,
     "metadata": {},
     "output_type": "execute_result"
    }
   ],
   "source": [
    "data_pivot = data_all.pivot(index=['name', 'treatment'], columns='metabolite', values=data_all.columns[-2])\n",
    "\n",
    "\n",
    "data_pivot = data_pivot.reset_index().dropna(axis=1, thresh=0.9*data_pivot.shape[0]).fillna(1e-3*np.min(np.abs(data_all.iloc[:,-2])))\n",
    "\n",
    "data_pivot['treatment'] = LabelEncoder().fit_transform(data_pivot['treatment'])\n",
    "data_pivot.head()"
   ]
  },
  {
   "cell_type": "code",
   "execution_count": null,
   "metadata": {},
   "outputs": [],
   "source": []
  },
  {
   "cell_type": "code",
   "execution_count": 128,
   "metadata": {},
   "outputs": [
    {
     "data": {
      "text/plain": [
       "161"
      ]
     },
     "execution_count": 128,
     "metadata": {},
     "output_type": "execute_result"
    }
   ],
   "source": [
    "metabolites_ok = list(data_pivot.columns[2:])\n",
    "tot_metabolites = len(metabolites_ok)\n",
    "tot_metabolites"
   ]
  },
  {
   "cell_type": "markdown",
   "metadata": {},
   "source": [
    "### Dimensionality Reduction"
   ]
  },
  {
   "cell_type": "code",
   "execution_count": 129,
   "metadata": {},
   "outputs": [
    {
     "name": "stderr",
     "output_type": "stream",
     "text": [
      "c:\\Users\\ibern\\AppData\\Local\\Programs\\Python\\Python311\\Lib\\site-packages\\sklearn\\cross_decomposition\\_pls.py:302: UserWarning: Y residual is constant at iteration 19\n",
      "  warnings.warn(f\"Y residual is constant at iteration {k}\")\n"
     ]
    }
   ],
   "source": [
    "from sklearn.cross_decomposition import PLSRegression\n",
    "\n",
    "pls2_treatment = PLSRegression(n_components=32, scale = False)\n",
    "pls2_date = PLSRegression(n_components=32, scale = False)\n",
    "data_pls2_treatment = pls2_treatment.fit_transform(data_pivot.values[:,2:], data_pivot['treatment'].values)"
   ]
  },
  {
   "cell_type": "code",
   "execution_count": 130,
   "metadata": {},
   "outputs": [
    {
     "name": "stdout",
     "output_type": "stream",
     "text": [
      "(32, 2)\n"
     ]
    }
   ],
   "source": [
    "p_values_pls2 = [\n",
    "    [\n",
    "        d,\n",
    "        ttest_ind(data_pls2_treatment[0][data_pivot['treatment']==0, d], data_pls2_treatment[0][data_pivot['treatment']==1, d])[1],\n",
    "    ]\n",
    "    for d in range(data_pls2_treatment[0].shape[1])\n",
    "]\n",
    "p_values_pls2 = np.asarray(p_values_pls2)\n",
    "print(p_values_pls2.shape)"
   ]
  },
  {
   "cell_type": "code",
   "execution_count": 139,
   "metadata": {},
   "outputs": [
    {
     "name": "stderr",
     "output_type": "stream",
     "text": [
      "No artists with labels found to put in legend.  Note that artists whose label start with an underscore are ignored when legend() is called with no argument.\n"
     ]
    },
    {
     "data": {
      "image/png": "[encoded data removed]",
      "text/plain": [
       "<Figure size 1400x800 with 1 Axes>"
      ]
     },
     "metadata": {},
     "output_type": "display_data"
    }
   ],
   "source": [
    "fig = plt.figure(figsize=(14,8))\n",
    "plt.scatter(data_pls2_treatment[0][data_pivot['treatment']==0, 1], data_pls2_treatment[0][data_pivot['treatment']==0, 2],c=\"red\")\n",
    "plt.scatter(data_pls2_treatment[0][data_pivot['treatment']==1, 1], data_pls2_treatment[0][data_pivot['treatment']==1, 2],c=\"blue\")\n",
    "plt.legend()\n",
    "plt.title('Representation of samples in PLS space', fontdict={'fontsize':18})\n",
    "plt.tick_params(axis='both', which='major', labelsize=12)\n",
    "plt.xlabel('PLS1', fontdict={'fontsize':14})\n",
    "plt.ylabel('PLS2', fontdict={'fontsize':14})\n",
    "fig.savefig(os.path.join(data_path,\"mb-sample_distribution_PLS_space\"+test_enc_name_new+\".png\"), format='png', facecolor='w', dpi=100)"
   ]
  },
  {
   "cell_type": "code",
   "execution_count": 140,
   "metadata": {},
   "outputs": [
    {
     "name": "stdout",
     "output_type": "stream",
     "text": [
      "1 significant pc with respect to TREATMENT\n",
      "[1]\n"
     ]
    }
   ],
   "source": [
    "print(f'{np.sum(p_values_pls2[:,1]<0.05)} significant pc with respect to TREATMENT')\n",
    "\n",
    "significant_pc_pls2_treatment = np.where(p_values_pls2[:,1]<0.05)[0]\n",
    "print(significant_pc_pls2_treatment)"
   ]
  },
  {
   "cell_type": "code",
   "execution_count": 141,
   "metadata": {},
   "outputs": [],
   "source": [
    "significant_components_pls2_treatment = pls2_treatment.x_weights_.T[significant_pc_pls2_treatment,:]\n",
    "max_values_pls2_treatment = np.max(np.abs(significant_components_pls2_treatment), axis = 0)"
   ]
  },
  {
   "cell_type": "code",
   "execution_count": 142,
   "metadata": {},
   "outputs": [],
   "source": [
    "ths_pls2_treatment = np.percentile(np.abs(pls2_treatment.x_weights_.T.flatten()), THRESHOLD)"
   ]
  },
  {
   "cell_type": "code",
   "execution_count": 143,
   "metadata": {},
   "outputs": [],
   "source": [
    "tot_metabolites = data_pivot.shape[1] - 2"
   ]
  },
  {
   "cell_type": "code",
   "execution_count": 144,
   "metadata": {},
   "outputs": [
    {
     "name": "stdout",
     "output_type": "stream",
     "text": [
      "61 (37.89% of original total) significant metabolites found\n"
     ]
    }
   ],
   "source": [
    "idx_significant_metabolites_pls2_treatment = np.where(max_values_pls2_treatment>ths_pls2_treatment)[0]\n",
    "n_significant_metabolites_pls2_treatment = len(idx_significant_metabolites_pls2_treatment)\n",
    "print(f'{n_significant_metabolites_pls2_treatment} ({n_significant_metabolites_pls2_treatment/tot_metabolites*100:.2f}% of original total) significant metabolites found')\n",
    "significant_metabolites_pls2_treatment = [metabolites_ok[i] for i in idx_significant_metabolites_pls2_treatment]\n"
   ]
  },
  {
   "cell_type": "code",
   "execution_count": 145,
   "metadata": {},
   "outputs": [],
   "source": [
    "with open(os.path.join('results','significant_metabolites_pls2_treatment'+test_enc_name_new+'.txt'), 'w+') as f:\n",
    "    for l in significant_metabolites_pls2_treatment:\n",
    "        f.write(l+'\\n')"
   ]
  },
  {
   "cell_type": "code",
   "execution_count": null,
   "metadata": {},
   "outputs": [],
   "source": []
  }
 ],
 "metadata": {
  "kernelspec": {
   "display_name": "Python 3",
   "language": "python",
   "name": "python3"
  },
  "language_info": {
   "codemirror_mode": {
    "name": "ipython",
    "version": 3
   },
   "file_extension": ".py",
   "mimetype": "text/x-python",
   "name": "python",
   "nbconvert_exporter": "python",
   "pygments_lexer": "ipython3",
   "version": "3.11.4"
  }
 },
 "nbformat": 4,
 "nbformat_minor": 2
}
