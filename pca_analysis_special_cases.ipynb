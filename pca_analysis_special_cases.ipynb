{
 "cells": [
  {
   "cell_type": "code",
   "execution_count": 1,
   "metadata": {},
   "outputs": [],
   "source": [
    "import pandas as pd\n",
    "import numpy as np\n",
    "import matplotlib.pyplot as plt\n",
    "import seaborn as sns\n",
    "from sklearn.decomposition import PCA\n",
    "from sklearn.preprocessing import StandardScaler, LabelEncoder, MinMaxScaler\n",
    "from sklearn.feature_selection import SelectKBest, f_classif\n",
    "from scipy.stats import ttest_ind\n",
    "import json\n",
    "import os"
   ]
  },
  {
   "cell_type": "markdown",
   "metadata": {},
   "source": [
    "# Set options"
   ]
  },
  {
   "cell_type": "code",
   "execution_count": 2,
   "metadata": {},
   "outputs": [],
   "source": [
    "THRESHOLD = 80\n",
    "batch_corrected = True\n",
    "nan_remove = True\n",
    "scaler_term = 'minmax'\n",
    "scaler = MinMaxScaler() if scaler_term=='minmax' else StandardScaler()\n",
    "\n",
    "test_enc_name = '_BatchCor'+str(batch_corrected)+'_NanRem'+str(nan_remove)+'_'+str(scaler_term)"
   ]
  },
  {
   "cell_type": "markdown",
   "metadata": {},
   "source": [
    "# Load config files"
   ]
  },
  {
   "cell_type": "code",
   "execution_count": 3,
   "metadata": {},
   "outputs": [],
   "source": [
    "with open('data/paths.json','r') as f:\n",
    "    paths = json.load(f)\n",
    "\n",
    "data_path = paths[\"data_path\"]"
   ]
  },
  {
   "cell_type": "markdown",
   "metadata": {},
   "source": [
    "# Get data"
   ]
  },
  {
   "cell_type": "code",
   "execution_count": 4,
   "metadata": {},
   "outputs": [
    {
     "data": {
      "text/html": [
       "<div>\n",
       "<style scoped>\n",
       "    .dataframe tbody tr th:only-of-type {\n",
       "        vertical-align: middle;\n",
       "    }\n",
       "\n",
       "    .dataframe tbody tr th {\n",
       "        vertical-align: top;\n",
       "    }\n",
       "\n",
       "    .dataframe thead th {\n",
       "        text-align: right;\n",
       "    }\n",
       "</style>\n",
       "<table border=\"1\" class=\"dataframe\">\n",
       "  <thead>\n",
       "    <tr style=\"text-align: right;\">\n",
       "      <th></th>\n",
       "      <th>Sample Number</th>\n",
       "      <th>Sample Submission Date</th>\n",
       "      <th>Sample Name</th>\n",
       "      <th>Sex</th>\n",
       "      <th>Tissue weight (mg)</th>\n",
       "      <th>Treatment</th>\n",
       "      <th>Tissue Type</th>\n",
       "      <th>PND</th>\n",
       "      <th>Litter</th>\n",
       "      <th>Individual Lipid Species</th>\n",
       "      <th>Lipid Class</th>\n",
       "      <th>MRM Transition of each lipid species\\n(Parent ion / Fragment ion)</th>\n",
       "      <th>Lipid Species used as Internal Standard</th>\n",
       "      <th>Retention Time\\n(min)</th>\n",
       "      <th>UNCORRECTED\\nPeak Area of Lipid Species</th>\n",
       "      <th>UNCORRECTED\\nPeak Area of Internal Standard</th>\n",
       "      <th>UNCORRECTED\\nNormalized Peak Area (Peak Area of Lipid Species / (Peak Area of Internal Standard * Tissue weight))</th>\n",
       "      <th>BATCH CORRECTED\\nPeak Area of Lipid Species</th>\n",
       "      <th>BATCH CORRECTED\\nPeak Area of Internal Standard</th>\n",
       "      <th>BATCH CORRECTED\\nNormalized Peak Area (Peak Area of Lipid Species / (Peak Area of Internal Standard * Tissue weight))</th>\n",
       "    </tr>\n",
       "  </thead>\n",
       "  <tbody>\n",
       "    <tr>\n",
       "      <th>82147</th>\n",
       "      <td>83</td>\n",
       "      <td>11/2022</td>\n",
       "      <td>T36F3</td>\n",
       "      <td>F</td>\n",
       "      <td>84</td>\n",
       "      <td>deltamethrin</td>\n",
       "      <td>striatum</td>\n",
       "      <td>60</td>\n",
       "      <td>T36</td>\n",
       "      <td>PG(20:0_20:4)-H</td>\n",
       "      <td>PG</td>\n",
       "      <td>825.6 / 303.2</td>\n",
       "      <td>PG(15:0_18:1)-Hd7_SPLASH.IS</td>\n",
       "      <td>0.0</td>\n",
       "      <td>NaN</td>\n",
       "      <td>4986258.0</td>\n",
       "      <td>NaN</td>\n",
       "      <td>NaN</td>\n",
       "      <td>71757909.0</td>\n",
       "      <td>NaN</td>\n",
       "    </tr>\n",
       "    <tr>\n",
       "      <th>82148</th>\n",
       "      <td>83</td>\n",
       "      <td>11/2022</td>\n",
       "      <td>T36F3</td>\n",
       "      <td>F</td>\n",
       "      <td>84</td>\n",
       "      <td>deltamethrin</td>\n",
       "      <td>striatum</td>\n",
       "      <td>60</td>\n",
       "      <td>T36</td>\n",
       "      <td>PG(20:0_20:5)-H</td>\n",
       "      <td>PG</td>\n",
       "      <td>823.5 / 301.2</td>\n",
       "      <td>PG(15:0_18:1)-Hd7_SPLASH.IS</td>\n",
       "      <td>0.0</td>\n",
       "      <td>NaN</td>\n",
       "      <td>4986258.0</td>\n",
       "      <td>NaN</td>\n",
       "      <td>NaN</td>\n",
       "      <td>71757909.0</td>\n",
       "      <td>NaN</td>\n",
       "    </tr>\n",
       "    <tr>\n",
       "      <th>82149</th>\n",
       "      <td>83</td>\n",
       "      <td>11/2022</td>\n",
       "      <td>T36F3</td>\n",
       "      <td>F</td>\n",
       "      <td>84</td>\n",
       "      <td>deltamethrin</td>\n",
       "      <td>striatum</td>\n",
       "      <td>60</td>\n",
       "      <td>T36</td>\n",
       "      <td>PG(20:0_22:4)-H</td>\n",
       "      <td>PG</td>\n",
       "      <td>853.6 / 331.3</td>\n",
       "      <td>PG(15:0_18:1)-Hd7_SPLASH.IS</td>\n",
       "      <td>0.0</td>\n",
       "      <td>NaN</td>\n",
       "      <td>4986258.0</td>\n",
       "      <td>NaN</td>\n",
       "      <td>NaN</td>\n",
       "      <td>71757909.0</td>\n",
       "      <td>NaN</td>\n",
       "    </tr>\n",
       "    <tr>\n",
       "      <th>82150</th>\n",
       "      <td>83</td>\n",
       "      <td>11/2022</td>\n",
       "      <td>T36F3</td>\n",
       "      <td>F</td>\n",
       "      <td>84</td>\n",
       "      <td>deltamethrin</td>\n",
       "      <td>striatum</td>\n",
       "      <td>60</td>\n",
       "      <td>T36</td>\n",
       "      <td>PG(20:0_22:5)-H</td>\n",
       "      <td>PG</td>\n",
       "      <td>851.6 / 329.2</td>\n",
       "      <td>PG(15:0_18:1)-Hd7_SPLASH.IS</td>\n",
       "      <td>0.0</td>\n",
       "      <td>NaN</td>\n",
       "      <td>4986258.0</td>\n",
       "      <td>NaN</td>\n",
       "      <td>NaN</td>\n",
       "      <td>71757909.0</td>\n",
       "      <td>NaN</td>\n",
       "    </tr>\n",
       "    <tr>\n",
       "      <th>82151</th>\n",
       "      <td>83</td>\n",
       "      <td>11/2022</td>\n",
       "      <td>T36F3</td>\n",
       "      <td>F</td>\n",
       "      <td>84</td>\n",
       "      <td>deltamethrin</td>\n",
       "      <td>striatum</td>\n",
       "      <td>60</td>\n",
       "      <td>T36</td>\n",
       "      <td>PG(20:0_22:6)-H</td>\n",
       "      <td>PG</td>\n",
       "      <td>849.6 / 327.2</td>\n",
       "      <td>PG(15:0_18:1)-Hd7_SPLASH.IS</td>\n",
       "      <td>0.0</td>\n",
       "      <td>NaN</td>\n",
       "      <td>4986258.0</td>\n",
       "      <td>NaN</td>\n",
       "      <td>NaN</td>\n",
       "      <td>71757909.0</td>\n",
       "      <td>NaN</td>\n",
       "    </tr>\n",
       "  </tbody>\n",
       "</table>\n",
       "</div>"
      ],
      "text/plain": [
       "       Sample Number Sample Submission Date Sample Name Sex  \\\n",
       "82147             83                11/2022       T36F3   F   \n",
       "82148             83                11/2022       T36F3   F   \n",
       "82149             83                11/2022       T36F3   F   \n",
       "82150             83                11/2022       T36F3   F   \n",
       "82151             83                11/2022       T36F3   F   \n",
       "\n",
       "       Tissue weight (mg)     Treatment Tissue Type  PND Litter  \\\n",
       "82147                  84  deltamethrin    striatum   60    T36   \n",
       "82148                  84  deltamethrin    striatum   60    T36   \n",
       "82149                  84  deltamethrin    striatum   60    T36   \n",
       "82150                  84  deltamethrin    striatum   60    T36   \n",
       "82151                  84  deltamethrin    striatum   60    T36   \n",
       "\n",
       "      Individual Lipid Species Lipid Class  \\\n",
       "82147          PG(20:0_20:4)-H          PG   \n",
       "82148          PG(20:0_20:5)-H          PG   \n",
       "82149          PG(20:0_22:4)-H          PG   \n",
       "82150          PG(20:0_22:5)-H          PG   \n",
       "82151          PG(20:0_22:6)-H          PG   \n",
       "\n",
       "      MRM Transition of each lipid species\\n(Parent ion / Fragment ion)  \\\n",
       "82147                                      825.6 / 303.2                  \n",
       "82148                                      823.5 / 301.2                  \n",
       "82149                                      853.6 / 331.3                  \n",
       "82150                                      851.6 / 329.2                  \n",
       "82151                                      849.6 / 327.2                  \n",
       "\n",
       "      Lipid Species used as Internal Standard  Retention Time\\n(min)  \\\n",
       "82147             PG(15:0_18:1)-Hd7_SPLASH.IS                    0.0   \n",
       "82148             PG(15:0_18:1)-Hd7_SPLASH.IS                    0.0   \n",
       "82149             PG(15:0_18:1)-Hd7_SPLASH.IS                    0.0   \n",
       "82150             PG(15:0_18:1)-Hd7_SPLASH.IS                    0.0   \n",
       "82151             PG(15:0_18:1)-Hd7_SPLASH.IS                    0.0   \n",
       "\n",
       "       UNCORRECTED\\nPeak Area of Lipid Species  \\\n",
       "82147                                      NaN   \n",
       "82148                                      NaN   \n",
       "82149                                      NaN   \n",
       "82150                                      NaN   \n",
       "82151                                      NaN   \n",
       "\n",
       "       UNCORRECTED\\nPeak Area of Internal Standard  \\\n",
       "82147                                    4986258.0   \n",
       "82148                                    4986258.0   \n",
       "82149                                    4986258.0   \n",
       "82150                                    4986258.0   \n",
       "82151                                    4986258.0   \n",
       "\n",
       "       UNCORRECTED\\nNormalized Peak Area (Peak Area of Lipid Species / (Peak Area of Internal Standard * Tissue weight))  \\\n",
       "82147                                                NaN                                                                   \n",
       "82148                                                NaN                                                                   \n",
       "82149                                                NaN                                                                   \n",
       "82150                                                NaN                                                                   \n",
       "82151                                                NaN                                                                   \n",
       "\n",
       "       BATCH CORRECTED\\nPeak Area of Lipid Species  \\\n",
       "82147                                          NaN   \n",
       "82148                                          NaN   \n",
       "82149                                          NaN   \n",
       "82150                                          NaN   \n",
       "82151                                          NaN   \n",
       "\n",
       "       BATCH CORRECTED\\nPeak Area of Internal Standard  \\\n",
       "82147                                       71757909.0   \n",
       "82148                                       71757909.0   \n",
       "82149                                       71757909.0   \n",
       "82150                                       71757909.0   \n",
       "82151                                       71757909.0   \n",
       "\n",
       "       BATCH CORRECTED\\nNormalized Peak Area (Peak Area of Lipid Species / (Peak Area of Internal Standard * Tissue weight))  \n",
       "82147                                                NaN                                                                      \n",
       "82148                                                NaN                                                                      \n",
       "82149                                                NaN                                                                      \n",
       "82150                                                NaN                                                                      \n",
       "82151                                                NaN                                                                      "
      ]
     },
     "execution_count": 4,
     "metadata": {},
     "output_type": "execute_result"
    }
   ],
   "source": [
    "df = pd.read_excel(os.path.join(data_path,\"raw_data.xlsx\"))\n",
    "n_classes = len(np.unique(df['Lipid Class']))\n",
    "df.tail()"
   ]
  },
  {
   "cell_type": "code",
   "execution_count": 5,
   "metadata": {},
   "outputs": [
    {
     "data": {
      "text/plain": [
       "(82152, 20)"
      ]
     },
     "execution_count": 5,
     "metadata": {},
     "output_type": "execute_result"
    }
   ],
   "source": [
    "#sum(df.groupby('Sample Name')['Sample Submission Date'].unique() == '11/2022')\n",
    "df['Individual Lipid Species'].nunique()\n",
    "df.shape"
   ]
  },
  {
   "attachments": {},
   "cell_type": "markdown",
   "metadata": {},
   "source": [
    "## COUNTING THE NAN"
   ]
  },
  {
   "cell_type": "code",
   "execution_count": 6,
   "metadata": {},
   "outputs": [
    {
     "name": "stdout",
     "output_type": "stream",
     "text": [
      "Percentage of NAN in First Batch: 46.13643003213556\n",
      "Percentage of NAN in Second Batch: 49.11627227578148\n",
      "Percentage of NAN in First Batch Control: 45.64709319310546 vs Percentage of NAN in First Batch Deltamethrin: 46.62576687116564\n",
      "Percentage of NAN in Second Batch Control: 49.0724510663161 vs Percentage of NAN in Second Batch Deltamethrin: 49.16009348524686\n"
     ]
    }
   ],
   "source": [
    "#with open(os.path.join('data/','significant_lipids_pls2_treatment'+test_enc_name+'.txt'), 'w') as f:\n",
    "nan_in_first_batch = df[df['Sample Submission Date'] == '09/2021']['BATCH CORRECTED\\nNormalized Peak Area (Peak Area of Lipid Species / (Peak Area of Internal Standard * Tissue weight))'].isna().sum()\n",
    "nan_in_second_batch = df[df['Sample Submission Date'] == '11/2022']['BATCH CORRECTED\\nNormalized Peak Area (Peak Area of Lipid Species / (Peak Area of Internal Standard * Tissue weight))'].isna().sum()\n",
    "percentage_nan_first_batch = nan_in_first_batch / len(df[df['Sample Submission Date'] == '09/2021']) * 100\n",
    "percentage_nan_second_batch = nan_in_second_batch / len(df[df['Sample Submission Date'] == '11/2022']) * 100\n",
    "print(f'Percentage of NAN in First Batch: {percentage_nan_first_batch}')\n",
    "print(f'Percentage of NAN in Second Batch: {percentage_nan_second_batch}')\n",
    "\n",
    "nan_in_first_batch_control = df[(df['Sample Submission Date'] == '09/2021') & (df['Treatment'] == 'control')]['BATCH CORRECTED\\nNormalized Peak Area (Peak Area of Lipid Species / (Peak Area of Internal Standard * Tissue weight))'].isna().sum()\n",
    "nan_in_first_batch_deltamethrin = df[(df['Sample Submission Date'] == '09/2021') & (df['Treatment'] == 'deltamethrin')]['BATCH CORRECTED\\nNormalized Peak Area (Peak Area of Lipid Species / (Peak Area of Internal Standard * Tissue weight))'].isna().sum()\n",
    "nan_in_second_batch_control = df[(df['Sample Submission Date'] == '11/2022') & (df['Treatment'] == 'control')]['BATCH CORRECTED\\nNormalized Peak Area (Peak Area of Lipid Species / (Peak Area of Internal Standard * Tissue weight))'].isna().sum()\n",
    "nan_in_second_batch_deltamethrin = df[(df['Sample Submission Date'] == '11/2022') & (df['Treatment'] == 'deltamethrin')]['BATCH CORRECTED\\nNormalized Peak Area (Peak Area of Lipid Species / (Peak Area of Internal Standard * Tissue weight))'].isna().sum()\n",
    "percentage_nan_first_batch_control = nan_in_first_batch_control / len(df[(df['Sample Submission Date'] == '09/2021') & (df['Treatment'] == 'control')]) * 100\n",
    "percentage_nan_first_batch_deltamethrin = nan_in_first_batch_deltamethrin / len(df[(df['Sample Submission Date'] == '09/2021') & (df['Treatment'] == 'deltamethrin')]) * 100\n",
    "percentage_nan_second_batch_control = nan_in_second_batch_control / len(df[(df['Sample Submission Date'] == '11/2022') & (df['Treatment'] == 'control')]) * 100\n",
    "percentage_nan_second_batch_deltamethrin = nan_in_second_batch_deltamethrin / len(df[(df['Sample Submission Date'] == '11/2022') & (df['Treatment'] == 'deltamethrin')]) * 100\n",
    "\n",
    "print(f'Percentage of NAN in First Batch Control: {percentage_nan_first_batch_control} vs Percentage of NAN in First Batch Deltamethrin: {percentage_nan_first_batch_deltamethrin}')\n",
    "print(f'Percentage of NAN in Second Batch Control: {percentage_nan_second_batch_control} vs Percentage of NAN in Second Batch Deltamethrin: {percentage_nan_second_batch_deltamethrin}')\n"
   ]
  },
  {
   "cell_type": "code",
   "execution_count": 32,
   "metadata": {},
   "outputs": [
    {
     "name": "stdout",
     "output_type": "stream",
     "text": [
      "95       14364\n",
      "96       14364\n",
      "97       14364\n",
      "98       14364\n",
      "99       14364\n",
      "         ...  \n",
      "81546    14364\n",
      "81547    14364\n",
      "81548    14364\n",
      "81549    14364\n",
      "81550    14364\n",
      "Name: Nan_Counts_FirstBatch, Length: 32040, dtype: int64\n",
      "95       5834\n",
      "96       5834\n",
      "97       5834\n",
      "98       5834\n",
      "99       5834\n",
      "         ... \n",
      "81546    5834\n",
      "81547    5834\n",
      "81548    5834\n",
      "81549    5834\n",
      "81550    5834\n",
      "Name: Nan_Counts_SecondBatch, Length: 32040, dtype: int64\n"
     ]
    },
    {
     "data": {
      "image/png": "[encoded data removed]",
      "text/plain": [
       "<Figure size 2000x1200 with 1 Axes>"
      ]
     },
     "metadata": {},
     "output_type": "display_data"
    }
   ],
   "source": [
    "#df[df['BATCH CORRECTED\\nNormalized Peak Area (Peak Area of Lipid Species / (Peak Area of Internal Standard * Tissue weight))'] == pd.np.nan].hist(by=df['Lipid Class'])\n",
    "df['Nan_Counts_FirstBatch'] = df[df['Sample Submission Date'] == '09/2021']['BATCH CORRECTED\\nNormalized Peak Area (Peak Area of Lipid Species / (Peak Area of Internal Standard * Tissue weight))'].isnull()\n",
    "df['Nan_Counts_FirstBatch'] = df.groupby('Lipid Class')['Nan_Counts_FirstBatch'].transform('sum').astype(int)\n",
    "df['Nan_Counts_SecondBatch'] = df[df['Sample Submission Date'] == '11/2022']['BATCH CORRECTED\\nNormalized Peak Area (Peak Area of Lipid Species / (Peak Area of Internal Standard * Tissue weight))'].isnull()\n",
    "df['Nan_Counts_SecondBatch'] = df.groupby('Lipid Class')['Nan_Counts_SecondBatch'].transform('sum').astype(int)\n",
    "plt.figure(figsize=(20,12))\n",
    "sns.histplot(df, x='Lipid Class', y='Nan_Counts_SecondBatch')\n",
    "print(df[df['Lipid Class'] == 'TAG']['Nan_Counts_FirstBatch'])\n",
    "print(df[df['Lipid Class'] == 'TAG']['Nan_Counts_SecondBatch'])\n"
   ]
  },
  {
   "cell_type": "code",
   "execution_count": 38,
   "metadata": {},
   "outputs": [
    {
     "data": {
      "text/html": [
       "<div>\n",
       "<style scoped>\n",
       "    .dataframe tbody tr th:only-of-type {\n",
       "        vertical-align: middle;\n",
       "    }\n",
       "\n",
       "    .dataframe tbody tr th {\n",
       "        vertical-align: top;\n",
       "    }\n",
       "\n",
       "    .dataframe thead th {\n",
       "        text-align: right;\n",
       "    }\n",
       "</style>\n",
       "<table border=\"1\" class=\"dataframe\">\n",
       "  <thead>\n",
       "    <tr style=\"text-align: right;\">\n",
       "      <th></th>\n",
       "      <th>Sample Number</th>\n",
       "      <th>Sample Submission Date</th>\n",
       "      <th>Sample Name</th>\n",
       "      <th>Sex</th>\n",
       "      <th>Tissue weight (mg)</th>\n",
       "      <th>Treatment</th>\n",
       "      <th>Tissue Type</th>\n",
       "      <th>PND</th>\n",
       "      <th>Litter</th>\n",
       "      <th>Individual Lipid Species</th>\n",
       "      <th>...</th>\n",
       "      <th>UNCORRECTED\\nPeak Area of Lipid Species</th>\n",
       "      <th>UNCORRECTED\\nPeak Area of Internal Standard</th>\n",
       "      <th>UNCORRECTED\\nNormalized Peak Area (Peak Area of Lipid Species / (Peak Area of Internal Standard * Tissue weight))</th>\n",
       "      <th>BATCH CORRECTED\\nPeak Area of Lipid Species</th>\n",
       "      <th>BATCH CORRECTED\\nPeak Area of Internal Standard</th>\n",
       "      <th>BATCH CORRECTED\\nNormalized Peak Area (Peak Area of Lipid Species / (Peak Area of Internal Standard * Tissue weight))</th>\n",
       "      <th>Nan_Counts</th>\n",
       "      <th>Nan_Counts_FirstBatch</th>\n",
       "      <th>Nan_Counts_SecondBatch</th>\n",
       "      <th>nan</th>\n",
       "    </tr>\n",
       "  </thead>\n",
       "  <tbody>\n",
       "    <tr>\n",
       "      <th>0</th>\n",
       "      <td>1</td>\n",
       "      <td>09/2021</td>\n",
       "      <td>C20M1S</td>\n",
       "      <td>M</td>\n",
       "      <td>56</td>\n",
       "      <td>control</td>\n",
       "      <td>striatum</td>\n",
       "      <td>30</td>\n",
       "      <td>C20</td>\n",
       "      <td>SM(14:0)+H</td>\n",
       "      <td>...</td>\n",
       "      <td>4.116176e+06</td>\n",
       "      <td>6.142877e+07</td>\n",
       "      <td>0.001197</td>\n",
       "      <td>1.963161e+06</td>\n",
       "      <td>4.165659e+07</td>\n",
       "      <td>0.000842</td>\n",
       "      <td>220</td>\n",
       "      <td>148</td>\n",
       "      <td>72</td>\n",
       "      <td>False</td>\n",
       "    </tr>\n",
       "    <tr>\n",
       "      <th>1</th>\n",
       "      <td>1</td>\n",
       "      <td>09/2021</td>\n",
       "      <td>C20M1S</td>\n",
       "      <td>M</td>\n",
       "      <td>56</td>\n",
       "      <td>control</td>\n",
       "      <td>striatum</td>\n",
       "      <td>30</td>\n",
       "      <td>C20</td>\n",
       "      <td>SM(16:0)+H</td>\n",
       "      <td>...</td>\n",
       "      <td>2.433723e+07</td>\n",
       "      <td>6.142877e+07</td>\n",
       "      <td>0.007075</td>\n",
       "      <td>1.490595e+07</td>\n",
       "      <td>4.165659e+07</td>\n",
       "      <td>0.006390</td>\n",
       "      <td>220</td>\n",
       "      <td>148</td>\n",
       "      <td>72</td>\n",
       "      <td>False</td>\n",
       "    </tr>\n",
       "    <tr>\n",
       "      <th>2</th>\n",
       "      <td>1</td>\n",
       "      <td>09/2021</td>\n",
       "      <td>C20M1S</td>\n",
       "      <td>M</td>\n",
       "      <td>56</td>\n",
       "      <td>control</td>\n",
       "      <td>striatum</td>\n",
       "      <td>30</td>\n",
       "      <td>C20</td>\n",
       "      <td>SM(18:0)+H</td>\n",
       "      <td>...</td>\n",
       "      <td>1.432478e+08</td>\n",
       "      <td>6.142877e+07</td>\n",
       "      <td>0.041642</td>\n",
       "      <td>8.628739e+07</td>\n",
       "      <td>4.165659e+07</td>\n",
       "      <td>0.036989</td>\n",
       "      <td>220</td>\n",
       "      <td>148</td>\n",
       "      <td>72</td>\n",
       "      <td>False</td>\n",
       "    </tr>\n",
       "    <tr>\n",
       "      <th>3</th>\n",
       "      <td>1</td>\n",
       "      <td>09/2021</td>\n",
       "      <td>C20M1S</td>\n",
       "      <td>M</td>\n",
       "      <td>56</td>\n",
       "      <td>control</td>\n",
       "      <td>striatum</td>\n",
       "      <td>30</td>\n",
       "      <td>C20</td>\n",
       "      <td>SM(18:1)+H</td>\n",
       "      <td>...</td>\n",
       "      <td>1.268323e+08</td>\n",
       "      <td>6.142877e+07</td>\n",
       "      <td>0.036870</td>\n",
       "      <td>1.080535e+08</td>\n",
       "      <td>4.165659e+07</td>\n",
       "      <td>0.046320</td>\n",
       "      <td>220</td>\n",
       "      <td>148</td>\n",
       "      <td>72</td>\n",
       "      <td>False</td>\n",
       "    </tr>\n",
       "    <tr>\n",
       "      <th>4</th>\n",
       "      <td>1</td>\n",
       "      <td>09/2021</td>\n",
       "      <td>C20M1S</td>\n",
       "      <td>M</td>\n",
       "      <td>56</td>\n",
       "      <td>control</td>\n",
       "      <td>striatum</td>\n",
       "      <td>30</td>\n",
       "      <td>C20</td>\n",
       "      <td>SM(20:0)+H</td>\n",
       "      <td>...</td>\n",
       "      <td>5.419340e+06</td>\n",
       "      <td>6.142877e+07</td>\n",
       "      <td>0.001575</td>\n",
       "      <td>2.723486e+06</td>\n",
       "      <td>4.165659e+07</td>\n",
       "      <td>0.001167</td>\n",
       "      <td>220</td>\n",
       "      <td>148</td>\n",
       "      <td>72</td>\n",
       "      <td>False</td>\n",
       "    </tr>\n",
       "  </tbody>\n",
       "</table>\n",
       "<p>5 rows × 24 columns</p>\n",
       "</div>"
      ],
      "text/plain": [
       "   Sample Number Sample Submission Date Sample Name Sex  Tissue weight (mg)  \\\n",
       "0              1                09/2021      C20M1S   M                  56   \n",
       "1              1                09/2021      C20M1S   M                  56   \n",
       "2              1                09/2021      C20M1S   M                  56   \n",
       "3              1                09/2021      C20M1S   M                  56   \n",
       "4              1                09/2021      C20M1S   M                  56   \n",
       "\n",
       "  Treatment Tissue Type  PND Litter Individual Lipid Species  ...  \\\n",
       "0   control    striatum   30    C20               SM(14:0)+H  ...   \n",
       "1   control    striatum   30    C20               SM(16:0)+H  ...   \n",
       "2   control    striatum   30    C20               SM(18:0)+H  ...   \n",
       "3   control    striatum   30    C20               SM(18:1)+H  ...   \n",
       "4   control    striatum   30    C20               SM(20:0)+H  ...   \n",
       "\n",
       "  UNCORRECTED\\nPeak Area of Lipid Species  \\\n",
       "0                            4.116176e+06   \n",
       "1                            2.433723e+07   \n",
       "2                            1.432478e+08   \n",
       "3                            1.268323e+08   \n",
       "4                            5.419340e+06   \n",
       "\n",
       "  UNCORRECTED\\nPeak Area of Internal Standard  \\\n",
       "0                                6.142877e+07   \n",
       "1                                6.142877e+07   \n",
       "2                                6.142877e+07   \n",
       "3                                6.142877e+07   \n",
       "4                                6.142877e+07   \n",
       "\n",
       "  UNCORRECTED\\nNormalized Peak Area (Peak Area of Lipid Species / (Peak Area of Internal Standard * Tissue weight))  \\\n",
       "0                                           0.001197                                                                  \n",
       "1                                           0.007075                                                                  \n",
       "2                                           0.041642                                                                  \n",
       "3                                           0.036870                                                                  \n",
       "4                                           0.001575                                                                  \n",
       "\n",
       "   BATCH CORRECTED\\nPeak Area of Lipid Species  \\\n",
       "0                                 1.963161e+06   \n",
       "1                                 1.490595e+07   \n",
       "2                                 8.628739e+07   \n",
       "3                                 1.080535e+08   \n",
       "4                                 2.723486e+06   \n",
       "\n",
       "   BATCH CORRECTED\\nPeak Area of Internal Standard  \\\n",
       "0                                     4.165659e+07   \n",
       "1                                     4.165659e+07   \n",
       "2                                     4.165659e+07   \n",
       "3                                     4.165659e+07   \n",
       "4                                     4.165659e+07   \n",
       "\n",
       "   BATCH CORRECTED\\nNormalized Peak Area (Peak Area of Lipid Species / (Peak Area of Internal Standard * Tissue weight))  \\\n",
       "0                                           0.000842                                                                       \n",
       "1                                           0.006390                                                                       \n",
       "2                                           0.036989                                                                       \n",
       "3                                           0.046320                                                                       \n",
       "4                                           0.001167                                                                       \n",
       "\n",
       "   Nan_Counts  Nan_Counts_FirstBatch  Nan_Counts_SecondBatch    nan  \n",
       "0         220                    148                      72  False  \n",
       "1         220                    148                      72  False  \n",
       "2         220                    148                      72  False  \n",
       "3         220                    148                      72  False  \n",
       "4         220                    148                      72  False  \n",
       "\n",
       "[5 rows x 24 columns]"
      ]
     },
     "execution_count": 38,
     "metadata": {},
     "output_type": "execute_result"
    }
   ],
   "source": [
    "df['nan'] = df['BATCH CORRECTED\\nNormalized Peak Area (Peak Area of Lipid Species / (Peak Area of Internal Standard * Tissue weight))'].isnull()\n",
    "df.groupby('Lipid Class')['nan'].sum()\n",
    "df.head()"
   ]
  },
  {
   "cell_type": "markdown",
   "metadata": {},
   "source": [
    "## Select normalized or unnormalized data"
   ]
  },
  {
   "cell_type": "code",
   "execution_count": 6,
   "metadata": {},
   "outputs": [
    {
     "data": {
      "text/html": [
       "<div>\n",
       "<style scoped>\n",
       "    .dataframe tbody tr th:only-of-type {\n",
       "        vertical-align: middle;\n",
       "    }\n",
       "\n",
       "    .dataframe tbody tr th {\n",
       "        vertical-align: top;\n",
       "    }\n",
       "\n",
       "    .dataframe thead th {\n",
       "        text-align: right;\n",
       "    }\n",
       "</style>\n",
       "<table border=\"1\" class=\"dataframe\">\n",
       "  <thead>\n",
       "    <tr style=\"text-align: right;\">\n",
       "      <th></th>\n",
       "      <th>Sample Number</th>\n",
       "      <th>Sample Submission Date</th>\n",
       "      <th>Sample Name</th>\n",
       "      <th>Sex</th>\n",
       "      <th>Tissue weight (mg)</th>\n",
       "      <th>Treatment</th>\n",
       "      <th>Tissue Type</th>\n",
       "      <th>PND</th>\n",
       "      <th>Litter</th>\n",
       "      <th>Individual Lipid Species</th>\n",
       "      <th>Lipid Class</th>\n",
       "      <th>BATCH CORRECTED\\nNormalized Peak Area (Peak Area of Lipid Species / (Peak Area of Internal Standard * Tissue weight))</th>\n",
       "    </tr>\n",
       "  </thead>\n",
       "  <tbody>\n",
       "    <tr>\n",
       "      <th>0</th>\n",
       "      <td>1</td>\n",
       "      <td>09/2021</td>\n",
       "      <td>C20M1S</td>\n",
       "      <td>M</td>\n",
       "      <td>56</td>\n",
       "      <td>control</td>\n",
       "      <td>striatum</td>\n",
       "      <td>30</td>\n",
       "      <td>C20</td>\n",
       "      <td>SM(14:0)+H</td>\n",
       "      <td>SM</td>\n",
       "      <td>0.000842</td>\n",
       "    </tr>\n",
       "    <tr>\n",
       "      <th>1</th>\n",
       "      <td>1</td>\n",
       "      <td>09/2021</td>\n",
       "      <td>C20M1S</td>\n",
       "      <td>M</td>\n",
       "      <td>56</td>\n",
       "      <td>control</td>\n",
       "      <td>striatum</td>\n",
       "      <td>30</td>\n",
       "      <td>C20</td>\n",
       "      <td>SM(16:0)+H</td>\n",
       "      <td>SM</td>\n",
       "      <td>0.006390</td>\n",
       "    </tr>\n",
       "    <tr>\n",
       "      <th>2</th>\n",
       "      <td>1</td>\n",
       "      <td>09/2021</td>\n",
       "      <td>C20M1S</td>\n",
       "      <td>M</td>\n",
       "      <td>56</td>\n",
       "      <td>control</td>\n",
       "      <td>striatum</td>\n",
       "      <td>30</td>\n",
       "      <td>C20</td>\n",
       "      <td>SM(18:0)+H</td>\n",
       "      <td>SM</td>\n",
       "      <td>0.036989</td>\n",
       "    </tr>\n",
       "    <tr>\n",
       "      <th>3</th>\n",
       "      <td>1</td>\n",
       "      <td>09/2021</td>\n",
       "      <td>C20M1S</td>\n",
       "      <td>M</td>\n",
       "      <td>56</td>\n",
       "      <td>control</td>\n",
       "      <td>striatum</td>\n",
       "      <td>30</td>\n",
       "      <td>C20</td>\n",
       "      <td>SM(18:1)+H</td>\n",
       "      <td>SM</td>\n",
       "      <td>0.046320</td>\n",
       "    </tr>\n",
       "    <tr>\n",
       "      <th>4</th>\n",
       "      <td>1</td>\n",
       "      <td>09/2021</td>\n",
       "      <td>C20M1S</td>\n",
       "      <td>M</td>\n",
       "      <td>56</td>\n",
       "      <td>control</td>\n",
       "      <td>striatum</td>\n",
       "      <td>30</td>\n",
       "      <td>C20</td>\n",
       "      <td>SM(20:0)+H</td>\n",
       "      <td>SM</td>\n",
       "      <td>0.001167</td>\n",
       "    </tr>\n",
       "  </tbody>\n",
       "</table>\n",
       "</div>"
      ],
      "text/plain": [
       "   Sample Number Sample Submission Date Sample Name Sex  Tissue weight (mg)  \\\n",
       "0              1                09/2021      C20M1S   M                  56   \n",
       "1              1                09/2021      C20M1S   M                  56   \n",
       "2              1                09/2021      C20M1S   M                  56   \n",
       "3              1                09/2021      C20M1S   M                  56   \n",
       "4              1                09/2021      C20M1S   M                  56   \n",
       "\n",
       "  Treatment Tissue Type  PND Litter Individual Lipid Species Lipid Class  \\\n",
       "0   control    striatum   30    C20               SM(14:0)+H          SM   \n",
       "1   control    striatum   30    C20               SM(16:0)+H          SM   \n",
       "2   control    striatum   30    C20               SM(18:0)+H          SM   \n",
       "3   control    striatum   30    C20               SM(18:1)+H          SM   \n",
       "4   control    striatum   30    C20               SM(20:0)+H          SM   \n",
       "\n",
       "   BATCH CORRECTED\\nNormalized Peak Area (Peak Area of Lipid Species / (Peak Area of Internal Standard * Tissue weight))  \n",
       "0                                           0.000842                                                                      \n",
       "1                                           0.006390                                                                      \n",
       "2                                           0.036989                                                                      \n",
       "3                                           0.046320                                                                      \n",
       "4                                           0.001167                                                                      "
      ]
     },
     "execution_count": 6,
     "metadata": {},
     "output_type": "execute_result"
    }
   ],
   "source": [
    "metadata = df.iloc[:,:11]\n",
    "if batch_corrected:\n",
    "    data = pd.concat([metadata, df.iloc[:,19]],axis=1)\n",
    "else:\n",
    "    data = pd.concat([metadata, df.iloc[:,16]],axis=1)\n",
    "data.head()"
   ]
  },
  {
   "attachments": {},
   "cell_type": "markdown",
   "metadata": {},
   "source": [
    "## Selecting Specific Data"
   ]
  },
  {
   "cell_type": "code",
   "execution_count": 7,
   "metadata": {},
   "outputs": [
    {
     "data": {
      "text/html": [
       "<div>\n",
       "<style scoped>\n",
       "    .dataframe tbody tr th:only-of-type {\n",
       "        vertical-align: middle;\n",
       "    }\n",
       "\n",
       "    .dataframe tbody tr th {\n",
       "        vertical-align: top;\n",
       "    }\n",
       "\n",
       "    .dataframe thead th {\n",
       "        text-align: right;\n",
       "    }\n",
       "</style>\n",
       "<table border=\"1\" class=\"dataframe\">\n",
       "  <thead>\n",
       "    <tr style=\"text-align: right;\">\n",
       "      <th></th>\n",
       "      <th>Sample Number</th>\n",
       "      <th>Sample Submission Date</th>\n",
       "      <th>Sample Name</th>\n",
       "      <th>Sex</th>\n",
       "      <th>Tissue weight (mg)</th>\n",
       "      <th>Treatment</th>\n",
       "      <th>Tissue Type</th>\n",
       "      <th>PND</th>\n",
       "      <th>Litter</th>\n",
       "      <th>Individual Lipid Species</th>\n",
       "      <th>Lipid Class</th>\n",
       "      <th>BATCH CORRECTED\\nNormalized Peak Area (Peak Area of Lipid Species / (Peak Area of Internal Standard * Tissue weight))</th>\n",
       "    </tr>\n",
       "  </thead>\n",
       "  <tbody>\n",
       "    <tr>\n",
       "      <th>0</th>\n",
       "      <td>1</td>\n",
       "      <td>09/2021</td>\n",
       "      <td>C20M1S</td>\n",
       "      <td>M</td>\n",
       "      <td>56</td>\n",
       "      <td>control</td>\n",
       "      <td>striatum</td>\n",
       "      <td>30</td>\n",
       "      <td>C20</td>\n",
       "      <td>SM(14:0)+H</td>\n",
       "      <td>SM</td>\n",
       "      <td>0.000842</td>\n",
       "    </tr>\n",
       "    <tr>\n",
       "      <th>1</th>\n",
       "      <td>1</td>\n",
       "      <td>09/2021</td>\n",
       "      <td>C20M1S</td>\n",
       "      <td>M</td>\n",
       "      <td>56</td>\n",
       "      <td>control</td>\n",
       "      <td>striatum</td>\n",
       "      <td>30</td>\n",
       "      <td>C20</td>\n",
       "      <td>SM(16:0)+H</td>\n",
       "      <td>SM</td>\n",
       "      <td>0.006390</td>\n",
       "    </tr>\n",
       "    <tr>\n",
       "      <th>2</th>\n",
       "      <td>1</td>\n",
       "      <td>09/2021</td>\n",
       "      <td>C20M1S</td>\n",
       "      <td>M</td>\n",
       "      <td>56</td>\n",
       "      <td>control</td>\n",
       "      <td>striatum</td>\n",
       "      <td>30</td>\n",
       "      <td>C20</td>\n",
       "      <td>SM(18:0)+H</td>\n",
       "      <td>SM</td>\n",
       "      <td>0.036989</td>\n",
       "    </tr>\n",
       "    <tr>\n",
       "      <th>3</th>\n",
       "      <td>1</td>\n",
       "      <td>09/2021</td>\n",
       "      <td>C20M1S</td>\n",
       "      <td>M</td>\n",
       "      <td>56</td>\n",
       "      <td>control</td>\n",
       "      <td>striatum</td>\n",
       "      <td>30</td>\n",
       "      <td>C20</td>\n",
       "      <td>SM(18:1)+H</td>\n",
       "      <td>SM</td>\n",
       "      <td>0.046320</td>\n",
       "    </tr>\n",
       "    <tr>\n",
       "      <th>4</th>\n",
       "      <td>1</td>\n",
       "      <td>09/2021</td>\n",
       "      <td>C20M1S</td>\n",
       "      <td>M</td>\n",
       "      <td>56</td>\n",
       "      <td>control</td>\n",
       "      <td>striatum</td>\n",
       "      <td>30</td>\n",
       "      <td>C20</td>\n",
       "      <td>SM(20:0)+H</td>\n",
       "      <td>SM</td>\n",
       "      <td>0.001167</td>\n",
       "    </tr>\n",
       "  </tbody>\n",
       "</table>\n",
       "</div>"
      ],
      "text/plain": [
       "   Sample Number Sample Submission Date Sample Name Sex  Tissue weight (mg)  \\\n",
       "0              1                09/2021      C20M1S   M                  56   \n",
       "1              1                09/2021      C20M1S   M                  56   \n",
       "2              1                09/2021      C20M1S   M                  56   \n",
       "3              1                09/2021      C20M1S   M                  56   \n",
       "4              1                09/2021      C20M1S   M                  56   \n",
       "\n",
       "  Treatment Tissue Type  PND Litter Individual Lipid Species Lipid Class  \\\n",
       "0   control    striatum   30    C20               SM(14:0)+H          SM   \n",
       "1   control    striatum   30    C20               SM(16:0)+H          SM   \n",
       "2   control    striatum   30    C20               SM(18:0)+H          SM   \n",
       "3   control    striatum   30    C20               SM(18:1)+H          SM   \n",
       "4   control    striatum   30    C20               SM(20:0)+H          SM   \n",
       "\n",
       "   BATCH CORRECTED\\nNormalized Peak Area (Peak Area of Lipid Species / (Peak Area of Internal Standard * Tissue weight))  \n",
       "0                                           0.000842                                                                      \n",
       "1                                           0.006390                                                                      \n",
       "2                                           0.036989                                                                      \n",
       "3                                           0.046320                                                                      \n",
       "4                                           0.001167                                                                      "
      ]
     },
     "execution_count": 7,
     "metadata": {},
     "output_type": "execute_result"
    }
   ],
   "source": [
    "data = data[data['Tissue Type'] == 'striatum']\n",
    "data.head()"
   ]
  },
  {
   "cell_type": "markdown",
   "metadata": {},
   "source": [
    "## Organize pivot table"
   ]
  },
  {
   "cell_type": "code",
   "execution_count": 8,
   "metadata": {},
   "outputs": [],
   "source": [
    "data_pivot = data.pivot(index=['Sample Name', 'Sex', 'Treatment', 'PND', 'Tissue Type', 'Sample Submission Date'], columns='Individual Lipid Species', values=data.columns[-1])\n",
    "tot_lipids = data_pivot.shape[1] - 6"
   ]
  },
  {
   "cell_type": "markdown",
   "metadata": {},
   "source": [
    "## Manage NaN"
   ]
  },
  {
   "cell_type": "code",
   "execution_count": 9,
   "metadata": {},
   "outputs": [],
   "source": [
    "if nan_remove:\n",
    "    data_stats = data_pivot.reset_index().dropna(axis=1, thresh=0.9*data_pivot.shape[0]).fillna(1e-3*np.min(np.abs(data.iloc[:,-1])))\n",
    "else:\n",
    "    data_stats = data_pivot.reset_index().fillna(1e-3*np.min(np.abs(data.iloc[:,-1])))\n",
    "data_stats.head()\n",
    "lipids_ok = list(data_stats.columns[6:])"
   ]
  },
  {
   "cell_type": "markdown",
   "metadata": {},
   "source": [
    "## Encode batch"
   ]
  },
  {
   "cell_type": "code",
   "execution_count": 10,
   "metadata": {},
   "outputs": [
    {
     "data": {
      "text/plain": [
       "array([0, 1])"
      ]
     },
     "execution_count": 10,
     "metadata": {},
     "output_type": "execute_result"
    }
   ],
   "source": [
    "data_stats['Sample Submission Date'] = LabelEncoder().fit_transform(data_stats['Sample Submission Date'])\n",
    "data_stats['Treatment'] = LabelEncoder().fit_transform(data_stats['Treatment'])\n",
    "data_stats['Sample Submission Date'].unique()"
   ]
  },
  {
   "cell_type": "markdown",
   "metadata": {},
   "source": [
    "## Log transform"
   ]
  },
  {
   "cell_type": "code",
   "execution_count": 11,
   "metadata": {},
   "outputs": [
    {
     "name": "stdout",
     "output_type": "stream",
     "text": [
      "(48, 379)\n"
     ]
    }
   ],
   "source": [
    "data_np = data_stats.values[:,6:]\n",
    "data_np = np.log10(data_np.astype('float64'))\n",
    "print(data_np.shape)"
   ]
  },
  {
   "cell_type": "markdown",
   "metadata": {},
   "source": [
    "## Visualize data distribution"
   ]
  },
  {
   "cell_type": "code",
   "execution_count": 12,
   "metadata": {},
   "outputs": [
    {
     "data": {
      "image/png": "[encoded data removed]",
      "text/plain": [
       "<Figure size 640x480 with 1 Axes>"
      ]
     },
     "metadata": {},
     "output_type": "display_data"
    }
   ],
   "source": [
    "plt.figure()\n",
    "plt.hist(data_np.flatten())\n",
    "plt.show()"
   ]
  },
  {
   "cell_type": "markdown",
   "metadata": {},
   "source": [
    "# Normalize data"
   ]
  },
  {
   "cell_type": "code",
   "execution_count": 13,
   "metadata": {},
   "outputs": [],
   "source": [
    "data_norm = scaler.fit_transform(data_np)"
   ]
  },
  {
   "cell_type": "markdown",
   "metadata": {},
   "source": [
    "## Visualize normalized data distribution"
   ]
  },
  {
   "cell_type": "code",
   "execution_count": 15,
   "metadata": {},
   "outputs": [
    {
     "data": {
      "image/png": "[encoded data removed]",
      "text/plain": [
       "<Figure size 1400x800 with 1 Axes>"
      ]
     },
     "metadata": {},
     "output_type": "display_data"
    }
   ],
   "source": [
    "fig = plt.figure(figsize=(14,8), dpi=100)\n",
    "plt.hist(data_norm.flatten())\n",
    "plt.title('Normalized Peak Area', fontdict={'fontsize':18})\n",
    "plt.tick_params(axis='both', which='major', labelsize=14)\n",
    "fig.savefig(os.path.join(data_path,\"only-striatum/li-histogram_normalized_peak_area.png\"), format='png', facecolor='w')"
   ]
  },
  {
   "cell_type": "markdown",
   "metadata": {},
   "source": [
    "# PCA"
   ]
  },
  {
   "cell_type": "code",
   "execution_count": 18,
   "metadata": {},
   "outputs": [
    {
     "name": "stdout",
     "output_type": "stream",
     "text": [
      "(36, 36)\n"
     ]
    }
   ],
   "source": [
    "pca = PCA()\n",
    "data_pca = pca.fit_transform(data_norm)\n",
    "print(data_pca.shape)"
   ]
  },
  {
   "cell_type": "markdown",
   "metadata": {},
   "source": [
    "## Latent curve"
   ]
  },
  {
   "cell_type": "code",
   "execution_count": 19,
   "metadata": {},
   "outputs": [
    {
     "data": {
      "image/png": "[encoded data removed]",
      "text/plain": [
       "<Figure size 640x480 with 1 Axes>"
      ]
     },
     "metadata": {},
     "output_type": "display_data"
    }
   ],
   "source": [
    "plt.figure()\n",
    "plt.plot(np.cumsum(pca.explained_variance_ratio_))\n",
    "plt.show()"
   ]
  },
  {
   "cell_type": "markdown",
   "metadata": {},
   "source": [
    "# T-test"
   ]
  },
  {
   "cell_type": "code",
   "execution_count": 20,
   "metadata": {},
   "outputs": [
    {
     "name": "stdout",
     "output_type": "stream",
     "text": [
      "(36, 3)\n"
     ]
    },
    {
     "name": "stderr",
     "output_type": "stream",
     "text": [
      "/tmp/ipykernel_100221/260942847.py:4: RuntimeWarning: Precision loss occurred in moment calculation due to catastrophic cancellation. This occurs when the data are nearly identical. Results may be unreliable.\n",
      "  ttest_ind(data_pca[data_stats['Sample Submission Date']==0, d], data_pca[data_stats['Sample Submission Date']==1, d])[1],\n",
      "/tmp/ipykernel_100221/260942847.py:5: RuntimeWarning: Precision loss occurred in moment calculation due to catastrophic cancellation. This occurs when the data are nearly identical. Results may be unreliable.\n",
      "  ttest_ind(data_pca[data_stats['Treatment']==0, d], data_pca[data_stats['Treatment']==1, d])[1],\n"
     ]
    }
   ],
   "source": [
    "p_values = [\n",
    "    [\n",
    "        d,\n",
    "        ttest_ind(data_pca[data_stats['Sample Submission Date']==0, d], data_pca[data_stats['Sample Submission Date']==1, d])[1],\n",
    "        ttest_ind(data_pca[data_stats['Treatment']==0, d], data_pca[data_stats['Treatment']==1, d])[1],\n",
    "    ]\n",
    "    for d in range(data_pca.shape[1])\n",
    "]\n",
    "p_values = np.asarray(p_values)\n",
    "print(p_values.shape)"
   ]
  },
  {
   "cell_type": "markdown",
   "metadata": {},
   "source": [
    "# Visualize data after PCA"
   ]
  },
  {
   "cell_type": "code",
   "execution_count": 21,
   "metadata": {},
   "outputs": [
    {
     "data": {
      "image/png": "[encoded data removed]",
      "text/plain": [
       "<Figure size 640x480 with 1 Axes>"
      ]
     },
     "metadata": {},
     "output_type": "display_data"
    }
   ],
   "source": [
    "plt.scatter(data_pca[data_stats['Treatment']==0, 14], data_pca[data_stats['Treatment']==0, 21],c=\"red\")\n",
    "plt.scatter(data_pca[data_stats['Treatment']==1, 14], data_pca[data_stats['Treatment']==1, 21],c=\"blue\")\n",
    "plt.show()"
   ]
  },
  {
   "cell_type": "markdown",
   "metadata": {},
   "source": [
    "# Isolate significant PCs"
   ]
  },
  {
   "cell_type": "code",
   "execution_count": 22,
   "metadata": {},
   "outputs": [
    {
     "name": "stdout",
     "output_type": "stream",
     "text": [
      "2 significant pc with respect to date\n",
      "1 significant pc with respect to date\n",
      "0 significant pc with respect to both\n"
     ]
    }
   ],
   "source": [
    "print(f'{np.sum(p_values[:,1]<0.05)} significant pc with respect to date')\n",
    "print(f'{np.sum(p_values[:,2]<0.05)} significant pc with respect to date')\n",
    "print(f'{np.sum((p_values[:,2]<0.05)*(p_values[:,1]<0.05))} significant pc with respect to both')\n",
    "\n",
    "significant_pc = np.where(p_values[:,2]<0.05)[0]"
   ]
  },
  {
   "cell_type": "markdown",
   "metadata": {},
   "source": [
    "# Isolate significant lipids"
   ]
  },
  {
   "cell_type": "code",
   "execution_count": 23,
   "metadata": {},
   "outputs": [
    {
     "name": "stdout",
     "output_type": "stream",
     "text": [
      "(1, 369)\n",
      "(369,)\n"
     ]
    }
   ],
   "source": [
    "significant_components = pca.components_[significant_pc,:]\n",
    "print(significant_components.shape)\n",
    "max_values = np.max(np.abs(significant_components), axis=0)\n",
    "print(max_values.shape)"
   ]
  },
  {
   "cell_type": "code",
   "execution_count": 24,
   "metadata": {},
   "outputs": [
    {
     "name": "stdout",
     "output_type": "stream",
     "text": [
      "71 (6.26% of original total) significant lipids found\n"
     ]
    }
   ],
   "source": [
    "ths = np.percentile(np.abs(pca.components_.flatten()), THRESHOLD)\n",
    "idx_significant_lipids = np.where(max_values>ths)[0]\n",
    "n_significant_lipids = len(idx_significant_lipids)\n",
    "print(f'{n_significant_lipids} ({n_significant_lipids/tot_lipids*100:.2f}% of original total) significant lipids found')\n",
    "significant_lipids = [lipids_ok[i] for i in idx_significant_lipids]"
   ]
  },
  {
   "cell_type": "code",
   "execution_count": 25,
   "metadata": {},
   "outputs": [
    {
     "name": "stdout",
     "output_type": "stream",
     "text": [
      "13 (61.90% of original total) lipid classes found\n",
      "['CER' 'DAG' 'DCER' 'HCER' 'LPC' 'LPE' 'PC' 'PE' 'PG' 'PI' 'PS' 'SM' 'TAG']\n"
     ]
    }
   ],
   "source": [
    "lipid_classes = np.unique([lipids_ok[i].split('(')[0] for i in idx_significant_lipids])\n",
    "print(f'{len(lipid_classes)} ({len(lipid_classes)/n_classes*100:.2f}% of original total) lipid classes found')\n",
    "print(lipid_classes)"
   ]
  },
  {
   "cell_type": "code",
   "execution_count": 26,
   "metadata": {},
   "outputs": [
    {
     "name": "stdout",
     "output_type": "stream",
     "text": [
      "146 (12.86% of original total) date dependent lipids found\n"
     ]
    }
   ],
   "source": [
    "date_pc = np.where(p_values[:,1]<0.05)[0]\n",
    "significant_components = pca.components_[date_pc,:]\n",
    "max_values = np.max(np.abs(significant_components), axis=0)\n",
    "\n",
    "idx_significant_lipids = np.where(max_values>ths)[0]\n",
    "n_significant_lipids = len(idx_significant_lipids)\n",
    "print(f'{n_significant_lipids} ({n_significant_lipids/tot_lipids*100:.2f}% of original total) date dependent lipids found')\n",
    "date_lipids = [lipids_ok[i] for i in idx_significant_lipids]"
   ]
  },
  {
   "cell_type": "markdown",
   "metadata": {},
   "source": [
    "## Save results"
   ]
  },
  {
   "cell_type": "code",
   "execution_count": 28,
   "metadata": {},
   "outputs": [],
   "source": [
    "with open(os.path.join('results/only-females/','significant_lipid'+test_enc_name+'.txt'), 'w') as f:\n",
    "    for l in significant_lipids:\n",
    "        f.write(l+'\\n')\n",
    "\n",
    "with open(os.path.join('results/only-females/','date_lipids'+test_enc_name+'.txt'), 'w') as f:\n",
    "    for l in date_lipids:\n",
    "        f.write(l+'\\n')\n",
    "\n",
    "with open(os.path.join('results/only-females/','significant_lipid_classes'+test_enc_name+'.txt'), 'w') as f:\n",
    "    for l in lipid_classes:\n",
    "        f.write(l+'\\n')"
   ]
  },
  {
   "cell_type": "markdown",
   "metadata": {},
   "source": [
    "### EXAMPLE WITH PARTIAL LEAST SQUARE - DA"
   ]
  },
  {
   "cell_type": "code",
   "execution_count": 16,
   "metadata": {},
   "outputs": [
    {
     "name": "stderr",
     "output_type": "stream",
     "text": [
      "/home/ivan/anaconda3/lib/python3.9/site-packages/sklearn/cross_decomposition/_pls.py:305: UserWarning: Y residual is constant at iteration 39\n",
      "  warnings.warn(f\"Y residual is constant at iteration {k}\")\n",
      "/home/ivan/anaconda3/lib/python3.9/site-packages/sklearn/cross_decomposition/_pls.py:305: UserWarning: Y residual is constant at iteration 39\n",
      "  warnings.warn(f\"Y residual is constant at iteration {k}\")\n"
     ]
    }
   ],
   "source": [
    "from sklearn.cross_decomposition import PLSRegression\n",
    "pls2_treatment = PLSRegression(n_components=72, scale = False)\n",
    "pls2_date = PLSRegression(n_components=72, scale = False)\n",
    "data_pls2_treatment = pls2_treatment.fit_transform(data_norm, data_stats['Treatment'].values)\n",
    "data_pls2_date = pls2_date.fit_transform(data_norm, data_stats['Sample Submission Date'].values)\n"
   ]
  },
  {
   "cell_type": "code",
   "execution_count": 17,
   "metadata": {},
   "outputs": [
    {
     "name": "stdout",
     "output_type": "stream",
     "text": [
      "(72, 3)\n"
     ]
    }
   ],
   "source": [
    "p_values_pls2 = [\n",
    "    [\n",
    "        d,\n",
    "        ttest_ind(data_pls2_treatment[0][data_stats['Sample Submission Date']==0, d], data_pls2_treatment[0][data_stats['Sample Submission Date']==1, d])[1],\n",
    "        ttest_ind(data_pls2_treatment[0][data_stats['Treatment']==0, d], data_pls2_treatment[0][data_stats['Treatment']==1, d])[1],\n",
    "    ]\n",
    "    for d in range(data_pls2_treatment[0].shape[1])\n",
    "]\n",
    "p_values_pls2 = np.asarray(p_values_pls2)\n",
    "print(p_values_pls2.shape)"
   ]
  },
  {
   "cell_type": "code",
   "execution_count": 18,
   "metadata": {},
   "outputs": [
    {
     "data": {
      "text/plain": [
       "array([[ 0.6964803 ,  0.82989065, -1.35629311, ...,  0.        ,\n",
       "         0.        ,  0.        ],\n",
       "       [-2.51771841,  0.06165182,  0.28597811, ...,  0.        ,\n",
       "         0.        ,  0.        ],\n",
       "       [-0.68667748, -0.49631199, -1.96887025, ...,  0.        ,\n",
       "         0.        ,  0.        ],\n",
       "       ...,\n",
       "       [ 1.61699422, -1.31450219, -0.89245654, ...,  0.        ,\n",
       "         0.        ,  0.        ],\n",
       "       [ 0.43894908, -0.00336592, -0.04284723, ...,  0.        ,\n",
       "         0.        ,  0.        ],\n",
       "       [ 1.05832118, -1.31084991,  0.78599769, ...,  0.        ,\n",
       "         0.        ,  0.        ]])"
      ]
     },
     "execution_count": 18,
     "metadata": {},
     "output_type": "execute_result"
    }
   ],
   "source": [
    "data_pls2_treatment[0]  "
   ]
  },
  {
   "cell_type": "code",
   "execution_count": 19,
   "metadata": {},
   "outputs": [
    {
     "name": "stderr",
     "output_type": "stream",
     "text": [
      "No artists with labels found to put in legend.  Note that artists whose label start with an underscore are ignored when legend() is called with no argument.\n"
     ]
    },
    {
     "data": {
      "image/png": "[encoded data removed]",
      "text/plain": [
       "<Figure size 1400x800 with 1 Axes>"
      ]
     },
     "metadata": {},
     "output_type": "display_data"
    }
   ],
   "source": [
    "fig = plt.figure(figsize=(14,8), dpi=100)\n",
    "plt.scatter(data_pls2_treatment[0][data_stats['Treatment']==0, 1], data_pls2_treatment[0][data_stats['Treatment']==0, 2],c=\"red\")\n",
    "plt.scatter(data_pls2_treatment[0][data_stats['Treatment']==1, 1], data_pls2_treatment[0][data_stats['Treatment']==1, 2],c=\"blue\")\n",
    "plt.legend()\n",
    "plt.title('Representation of samples in PLS space', fontdict={'fontsize':18})\n",
    "plt.tick_params(axis='both', which='major', labelsize=12)\n",
    "plt.xlabel('PLS1', fontdict={'fontsize':14})\n",
    "plt.ylabel('PLS2', fontdict={'fontsize':14})\n",
    "fig.savefig(os.path.join(data_path,\"only-striatum/li-sample_distribution_PLS_space.png\"), format='png', facecolor='w', dpi=100)"
   ]
  },
  {
   "cell_type": "code",
   "execution_count": 33,
   "metadata": {},
   "outputs": [
    {
     "data": {
      "image/png": "[encoded data removed]",
      "text/plain": [
       "<Figure size 640x480 with 1 Axes>"
      ]
     },
     "metadata": {},
     "output_type": "display_data"
    }
   ],
   "source": [
    "plt.scatter(data_pls2_date[0][data_stats['Sample Submission Date']==0, 0], data_pls2_date[0][data_stats['Sample Submission Date']==0, 1],c=\"red\")\n",
    "plt.scatter(data_pls2_date[0][data_stats['Sample Submission Date']==1, 0], data_pls2_date[0][data_stats['Sample Submission Date']==1, 1],c=\"blue\")\n",
    "plt.show()"
   ]
  },
  {
   "cell_type": "code",
   "execution_count": 20,
   "metadata": {},
   "outputs": [
    {
     "name": "stdout",
     "output_type": "stream",
     "text": [
      "3 significant pc with respect to date\n",
      "4 significant pc with respect to TREATMENT\n",
      "2 significant pc with respect to both\n",
      "[0 1 2 3]\n",
      "[ 0  1 10]\n"
     ]
    }
   ],
   "source": [
    "print(f'{np.sum(p_values_pls2[:,1]<0.05)} significant pc with respect to date')\n",
    "print(f'{np.sum(p_values_pls2[:,2]<0.05)} significant pc with respect to TREATMENT')\n",
    "print(f'{np.sum((p_values_pls2[:,2]<0.05)*(p_values_pls2[:,1]<0.05))} significant pc with respect to both')\n",
    "\n",
    "significant_pc_pls2_treatment = np.where(p_values_pls2[:,2]<0.05)[0]\n",
    "significant_pc_pls2_date = np.where(p_values_pls2[:,1]<0.05)[0]\n",
    "print(significant_pc_pls2_treatment)\n",
    "print(significant_pc_pls2_date)"
   ]
  },
  {
   "cell_type": "code",
   "execution_count": 21,
   "metadata": {},
   "outputs": [],
   "source": [
    "# we have 372x72 so 372 lypids composing each of the 72 components. We ahve to transapose them and isolate the components identified as the most significants\n",
    "significant_components_pls2_treatment = pls2_treatment.x_weights_.T[significant_pc_pls2_treatment,:]\n",
    "# and then we get the 372 highest lypids avlues acroos all th selcted components\n",
    "max_values_pls2_treatment = np.max(np.abs(significant_components_pls2_treatment), axis = 0)"
   ]
  },
  {
   "cell_type": "code",
   "execution_count": 22,
   "metadata": {},
   "outputs": [],
   "source": [
    "ths_pls2_treatment = np.percentile(np.abs(pls2_treatment.x_weights_.T), THRESHOLD)"
   ]
  },
  {
   "cell_type": "code",
   "execution_count": 23,
   "metadata": {},
   "outputs": [
    {
     "data": {
      "text/plain": [
       "0.043412711282292474"
      ]
     },
     "execution_count": 23,
     "metadata": {},
     "output_type": "execute_result"
    }
   ],
   "source": [
    "ths_pls2_treatment"
   ]
  },
  {
   "cell_type": "code",
   "execution_count": 24,
   "metadata": {},
   "outputs": [
    {
     "name": "stdout",
     "output_type": "stream",
     "text": [
      "331 (29.16% of original total) significant lipids found\n",
      "[  0   1   2   3   4   5   6   7   8   9  11  12  13  14  15  16  17  18\n",
      "  19  20  21  22  24  25  26  27  29  30  31  32  33  34  36  37  38  39\n",
      "  40  41  42  43  44  45  46  47  48  49  51  52  53  54  56  57  58  59\n",
      "  60  61  62  63  64  65  66  67  68  70  71  72  73  74  75  76  77  78\n",
      "  79  80  81  82  83  84  85  86  87  88  89  90  91  92  93  94  95  96\n",
      "  98  99 100 101 102 103 104 105 108 109 110 111 112 113 114 115 117 118\n",
      " 119 120 121 122 123 124 126 127 128 130 131 132 133 134 135 136 137 138\n",
      " 139 140 142 143 144 145 146 147 148 149 150 152 154 155 156 157 158 159\n",
      " 160 161 162 163 164 166 167 168 169 170 171 173 174 175 176 177 178 179\n",
      " 180 181 182 183 184 185 186 187 188 189 190 191 192 193 194 195 196 197\n",
      " 198 199 200 201 202 203 204 205 206 207 208 209 210 211 212 213 214 215\n",
      " 216 217 218 219 220 221 222 223 226 227 228 230 231 232 233 234 235 236\n",
      " 237 239 240 242 243 244 245 246 247 248 249 251 252 253 254 255 256 257\n",
      " 258 259 260 261 262 263 264 265 266 267 270 271 272 273 275 276 277 278\n",
      " 279 280 281 282 283 284 285 287 288 289 291 293 295 297 298 299 300 301\n",
      " 302 303 304 305 306 307 308 312 315 319 320 321 322 323 324 325 326 327\n",
      " 328 329 330 331 332 333 334 335 336 337 339 340 342 343 345 346 347 348\n",
      " 349 350 351 353 354 355 357 358 359 360 361 363 364 365 366 369 370 371\n",
      " 372 373 374 375 376 377 378]\n"
     ]
    }
   ],
   "source": [
    "idx_significant_lipids_pls2_treatment = np.where(max_values_pls2_treatment>ths_pls2_treatment)[0]\n",
    "n_significant_lipids_pls2_treatment = len(idx_significant_lipids_pls2_treatment)\n",
    "print(f'{n_significant_lipids_pls2_treatment} ({n_significant_lipids_pls2_treatment/tot_lipids*100:.2f}% of original total) significant lipids found')\n",
    "significant_lipids_pls2_treatment = [lipids_ok[i] for i in idx_significant_lipids_pls2_treatment]\n",
    "print(idx_significant_lipids_pls2_treatment)"
   ]
  },
  {
   "cell_type": "code",
   "execution_count": 25,
   "metadata": {},
   "outputs": [],
   "source": [
    "#significant_components_pls2_date = pls2_date.x_weights_.T[significant_pc_pls2_date,:]\n",
    "#max_values_pls2_date = np.max(np.abs(significant_components_pls2_date), axis = 0)\n",
    "\n",
    "significant_components_pls2_date = pls2_treatment.x_weights_.T[significant_pc_pls2_date,:]\n",
    "max_values_pls2_date = np.max(np.abs(significant_components_pls2_date), axis = 0)"
   ]
  },
  {
   "cell_type": "code",
   "execution_count": 26,
   "metadata": {},
   "outputs": [],
   "source": [
    "# we actually don'tneed this if we are working with the treatment components\n",
    "#ths_pls2_date = np.percentile(np.abs(pls2_treatment.x_weights_.T), THRESHOLD)"
   ]
  },
  {
   "cell_type": "code",
   "execution_count": 27,
   "metadata": {},
   "outputs": [
    {
     "name": "stdout",
     "output_type": "stream",
     "text": [
      "307 (27.05% of original total) significant lipids found\n"
     ]
    }
   ],
   "source": [
    "\"\"\" idx_significant_lipids_pls2_date = np.where(max_values_pls2_date>ths_pls2_date)[0]\n",
    "n_significant_lipids_pls2_date = len(idx_significant_lipids_pls2_date)\n",
    "print(f'{n_significant_lipids_pls2_date} ({n_significant_lipids_pls2_date/tot_lipids*100:.2f}% of original total) significant lipids found')\n",
    "significant_lipids_pls2_date = [lipids_ok[i] for i in idx_significant_lipids_pls2_date] \"\"\"\n",
    "\n",
    "idx_significant_lipids_pls2_date = np.where(max_values_pls2_date>ths_pls2_treatment)[0]\n",
    "n_significant_lipids_pls2_date = len(idx_significant_lipids_pls2_date)\n",
    "print(f'{n_significant_lipids_pls2_date} ({n_significant_lipids_pls2_date/tot_lipids*100:.2f}% of original total) significant lipids found')\n",
    "significant_lipids_pls2_date = [lipids_ok[i] for i in idx_significant_lipids_pls2_date]"
   ]
  },
  {
   "cell_type": "code",
   "execution_count": 28,
   "metadata": {},
   "outputs": [
    {
     "name": "stdout",
     "output_type": "stream",
     "text": [
      "17 (80.95% of original total) lipid classes found\n",
      "['CE' 'CER' 'DAG' 'DCER' 'HCER' 'LPC' 'LPE' 'LPG' 'LPI' 'MAG' 'PC' 'PE'\n",
      " 'PG' 'PI' 'PS' 'SM' 'TAG']\n"
     ]
    }
   ],
   "source": [
    "lipid_classes_pls2_treatment = np.unique([lipids_ok[i].split('(')[0] for i in idx_significant_lipids_pls2_treatment])\n",
    "print(f'{len(lipid_classes_pls2_treatment)} ({len(lipid_classes_pls2_treatment)/n_classes*100:.2f}% of original total) lipid classes found')\n",
    "print(lipid_classes_pls2_treatment)"
   ]
  },
  {
   "cell_type": "code",
   "execution_count": 29,
   "metadata": {},
   "outputs": [
    {
     "name": "stdout",
     "output_type": "stream",
     "text": [
      "18 (85.71% of original total) lipid classes found\n",
      "['CE' 'CER' 'DAG' 'DCER' 'HCER' 'LPC' 'LPE' 'LPG' 'LPI' 'LPS' 'MAG' 'PC'\n",
      " 'PE' 'PG' 'PI' 'PS' 'SM' 'TAG']\n"
     ]
    }
   ],
   "source": [
    "lipid_classes_pls2_date = np.unique([lipids_ok[i].split('(')[0] for i in idx_significant_lipids_pls2_date])\n",
    "print(f'{len(lipid_classes_pls2_date)} ({len(lipid_classes_pls2_date)/n_classes*100:.2f}% of original total) lipid classes found')\n",
    "print(lipid_classes_pls2_date)"
   ]
  },
  {
   "cell_type": "code",
   "execution_count": 30,
   "metadata": {},
   "outputs": [
    {
     "data": {
      "text/plain": [
       "41"
      ]
     },
     "execution_count": 30,
     "metadata": {},
     "output_type": "execute_result"
    }
   ],
   "source": [
    "unique_set_treatment = set(significant_lipids_pls2_treatment).difference(set(significant_lipids_pls2_date))\n",
    "unique_list_treatment = list(unique_set_treatment)\n",
    "len(unique_list_treatment)"
   ]
  },
  {
   "cell_type": "code",
   "execution_count": 32,
   "metadata": {},
   "outputs": [],
   "source": [
    "with open(os.path.join('results/only-striatum/','significant_lipids_pls2_treatment'+test_enc_name+'.txt'), 'w') as f:\n",
    "    for l in significant_lipids_pls2_treatment:\n",
    "        f.write(l+'\\n')"
   ]
  },
  {
   "cell_type": "code",
   "execution_count": null,
   "metadata": {},
   "outputs": [],
   "source": [
    "with open(os.path.join('results/only-striatum/','significant_lipids_pls2_date'+test_enc_name+'.txt'), 'w') as f:\n",
    "    for l in significant_lipids_pls2_date:\n",
    "        f.write(l+'\\n')"
   ]
  },
  {
   "cell_type": "code",
   "execution_count": null,
   "metadata": {},
   "outputs": [],
   "source": [
    "with open(os.path.join('results/only-striatum/','significant_lipids_pls2_unique_treatment'+test_enc_name+'.txt'), 'w') as f:\n",
    "    for l in unique_list_treatment:\n",
    "        f.write(l+'\\n')"
   ]
  },
  {
   "cell_type": "code",
   "execution_count": null,
   "metadata": {},
   "outputs": [],
   "source": []
  }
 ],
 "metadata": {
  "kernelspec": {
   "display_name": "base",
   "language": "python",
   "name": "python3"
  },
  "language_info": {
   "codemirror_mode": {
    "name": "ipython",
    "version": 3
   },
   "file_extension": ".py",
   "mimetype": "text/x-python",
   "name": "python",
   "nbconvert_exporter": "python",
   "pygments_lexer": "ipython3",
   "version": "3.9.13"
  },
  "orig_nbformat": 4,
  "vscode": {
   "interpreter": {
    "hash": "ce96d18428a423c525a3f0ed973f5e48e845aa99864a704e334219c0da2a8fc7"
   }
  }
 },
 "nbformat": 4,
 "nbformat_minor": 2
}
