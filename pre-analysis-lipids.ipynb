{
 "cells": [
  {
   "cell_type": "code",
   "execution_count": 2,
   "metadata": {},
   "outputs": [],
   "source": [
    "import pandas as pd\n",
    "import numpy as np\n",
    "import matplotlib.pyplot as plt\n",
    "import seaborn as sns\n",
    "from sklearn.decomposition import PCA\n",
    "from sklearn.preprocessing import StandardScaler, LabelEncoder, MinMaxScaler\n",
    "from sklearn.feature_selection import SelectKBest, f_classif\n",
    "from scipy.stats import ttest_ind\n",
    "import json\n",
    "import os"
   ]
  },
  {
   "cell_type": "markdown",
   "metadata": {},
   "source": [
    "### Set Options"
   ]
  },
  {
   "cell_type": "code",
   "execution_count": 12,
   "metadata": {},
   "outputs": [],
   "source": [
    "# Set whole=True if we want to analyze the new data and the old data together\n",
    "whole = True\n",
    "\n",
    "THRESHOLD = 80\n",
    "batch_corrected = False\n",
    "zero_remove = True\n",
    "use_plsd_subset = True\n",
    "scaler_term = 'minmax'\n",
    "scaler = MinMaxScaler() if scaler_term=='minmax' else StandardScaler()\n",
    "\n",
    "test_enc_name = '_BatchCor'+str(batch_corrected)+'_NanRem'+str(zero_remove)+'_'+str(scaler_term)\n",
    "test_enc_name_new = '_Whole_'+str(whole)+'_ZeroRem_'+str(zero_remove)+'_PlsdSubset_'+str(use_plsd_subset)"
   ]
  },
  {
   "cell_type": "markdown",
   "metadata": {},
   "source": [
    "### Load Config Files"
   ]
  },
  {
   "cell_type": "code",
   "execution_count": 13,
   "metadata": {},
   "outputs": [],
   "source": [
    "with open('data/paths.json','r') as f:\n",
    "    paths = json.load(f)\n",
    "\n",
    "data_path = paths[\"data_path\"]"
   ]
  },
  {
   "cell_type": "markdown",
   "metadata": {},
   "source": [
    "### Get Data"
   ]
  },
  {
   "cell_type": "code",
   "execution_count": 57,
   "metadata": {},
   "outputs": [],
   "source": [
    "data_new = pd.read_excel(os.path.join(data_path,\"20240109_lipidomics_data.xlsx\"),sheet_name='20240109_lipidomics_data')\n",
    "if whole:\n",
    "    data_old = pd.read_excel(os.path.join(data_path,\"2022_12_Laezza_Mouse_Brain_deltamethrin_COMBINED_LIPIDOMICS_bc.xlsx\"))"
   ]
  },
  {
   "cell_type": "code",
   "execution_count": 58,
   "metadata": {},
   "outputs": [
    {
     "data": {
      "text/plain": [
       "Index(['Sample Number', 'LCMS Name', 'Replicate Number', 'Sample Group',\n",
       "       'Group Number', 'Sample ID', 'Sex', 'Tissue Weight\\n(mg)', 'Treatment',\n",
       "       'Tissue', 'Lipid Name',\n",
       "       'MRM Transition of each Lipid\\n(Parent ion / Fragment ion)',\n",
       "       'Lipid Class', 'Peak Area of Lipid ', 'RT',\n",
       "       'Normalized Peak Area (Peak Area of Lipid/ (Peak Area of Internal Standard * Tissue weight))'],\n",
       "      dtype='object')"
      ]
     },
     "execution_count": 58,
     "metadata": {},
     "output_type": "execute_result"
    }
   ],
   "source": [
    "data_new.columns"
   ]
  },
  {
   "cell_type": "markdown",
   "metadata": {},
   "source": [
    "#### -- We have to filter the old data extracting only males, striatum, PND30 --"
   ]
  },
  {
   "cell_type": "code",
   "execution_count": 60,
   "metadata": {},
   "outputs": [
    {
     "data": {
      "text/plain": [
       "(13692, 17)"
      ]
     },
     "execution_count": 60,
     "metadata": {},
     "output_type": "execute_result"
    }
   ],
   "source": [
    "if whole:\n",
    "    data_old = data_old[data_old['Sex']=='M']\n",
    "    data_old = data_old[data_old['Tissue Type']=='striatum']\n",
    "    data_old = data_old[data_old['PND']==30]\n",
    "\n",
    "data_old.shape"
   ]
  },
  {
   "cell_type": "markdown",
   "metadata": {},
   "source": [
    "### Rename the columns"
   ]
  },
  {
   "cell_type": "code",
   "execution_count": 61,
   "metadata": {},
   "outputs": [],
   "source": [
    "columns_data = ['LCMS Name', 'Tissue Weight\\n(mg)', 'Treatment', 'Lipid Name','Lipid Class','Normalized Peak Area (Peak Area of Lipid/ (Peak Area of Internal Standard * Tissue weight))']\n",
    "columns_old = ['Sample Name', 'Tissue weight (mg)', 'Treatment', 'Individual Lipid Species', 'Lipid Class', 'Normalized Peak Area (Peak Area of Lipid Species / (Peak Area of Internal Standard * Tissue Weight))']\n",
    "columns_new = ['name','weight','treatment','lipid','lipid_class','area']\n",
    "\n",
    "data_new = data_new[columns_data]\n",
    "data_new.columns = columns_new\n",
    "data_new['batch']=1\n",
    "\n",
    "if whole:\n",
    "    data_old = data_old[columns_old]\n",
    "    data_old.columns = columns_new\n",
    "    data_old['batch']=0\n",
    "\n",
    "if whole:\n",
    "    conversion_table = pd.read_excel(os.path.join(data_path,\"2024_01_lipid_naming_conversion.xlsx\"))\n",
    "\n",
    "    for index, row in conversion_table.iterrows():\n",
    "        if not pd.isna(row['Lipidomics version 2 equivalent name']):\n",
    "            data_old.loc[data_old['lipid'] == row['Lipidomics version 1 Method'],'lipid'] = row['Lipidomics version 2 equivalent name']\n",
    "        else:\n",
    "            data_old.loc[data_old['lipid'] == row['Lipidomics version 1 Method'],'lipid'] = row['Lipidomics version 1 Method']\n",
    "\n",
    "    # We want to keep just the lipids that are common among the two batches\n",
    "    common_lipids = conversion_table['Lipidomics version 2 equivalent name'].unique()\n",
    "    data_old = data_old[data_old['lipid'].isin(common_lipids)]\n",
    "    \n",
    "\n",
    "if whole:\n",
    "    data_all = pd.concat([data_new, data_old], axis=0)\n",
    "    data_all = data_all[data_all['area']!=0]\n",
    "else:\n",
    "    data_all = data_new.copy()\n",
    "\n",
    "if zero_remove:\n",
    "    data_all = data_all[data_all['area'] != 0]\n",
    "else:\n",
    "    data_temp = data_all[data_all['area'] != 0]\n",
    "    data_all['area'].replace(0,np.min(np.abs(data_temp['area'])), inplace=True)    \n",
    "\n",
    "data_all['area'] = np.log(data_all['area'])"
   ]
  },
  {
   "cell_type": "markdown",
   "metadata": {},
   "source": [
    "### Conversion  between old lipids and new lipids"
   ]
  },
  {
   "cell_type": "code",
   "execution_count": 63,
   "metadata": {},
   "outputs": [],
   "source": [
    "\n",
    "data_all.to_csv(os.path.join(data_path,'complete_data.csv'),index=False)"
   ]
  },
  {
   "cell_type": "code",
   "execution_count": 64,
   "metadata": {},
   "outputs": [],
   "source": [
    "data_all = data_all[data_all['name'] != '20231228_Laezza_Lipidomics_PQC #6']"
   ]
  },
  {
   "cell_type": "code",
   "execution_count": 65,
   "metadata": {},
   "outputs": [
    {
     "name": "stdout",
     "output_type": "stream",
     "text": [
      "32\n"
     ]
    }
   ],
   "source": [
    "## number of samples\n",
    "\n",
    "print(len(np.unique(data_all['name'])))"
   ]
  },
  {
   "cell_type": "markdown",
   "metadata": {},
   "source": [
    "### Show some info (metabolites are less than the old data)"
   ]
  },
  {
   "cell_type": "code",
   "execution_count": 66,
   "metadata": {},
   "outputs": [
    {
     "name": "stdout",
     "output_type": "stream",
     "text": [
      "1293\n"
     ]
    }
   ],
   "source": [
    "lipids_list = data_all['lipid'].nunique()\n",
    "print(lipids_list)"
   ]
  },
  {
   "cell_type": "code",
   "execution_count": 67,
   "metadata": {},
   "outputs": [
    {
     "data": {
      "text/html": [
       "<div>\n",
       "<style scoped>\n",
       "    .dataframe tbody tr th:only-of-type {\n",
       "        vertical-align: middle;\n",
       "    }\n",
       "\n",
       "    .dataframe tbody tr th {\n",
       "        vertical-align: top;\n",
       "    }\n",
       "\n",
       "    .dataframe thead th {\n",
       "        text-align: right;\n",
       "    }\n",
       "</style>\n",
       "<table border=\"1\" class=\"dataframe\">\n",
       "  <thead>\n",
       "    <tr style=\"text-align: right;\">\n",
       "      <th></th>\n",
       "      <th>name</th>\n",
       "      <th>weight</th>\n",
       "      <th>treatment</th>\n",
       "      <th>lipid</th>\n",
       "      <th>lipid_class</th>\n",
       "      <th>area</th>\n",
       "      <th>batch</th>\n",
       "    </tr>\n",
       "  </thead>\n",
       "  <tbody>\n",
       "    <tr>\n",
       "      <th>20</th>\n",
       "      <td>20231228_Laezza_Lipidomics_#1</td>\n",
       "      <td>106</td>\n",
       "      <td>control</td>\n",
       "      <td>CE(16:0)</td>\n",
       "      <td>CE</td>\n",
       "      <td>-5.316481</td>\n",
       "      <td>1</td>\n",
       "    </tr>\n",
       "    <tr>\n",
       "      <th>21</th>\n",
       "      <td>20231228_Laezza_Lipidomics_#2</td>\n",
       "      <td>82</td>\n",
       "      <td>control</td>\n",
       "      <td>CE(16:0)</td>\n",
       "      <td>CE</td>\n",
       "      <td>-4.518992</td>\n",
       "      <td>1</td>\n",
       "    </tr>\n",
       "    <tr>\n",
       "      <th>22</th>\n",
       "      <td>20231228_Laezza_Lipidomics_#3</td>\n",
       "      <td>92</td>\n",
       "      <td>control</td>\n",
       "      <td>CE(16:0)</td>\n",
       "      <td>CE</td>\n",
       "      <td>-4.976234</td>\n",
       "      <td>1</td>\n",
       "    </tr>\n",
       "    <tr>\n",
       "      <th>23</th>\n",
       "      <td>20231228_Laezza_Lipidomics_#4</td>\n",
       "      <td>105</td>\n",
       "      <td>control</td>\n",
       "      <td>CE(16:0)</td>\n",
       "      <td>CE</td>\n",
       "      <td>-5.091303</td>\n",
       "      <td>1</td>\n",
       "    </tr>\n",
       "    <tr>\n",
       "      <th>24</th>\n",
       "      <td>20231228_Laezza_Lipidomics_#5</td>\n",
       "      <td>100</td>\n",
       "      <td>control</td>\n",
       "      <td>CE(16:0)</td>\n",
       "      <td>CE</td>\n",
       "      <td>-5.621281</td>\n",
       "      <td>1</td>\n",
       "    </tr>\n",
       "  </tbody>\n",
       "</table>\n",
       "</div>"
      ],
      "text/plain": [
       "                             name  weight treatment     lipid lipid_class  \\\n",
       "20  20231228_Laezza_Lipidomics_#1     106   control  CE(16:0)          CE   \n",
       "21  20231228_Laezza_Lipidomics_#2      82   control  CE(16:0)          CE   \n",
       "22  20231228_Laezza_Lipidomics_#3      92   control  CE(16:0)          CE   \n",
       "23  20231228_Laezza_Lipidomics_#4     105   control  CE(16:0)          CE   \n",
       "24  20231228_Laezza_Lipidomics_#5     100   control  CE(16:0)          CE   \n",
       "\n",
       "        area  batch  \n",
       "20 -5.316481      1  \n",
       "21 -4.518992      1  \n",
       "22 -4.976234      1  \n",
       "23 -5.091303      1  \n",
       "24 -5.621281      1  "
      ]
     },
     "execution_count": 67,
     "metadata": {},
     "output_type": "execute_result"
    }
   ],
   "source": [
    "data_all.head()"
   ]
  },
  {
   "cell_type": "markdown",
   "metadata": {},
   "source": [
    "### Organize PIVOT Table"
   ]
  },
  {
   "cell_type": "code",
   "execution_count": 68,
   "metadata": {},
   "outputs": [
    {
     "data": {
      "text/html": [
       "<div>\n",
       "<style scoped>\n",
       "    .dataframe tbody tr th:only-of-type {\n",
       "        vertical-align: middle;\n",
       "    }\n",
       "\n",
       "    .dataframe tbody tr th {\n",
       "        vertical-align: top;\n",
       "    }\n",
       "\n",
       "    .dataframe thead th {\n",
       "        text-align: right;\n",
       "    }\n",
       "</style>\n",
       "<table border=\"1\" class=\"dataframe\">\n",
       "  <thead>\n",
       "    <tr style=\"text-align: right;\">\n",
       "      <th>lipid</th>\n",
       "      <th>name</th>\n",
       "      <th>treatment</th>\n",
       "      <th>CE(18:2)</th>\n",
       "      <th>CE(20:4)</th>\n",
       "      <th>CE(22:6)</th>\n",
       "      <th>CER(16:0)</th>\n",
       "      <th>CER(18:0)</th>\n",
       "      <th>CER(18:1)</th>\n",
       "      <th>CER(20:0)</th>\n",
       "      <th>CER(20:1)</th>\n",
       "      <th>...</th>\n",
       "      <th>TAG58:8-FA18:1</th>\n",
       "      <th>TAG58:8-FA20:4</th>\n",
       "      <th>TAG58:8-FA22:5</th>\n",
       "      <th>TAG58:8-FA22:6</th>\n",
       "      <th>TAG58:9-FA20:4</th>\n",
       "      <th>TAG58:9-FA22:6</th>\n",
       "      <th>TAG60:10-FA22:6</th>\n",
       "      <th>TAG60:11-FA22:5</th>\n",
       "      <th>TAG60:11-FA22:6</th>\n",
       "      <th>TAG60:12-FA22:6</th>\n",
       "    </tr>\n",
       "  </thead>\n",
       "  <tbody>\n",
       "    <tr>\n",
       "      <th>0</th>\n",
       "      <td>20231228_Laezza_Lipidomics_#1</td>\n",
       "      <td>0</td>\n",
       "      <td>-4.406319</td>\n",
       "      <td>-3.887330</td>\n",
       "      <td>-4.755993</td>\n",
       "      <td>-3.892220</td>\n",
       "      <td>-0.479650</td>\n",
       "      <td>-4.883562</td>\n",
       "      <td>-3.963316</td>\n",
       "      <td>-6.057604</td>\n",
       "      <td>...</td>\n",
       "      <td>-2.780621</td>\n",
       "      <td>-3.283414</td>\n",
       "      <td>-5.456141</td>\n",
       "      <td>-2.763035</td>\n",
       "      <td>-3.721403</td>\n",
       "      <td>-3.107782</td>\n",
       "      <td>-2.354932</td>\n",
       "      <td>-4.045554</td>\n",
       "      <td>-2.918771</td>\n",
       "      <td>-1.584745</td>\n",
       "    </tr>\n",
       "    <tr>\n",
       "      <th>1</th>\n",
       "      <td>20231228_Laezza_Lipidomics_#10</td>\n",
       "      <td>0</td>\n",
       "      <td>-5.432992</td>\n",
       "      <td>-4.448166</td>\n",
       "      <td>-5.701784</td>\n",
       "      <td>-3.897134</td>\n",
       "      <td>-0.468405</td>\n",
       "      <td>-4.747886</td>\n",
       "      <td>-4.057049</td>\n",
       "      <td>-5.799193</td>\n",
       "      <td>...</td>\n",
       "      <td>-3.112266</td>\n",
       "      <td>-3.877622</td>\n",
       "      <td>-5.643629</td>\n",
       "      <td>-3.286085</td>\n",
       "      <td>-4.771225</td>\n",
       "      <td>-3.825845</td>\n",
       "      <td>-2.487711</td>\n",
       "      <td>-4.664920</td>\n",
       "      <td>-3.480241</td>\n",
       "      <td>-1.973281</td>\n",
       "    </tr>\n",
       "    <tr>\n",
       "      <th>2</th>\n",
       "      <td>20231228_Laezza_Lipidomics_#11</td>\n",
       "      <td>1</td>\n",
       "      <td>-4.619269</td>\n",
       "      <td>-4.283087</td>\n",
       "      <td>-4.745582</td>\n",
       "      <td>-4.366153</td>\n",
       "      <td>-0.820981</td>\n",
       "      <td>-5.043675</td>\n",
       "      <td>-4.039856</td>\n",
       "      <td>-6.255430</td>\n",
       "      <td>...</td>\n",
       "      <td>-3.286085</td>\n",
       "      <td>-2.999740</td>\n",
       "      <td>-5.399243</td>\n",
       "      <td>-2.830218</td>\n",
       "      <td>-3.649659</td>\n",
       "      <td>-3.414283</td>\n",
       "      <td>-2.422495</td>\n",
       "      <td>-4.297685</td>\n",
       "      <td>-2.837021</td>\n",
       "      <td>-1.456717</td>\n",
       "    </tr>\n",
       "    <tr>\n",
       "      <th>3</th>\n",
       "      <td>20231228_Laezza_Lipidomics_#12</td>\n",
       "      <td>1</td>\n",
       "      <td>-4.936456</td>\n",
       "      <td>-4.537512</td>\n",
       "      <td>-4.969014</td>\n",
       "      <td>-3.579129</td>\n",
       "      <td>-0.062940</td>\n",
       "      <td>-4.312501</td>\n",
       "      <td>-3.673006</td>\n",
       "      <td>-5.482240</td>\n",
       "      <td>...</td>\n",
       "      <td>-3.384340</td>\n",
       "      <td>-3.040730</td>\n",
       "      <td>-5.672284</td>\n",
       "      <td>-3.049133</td>\n",
       "      <td>-3.767923</td>\n",
       "      <td>-3.759302</td>\n",
       "      <td>-2.660690</td>\n",
       "      <td>-4.439656</td>\n",
       "      <td>-3.186893</td>\n",
       "      <td>-1.783791</td>\n",
       "    </tr>\n",
       "    <tr>\n",
       "      <th>4</th>\n",
       "      <td>20231228_Laezza_Lipidomics_#13</td>\n",
       "      <td>1</td>\n",
       "      <td>-5.190360</td>\n",
       "      <td>-4.297685</td>\n",
       "      <td>-5.899797</td>\n",
       "      <td>-4.086376</td>\n",
       "      <td>-0.648174</td>\n",
       "      <td>-4.546901</td>\n",
       "      <td>-4.382027</td>\n",
       "      <td>-5.987473</td>\n",
       "      <td>...</td>\n",
       "      <td>-3.196625</td>\n",
       "      <td>-3.530168</td>\n",
       "      <td>-5.892525</td>\n",
       "      <td>-3.114516</td>\n",
       "      <td>-4.268698</td>\n",
       "      <td>-3.676951</td>\n",
       "      <td>-2.638058</td>\n",
       "      <td>-4.414550</td>\n",
       "      <td>-2.933697</td>\n",
       "      <td>-1.951928</td>\n",
       "    </tr>\n",
       "  </tbody>\n",
       "</table>\n",
       "<p>5 rows × 343 columns</p>\n",
       "</div>"
      ],
      "text/plain": [
       "lipid                            name  treatment  CE(18:2)  CE(20:4)  \\\n",
       "0       20231228_Laezza_Lipidomics_#1          0 -4.406319 -3.887330   \n",
       "1      20231228_Laezza_Lipidomics_#10          0 -5.432992 -4.448166   \n",
       "2      20231228_Laezza_Lipidomics_#11          1 -4.619269 -4.283087   \n",
       "3      20231228_Laezza_Lipidomics_#12          1 -4.936456 -4.537512   \n",
       "4      20231228_Laezza_Lipidomics_#13          1 -5.190360 -4.297685   \n",
       "\n",
       "lipid  CE(22:6)  CER(16:0)  CER(18:0)  CER(18:1)  CER(20:0)  CER(20:1)  ...  \\\n",
       "0     -4.755993  -3.892220  -0.479650  -4.883562  -3.963316  -6.057604  ...   \n",
       "1     -5.701784  -3.897134  -0.468405  -4.747886  -4.057049  -5.799193  ...   \n",
       "2     -4.745582  -4.366153  -0.820981  -5.043675  -4.039856  -6.255430  ...   \n",
       "3     -4.969014  -3.579129  -0.062940  -4.312501  -3.673006  -5.482240  ...   \n",
       "4     -5.899797  -4.086376  -0.648174  -4.546901  -4.382027  -5.987473  ...   \n",
       "\n",
       "lipid  TAG58:8-FA18:1  TAG58:8-FA20:4  TAG58:8-FA22:5  TAG58:8-FA22:6  \\\n",
       "0           -2.780621       -3.283414       -5.456141       -2.763035   \n",
       "1           -3.112266       -3.877622       -5.643629       -3.286085   \n",
       "2           -3.286085       -2.999740       -5.399243       -2.830218   \n",
       "3           -3.384340       -3.040730       -5.672284       -3.049133   \n",
       "4           -3.196625       -3.530168       -5.892525       -3.114516   \n",
       "\n",
       "lipid  TAG58:9-FA20:4  TAG58:9-FA22:6  TAG60:10-FA22:6  TAG60:11-FA22:5  \\\n",
       "0           -3.721403       -3.107782        -2.354932        -4.045554   \n",
       "1           -4.771225       -3.825845        -2.487711        -4.664920   \n",
       "2           -3.649659       -3.414283        -2.422495        -4.297685   \n",
       "3           -3.767923       -3.759302        -2.660690        -4.439656   \n",
       "4           -4.268698       -3.676951        -2.638058        -4.414550   \n",
       "\n",
       "lipid  TAG60:11-FA22:6  TAG60:12-FA22:6  \n",
       "0            -2.918771        -1.584745  \n",
       "1            -3.480241        -1.973281  \n",
       "2            -2.837021        -1.456717  \n",
       "3            -3.186893        -1.783791  \n",
       "4            -2.933697        -1.951928  \n",
       "\n",
       "[5 rows x 343 columns]"
      ]
     },
     "execution_count": 68,
     "metadata": {},
     "output_type": "execute_result"
    }
   ],
   "source": [
    "\n",
    "\n",
    "data_pivot = data_all.pivot(index=['name', 'treatment'], columns='lipid', values=data_all.columns[-2])\n",
    "\n",
    "data_pivot = data_pivot.reset_index().dropna(axis=1, thresh=0.9*data_pivot.shape[0]).fillna(1e-3*np.min(np.abs(data_all.iloc[:,-2])))\n",
    "\n",
    "data_pivot['treatment'] = LabelEncoder().fit_transform(data_pivot['treatment'])\n",
    "\n",
    "data_pivot.head()"
   ]
  },
  {
   "cell_type": "code",
   "execution_count": 69,
   "metadata": {},
   "outputs": [
    {
     "data": {
      "text/plain": [
       "341"
      ]
     },
     "execution_count": 69,
     "metadata": {},
     "output_type": "execute_result"
    }
   ],
   "source": [
    "lipids_ok = list(data_pivot.columns[2:])\n",
    "tot_lipids = len(lipids_ok)\n",
    "tot_lipids"
   ]
  },
  {
   "cell_type": "code",
   "execution_count": 70,
   "metadata": {},
   "outputs": [
    {
     "data": {
      "text/plain": [
       "Index(['CE(18:2)', 'CE(20:4)', 'CE(22:6)', 'CER(16:0)', 'CER(18:0)',\n",
       "       'CER(18:1)', 'CER(20:0)', 'CER(20:1)', 'CER(22:0)', 'CER(22:1)',\n",
       "       ...\n",
       "       'TAG58:8-FA18:1', 'TAG58:8-FA20:4', 'TAG58:8-FA22:5', 'TAG58:8-FA22:6',\n",
       "       'TAG58:9-FA20:4', 'TAG58:9-FA22:6', 'TAG60:10-FA22:6',\n",
       "       'TAG60:11-FA22:5', 'TAG60:11-FA22:6', 'TAG60:12-FA22:6'],\n",
       "      dtype='object', name='lipid', length=341)"
      ]
     },
     "execution_count": 70,
     "metadata": {},
     "output_type": "execute_result"
    }
   ],
   "source": [
    "data_pivot.columns[2:]"
   ]
  },
  {
   "cell_type": "markdown",
   "metadata": {},
   "source": [
    "### Dimensionality Reduction"
   ]
  },
  {
   "cell_type": "code",
   "execution_count": 71,
   "metadata": {},
   "outputs": [],
   "source": [
    "from sklearn.cross_decomposition import PLSRegression\n",
    "\n",
    "pls2_treatment = PLSRegression(n_components=20, scale = False)\n",
    "pls2_date = PLSRegression(n_components=20, scale = False)\n",
    "data_pls2_treatment = pls2_treatment.fit_transform(data_pivot.values[:,2:], data_pivot['treatment'].values)"
   ]
  },
  {
   "cell_type": "code",
   "execution_count": 72,
   "metadata": {},
   "outputs": [
    {
     "name": "stdout",
     "output_type": "stream",
     "text": [
      "(20, 2)\n"
     ]
    }
   ],
   "source": [
    "p_values_pls2 = [\n",
    "    [\n",
    "        d,\n",
    "        ttest_ind(data_pls2_treatment[0][data_pivot['treatment']==0, d], data_pls2_treatment[0][data_pivot['treatment']==1, d])[1],\n",
    "    ]\n",
    "    for d in range(data_pls2_treatment[0].shape[1])\n",
    "]\n",
    "p_values_pls2 = np.asarray(p_values_pls2)\n",
    "print(p_values_pls2.shape)"
   ]
  },
  {
   "cell_type": "code",
   "execution_count": 73,
   "metadata": {},
   "outputs": [
    {
     "name": "stderr",
     "output_type": "stream",
     "text": [
      "No artists with labels found to put in legend.  Note that artists whose label start with an underscore are ignored when legend() is called with no argument.\n"
     ]
    },
    {
     "data": {
      "image/png": "[encoded data removed]",
      "text/plain": [
       "<Figure size 1400x800 with 1 Axes>"
      ]
     },
     "metadata": {},
     "output_type": "display_data"
    }
   ],
   "source": [
    "fig = plt.figure(figsize=(14,8))\n",
    "plt.scatter(data_pls2_treatment[0][data_pivot['treatment']==0, 0], data_pls2_treatment[0][data_pivot['treatment']==0, 1],c=\"red\")\n",
    "plt.scatter(data_pls2_treatment[0][data_pivot['treatment']==1, 0], data_pls2_treatment[0][data_pivot['treatment']==1, 1],c=\"blue\")\n",
    "plt.legend()\n",
    "plt.title('Representation of samples in PLS space', fontdict={'fontsize':18})\n",
    "plt.tick_params(axis='both', which='major', labelsize=12)\n",
    "plt.xlabel('PLS1', fontdict={'fontsize':14})\n",
    "plt.ylabel('PLS2', fontdict={'fontsize':14})\n",
    "fig.savefig(os.path.join(data_path,\"mb-sample_distribution_PLS_space\"+test_enc_name_new+\".png\"), format='png', facecolor='w', dpi=100)"
   ]
  },
  {
   "cell_type": "code",
   "execution_count": 74,
   "metadata": {},
   "outputs": [
    {
     "name": "stdout",
     "output_type": "stream",
     "text": [
      "3 significant pc with respect to TREATMENT\n",
      "[0 1 4]\n"
     ]
    }
   ],
   "source": [
    "print(f'{np.sum(p_values_pls2[:,1]<0.05)} significant pc with respect to TREATMENT')\n",
    "\n",
    "significant_pc_pls2_treatment = np.where(p_values_pls2[:,1]<0.05)[0]\n",
    "print(significant_pc_pls2_treatment)"
   ]
  },
  {
   "cell_type": "code",
   "execution_count": 75,
   "metadata": {},
   "outputs": [],
   "source": [
    "significant_components_pls2_treatment = pls2_treatment.x_weights_.T[significant_pc_pls2_treatment,:]\n",
    "max_values_pls2_treatment = np.max(np.abs(significant_components_pls2_treatment), axis = 0)"
   ]
  },
  {
   "cell_type": "code",
   "execution_count": 76,
   "metadata": {},
   "outputs": [],
   "source": [
    "ths_pls2_treatment = np.percentile(np.abs(pls2_treatment.x_weights_.T.flatten()), THRESHOLD)"
   ]
  },
  {
   "cell_type": "code",
   "execution_count": 77,
   "metadata": {},
   "outputs": [],
   "source": [
    "tot_lipids = data_pivot.shape[1] - 2"
   ]
  },
  {
   "cell_type": "code",
   "execution_count": 78,
   "metadata": {},
   "outputs": [
    {
     "name": "stdout",
     "output_type": "stream",
     "text": [
      "149 (43.70% of original total) significant metabolites found\n"
     ]
    }
   ],
   "source": [
    "idx_significant_lipids_pls2_treatment = np.where(max_values_pls2_treatment>ths_pls2_treatment)[0]\n",
    "n_significant_lipids_pls2_treatment = len(idx_significant_lipids_pls2_treatment)\n",
    "print(f'{n_significant_lipids_pls2_treatment} ({n_significant_lipids_pls2_treatment/tot_lipids*100:.2f}% of original total) significant metabolites found')\n",
    "significant_lipids_pls2_treatment = [lipids_ok[i] for i in idx_significant_lipids_pls2_treatment]\n"
   ]
  },
  {
   "cell_type": "code",
   "execution_count": 79,
   "metadata": {},
   "outputs": [],
   "source": [
    "with open(os.path.join('results','significant_lipids_pls2_treatment'+test_enc_name_new+'.txt'), 'w+') as f:\n",
    "    for l in significant_lipids_pls2_treatment:\n",
    "        f.write(l+'\\n')"
   ]
  },
  {
   "cell_type": "code",
   "execution_count": null,
   "metadata": {},
   "outputs": [],
   "source": []
  }
 ],
 "metadata": {
  "kernelspec": {
   "display_name": "Python 3",
   "language": "python",
   "name": "python3"
  },
  "language_info": {
   "codemirror_mode": {
    "name": "ipython",
    "version": 3
   },
   "file_extension": ".py",
   "mimetype": "text/x-python",
   "name": "python",
   "nbconvert_exporter": "python",
   "pygments_lexer": "ipython3",
   "version": "3.11.4"
  }
 },
 "nbformat": 4,
 "nbformat_minor": 2
}
