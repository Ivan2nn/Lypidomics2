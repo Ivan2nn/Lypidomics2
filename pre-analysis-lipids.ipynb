{
 "cells": [
  {
   "cell_type": "code",
   "execution_count": 31,
   "metadata": {},
   "outputs": [],
   "source": [
    "import pandas as pd\n",
    "import numpy as np\n",
    "import matplotlib.pyplot as plt\n",
    "import seaborn as sns\n",
    "from sklearn.decomposition import PCA\n",
    "from sklearn.preprocessing import StandardScaler, LabelEncoder, MinMaxScaler\n",
    "from sklearn.feature_selection import SelectKBest, f_classif\n",
    "from scipy.stats import ttest_ind\n",
    "import json\n",
    "import os"
   ]
  },
  {
   "cell_type": "markdown",
   "metadata": {},
   "source": [
    "### Set Options"
   ]
  },
  {
   "cell_type": "code",
   "execution_count": 32,
   "metadata": {},
   "outputs": [],
   "source": [
    "# Set whole=True if we want to analyze the new data and the old data together\n",
    "whole = False\n",
    "\n",
    "THRESHOLD = 80\n",
    "batch_corrected = False\n",
    "zero_remove = False\n",
    "scaler_term = 'minmax'\n",
    "scaler = MinMaxScaler() if scaler_term=='minmax' else StandardScaler()\n",
    "\n",
    "test_enc_name = '_BatchCor'+str(batch_corrected)+'_NanRem'+str(zero_remove)+'_'+str(scaler_term)\n",
    "test_enc_name_new = '_Whole_'+str(whole)"
   ]
  },
  {
   "cell_type": "markdown",
   "metadata": {},
   "source": [
    "### Load Config Files"
   ]
  },
  {
   "cell_type": "code",
   "execution_count": 33,
   "metadata": {},
   "outputs": [],
   "source": [
    "with open('data/paths.json','r') as f:\n",
    "    paths = json.load(f)\n",
    "\n",
    "data_path = paths[\"data_path\"]"
   ]
  },
  {
   "cell_type": "markdown",
   "metadata": {},
   "source": [
    "### Get Data"
   ]
  },
  {
   "cell_type": "code",
   "execution_count": 64,
   "metadata": {},
   "outputs": [],
   "source": [
    "data_new = pd.read_excel(os.path.join(data_path,\"20240109_lipidomics_data.xlsx\"),sheet_name='20240109_lipidomics_data')\n",
    "if whole:\n",
    "    data_old = pd.read_excel(os.path.join(data_path,\"2022_12_Laezza_Mouse_Brain_deltamethrin_COMBINED_LIPIDOMICS_bc.xlsx\"))"
   ]
  },
  {
   "cell_type": "code",
   "execution_count": 65,
   "metadata": {},
   "outputs": [
    {
     "data": {
      "text/plain": [
       "Index(['Sample Number', 'LCMS Name', 'Replicate Number', 'Sample Group',\n",
       "       'Group Number', 'Sample ID', 'Sex', 'Tissue Weight\\n(mg)', 'Treatment',\n",
       "       'Tissue', 'Lipid Name',\n",
       "       'MRM Transition of each Lipid\\n(Parent ion / Fragment ion)',\n",
       "       'Lipid Class', 'Peak Area of Lipid ', 'RT',\n",
       "       'Normalized Peak Area (Peak Area of Lipid/ (Peak Area of Internal Standard * Tissue weight))'],\n",
       "      dtype='object')"
      ]
     },
     "execution_count": 65,
     "metadata": {},
     "output_type": "execute_result"
    }
   ],
   "source": [
    "data_new.columns"
   ]
  },
  {
   "cell_type": "markdown",
   "metadata": {},
   "source": [
    "#### -- We have to filter the old data extracting only males, striatum, PND30 --"
   ]
  },
  {
   "cell_type": "code",
   "execution_count": 66,
   "metadata": {},
   "outputs": [],
   "source": [
    "if whole:\n",
    "    data_old = data_old[data_old['Sex']=='M']\n",
    "    data_old = data_old[data_old['Tissue Type']=='striatum']\n",
    "    data_old = data_old[data_old['PND']==30]"
   ]
  },
  {
   "cell_type": "markdown",
   "metadata": {},
   "source": [
    "### Rename the columns"
   ]
  },
  {
   "cell_type": "code",
   "execution_count": 67,
   "metadata": {},
   "outputs": [],
   "source": [
    "columns_data = ['LCMS Name', 'Tissue Weight\\n(mg)', 'Treatment', 'Lipid Name','Lipid Class','Normalized Peak Area (Peak Area of Lipid/ (Peak Area of Internal Standard * Tissue weight))']\n",
    "columns_old = ['Sample Name', 'Tissue weight (mg)', 'Treatment', 'Individual Lipid Species', 'Lipid Class', 'Normalized Peak Area (Peak Area of Lipid Species / (Peak Area of Internal Standard * Tissue Weight))']\n",
    "columns_new = ['name','weight','treatment','lipid','lipid_class','area']\n",
    "\n",
    "data_new = data_new[columns_data]\n",
    "data_new.columns = columns_new\n",
    "data_new['batch']=1\n",
    "\n",
    "if whole:\n",
    "    data_old = data_old[columns_old]\n",
    "    data_old.columns = columns_new\n",
    "    data_old['batch']=0\n",
    "\n",
    "if whole:\n",
    "    data_all = pd.concat([data_new, data_old], axis=0)\n",
    "    data_all = data_all[data_all['area']!=0]\n",
    "else:\n",
    "    data_all = data_new.copy()\n",
    "\n",
    "data_temp = data_all[data_all['area'] != 0]\n",
    "data_all['area'].replace(0,np.min(np.abs(data_temp['area'])), inplace=True)    \n",
    "data_all['area'] = np.log(data_all['area'])"
   ]
  },
  {
   "cell_type": "code",
   "execution_count": 68,
   "metadata": {},
   "outputs": [],
   "source": [
    "data_all = data_all[data_all['name'] != '20231228_Laezza_Lipidomics_PQC #6']"
   ]
  },
  {
   "cell_type": "code",
   "execution_count": 69,
   "metadata": {},
   "outputs": [
    {
     "name": "stdout",
     "output_type": "stream",
     "text": [
      "20\n"
     ]
    }
   ],
   "source": [
    "## number of samples\n",
    "\n",
    "print(len(np.unique(data_all['name'])))"
   ]
  },
  {
   "cell_type": "markdown",
   "metadata": {},
   "source": [
    "### Show some info (metabolites are less than the old data)"
   ]
  },
  {
   "cell_type": "code",
   "execution_count": 70,
   "metadata": {},
   "outputs": [
    {
     "name": "stdout",
     "output_type": "stream",
     "text": [
      "1832\n"
     ]
    }
   ],
   "source": [
    "lipids_list = data_all['lipid'].nunique()\n",
    "print(lipids_list)"
   ]
  },
  {
   "cell_type": "code",
   "execution_count": 71,
   "metadata": {},
   "outputs": [
    {
     "data": {
      "text/html": [
       "<div>\n",
       "<style scoped>\n",
       "    .dataframe tbody tr th:only-of-type {\n",
       "        vertical-align: middle;\n",
       "    }\n",
       "\n",
       "    .dataframe tbody tr th {\n",
       "        vertical-align: top;\n",
       "    }\n",
       "\n",
       "    .dataframe thead th {\n",
       "        text-align: right;\n",
       "    }\n",
       "</style>\n",
       "<table border=\"1\" class=\"dataframe\">\n",
       "  <thead>\n",
       "    <tr style=\"text-align: right;\">\n",
       "      <th></th>\n",
       "      <th>name</th>\n",
       "      <th>weight</th>\n",
       "      <th>treatment</th>\n",
       "      <th>lipid</th>\n",
       "      <th>lipid_class</th>\n",
       "      <th>area</th>\n",
       "      <th>batch</th>\n",
       "    </tr>\n",
       "  </thead>\n",
       "  <tbody>\n",
       "    <tr>\n",
       "      <th>0</th>\n",
       "      <td>20231228_Laezza_Lipidomics_#1</td>\n",
       "      <td>106</td>\n",
       "      <td>control</td>\n",
       "      <td>CE(14:0)</td>\n",
       "      <td>CE</td>\n",
       "      <td>-12.338462</td>\n",
       "      <td>1</td>\n",
       "    </tr>\n",
       "    <tr>\n",
       "      <th>1</th>\n",
       "      <td>20231228_Laezza_Lipidomics_#2</td>\n",
       "      <td>82</td>\n",
       "      <td>control</td>\n",
       "      <td>CE(14:0)</td>\n",
       "      <td>CE</td>\n",
       "      <td>-12.338462</td>\n",
       "      <td>1</td>\n",
       "    </tr>\n",
       "    <tr>\n",
       "      <th>2</th>\n",
       "      <td>20231228_Laezza_Lipidomics_#3</td>\n",
       "      <td>92</td>\n",
       "      <td>control</td>\n",
       "      <td>CE(14:0)</td>\n",
       "      <td>CE</td>\n",
       "      <td>-12.338462</td>\n",
       "      <td>1</td>\n",
       "    </tr>\n",
       "    <tr>\n",
       "      <th>3</th>\n",
       "      <td>20231228_Laezza_Lipidomics_#4</td>\n",
       "      <td>105</td>\n",
       "      <td>control</td>\n",
       "      <td>CE(14:0)</td>\n",
       "      <td>CE</td>\n",
       "      <td>-12.338462</td>\n",
       "      <td>1</td>\n",
       "    </tr>\n",
       "    <tr>\n",
       "      <th>4</th>\n",
       "      <td>20231228_Laezza_Lipidomics_#5</td>\n",
       "      <td>100</td>\n",
       "      <td>control</td>\n",
       "      <td>CE(14:0)</td>\n",
       "      <td>CE</td>\n",
       "      <td>-12.338462</td>\n",
       "      <td>1</td>\n",
       "    </tr>\n",
       "  </tbody>\n",
       "</table>\n",
       "</div>"
      ],
      "text/plain": [
       "                            name  weight treatment     lipid lipid_class  \\\n",
       "0  20231228_Laezza_Lipidomics_#1     106   control  CE(14:0)          CE   \n",
       "1  20231228_Laezza_Lipidomics_#2      82   control  CE(14:0)          CE   \n",
       "2  20231228_Laezza_Lipidomics_#3      92   control  CE(14:0)          CE   \n",
       "3  20231228_Laezza_Lipidomics_#4     105   control  CE(14:0)          CE   \n",
       "4  20231228_Laezza_Lipidomics_#5     100   control  CE(14:0)          CE   \n",
       "\n",
       "        area  batch  \n",
       "0 -12.338462      1  \n",
       "1 -12.338462      1  \n",
       "2 -12.338462      1  \n",
       "3 -12.338462      1  \n",
       "4 -12.338462      1  "
      ]
     },
     "execution_count": 71,
     "metadata": {},
     "output_type": "execute_result"
    }
   ],
   "source": [
    "data_all.head()"
   ]
  },
  {
   "cell_type": "markdown",
   "metadata": {},
   "source": [
    "### Organize PIVOT Table"
   ]
  },
  {
   "cell_type": "code",
   "execution_count": 72,
   "metadata": {},
   "outputs": [
    {
     "data": {
      "text/html": [
       "<div>\n",
       "<style scoped>\n",
       "    .dataframe tbody tr th:only-of-type {\n",
       "        vertical-align: middle;\n",
       "    }\n",
       "\n",
       "    .dataframe tbody tr th {\n",
       "        vertical-align: top;\n",
       "    }\n",
       "\n",
       "    .dataframe thead th {\n",
       "        text-align: right;\n",
       "    }\n",
       "</style>\n",
       "<table border=\"1\" class=\"dataframe\">\n",
       "  <thead>\n",
       "    <tr style=\"text-align: right;\">\n",
       "      <th>lipid</th>\n",
       "      <th>name</th>\n",
       "      <th>treatment</th>\n",
       "      <th>CE(14:0)</th>\n",
       "      <th>CE(16:0)</th>\n",
       "      <th>CE(16:1)</th>\n",
       "      <th>CE(18:0)</th>\n",
       "      <th>CE(18:1)</th>\n",
       "      <th>CE(18:2)</th>\n",
       "      <th>CE(18:3)</th>\n",
       "      <th>CE(20:0)</th>\n",
       "      <th>...</th>\n",
       "      <th>TAG58:9-FA18:1</th>\n",
       "      <th>TAG58:9-FA18:2</th>\n",
       "      <th>TAG58:9-FA20:4</th>\n",
       "      <th>TAG58:9-FA22:5</th>\n",
       "      <th>TAG58:9-FA22:6</th>\n",
       "      <th>TAG60:10-FA22:5</th>\n",
       "      <th>TAG60:10-FA22:6</th>\n",
       "      <th>TAG60:11-FA22:5</th>\n",
       "      <th>TAG60:11-FA22:6</th>\n",
       "      <th>TAG60:12-FA22:6</th>\n",
       "    </tr>\n",
       "  </thead>\n",
       "  <tbody>\n",
       "    <tr>\n",
       "      <th>0</th>\n",
       "      <td>20231228_Laezza_Lipidomics_#1</td>\n",
       "      <td>0</td>\n",
       "      <td>-12.338462</td>\n",
       "      <td>-5.316481</td>\n",
       "      <td>-4.673449</td>\n",
       "      <td>-12.338462</td>\n",
       "      <td>-3.863233</td>\n",
       "      <td>-4.406319</td>\n",
       "      <td>-12.338462</td>\n",
       "      <td>-12.338462</td>\n",
       "      <td>...</td>\n",
       "      <td>-4.817127</td>\n",
       "      <td>-12.338462</td>\n",
       "      <td>-3.721403</td>\n",
       "      <td>-5.121008</td>\n",
       "      <td>-3.107782</td>\n",
       "      <td>-4.873050</td>\n",
       "      <td>-2.354932</td>\n",
       "      <td>-4.045554</td>\n",
       "      <td>-2.918771</td>\n",
       "      <td>-1.584745</td>\n",
       "    </tr>\n",
       "    <tr>\n",
       "      <th>1</th>\n",
       "      <td>20231228_Laezza_Lipidomics_#10</td>\n",
       "      <td>0</td>\n",
       "      <td>-12.338462</td>\n",
       "      <td>-5.345409</td>\n",
       "      <td>-5.432992</td>\n",
       "      <td>-12.338462</td>\n",
       "      <td>-4.665982</td>\n",
       "      <td>-5.432992</td>\n",
       "      <td>-12.338462</td>\n",
       "      <td>-12.338462</td>\n",
       "      <td>...</td>\n",
       "      <td>-5.304335</td>\n",
       "      <td>-12.338462</td>\n",
       "      <td>-4.771225</td>\n",
       "      <td>-6.137647</td>\n",
       "      <td>-3.825845</td>\n",
       "      <td>-5.738374</td>\n",
       "      <td>-2.487711</td>\n",
       "      <td>-4.664920</td>\n",
       "      <td>-3.480241</td>\n",
       "      <td>-1.973281</td>\n",
       "    </tr>\n",
       "    <tr>\n",
       "      <th>2</th>\n",
       "      <td>20231228_Laezza_Lipidomics_#11</td>\n",
       "      <td>1</td>\n",
       "      <td>-12.338462</td>\n",
       "      <td>-4.967576</td>\n",
       "      <td>-6.413059</td>\n",
       "      <td>-12.338462</td>\n",
       "      <td>-4.546901</td>\n",
       "      <td>-4.619269</td>\n",
       "      <td>-12.338462</td>\n",
       "      <td>-12.338462</td>\n",
       "      <td>...</td>\n",
       "      <td>-4.957569</td>\n",
       "      <td>-12.338462</td>\n",
       "      <td>-3.649659</td>\n",
       "      <td>-5.499210</td>\n",
       "      <td>-3.414283</td>\n",
       "      <td>-5.025241</td>\n",
       "      <td>-2.422495</td>\n",
       "      <td>-4.297685</td>\n",
       "      <td>-2.837021</td>\n",
       "      <td>-1.456717</td>\n",
       "    </tr>\n",
       "    <tr>\n",
       "      <th>3</th>\n",
       "      <td>20231228_Laezza_Lipidomics_#12</td>\n",
       "      <td>1</td>\n",
       "      <td>-12.338462</td>\n",
       "      <td>-4.937850</td>\n",
       "      <td>-4.465408</td>\n",
       "      <td>-12.338462</td>\n",
       "      <td>-5.624048</td>\n",
       "      <td>-4.936456</td>\n",
       "      <td>-12.338462</td>\n",
       "      <td>-12.338462</td>\n",
       "      <td>...</td>\n",
       "      <td>-5.451469</td>\n",
       "      <td>-12.338462</td>\n",
       "      <td>-3.767923</td>\n",
       "      <td>-4.969014</td>\n",
       "      <td>-3.759302</td>\n",
       "      <td>-5.377361</td>\n",
       "      <td>-2.660690</td>\n",
       "      <td>-4.439656</td>\n",
       "      <td>-3.186893</td>\n",
       "      <td>-1.783791</td>\n",
       "    </tr>\n",
       "    <tr>\n",
       "      <th>4</th>\n",
       "      <td>20231228_Laezza_Lipidomics_#13</td>\n",
       "      <td>1</td>\n",
       "      <td>-12.338462</td>\n",
       "      <td>-6.092390</td>\n",
       "      <td>-4.335143</td>\n",
       "      <td>-12.338462</td>\n",
       "      <td>-4.518992</td>\n",
       "      <td>-5.190360</td>\n",
       "      <td>-12.338462</td>\n",
       "      <td>-12.338462</td>\n",
       "      <td>...</td>\n",
       "      <td>-5.432992</td>\n",
       "      <td>-12.338462</td>\n",
       "      <td>-4.268698</td>\n",
       "      <td>-5.381699</td>\n",
       "      <td>-3.676951</td>\n",
       "      <td>-5.001180</td>\n",
       "      <td>-2.638058</td>\n",
       "      <td>-4.414550</td>\n",
       "      <td>-2.933697</td>\n",
       "      <td>-1.951928</td>\n",
       "    </tr>\n",
       "  </tbody>\n",
       "</table>\n",
       "<p>5 rows × 1834 columns</p>\n",
       "</div>"
      ],
      "text/plain": [
       "lipid                            name  treatment   CE(14:0)  CE(16:0)  \\\n",
       "0       20231228_Laezza_Lipidomics_#1          0 -12.338462 -5.316481   \n",
       "1      20231228_Laezza_Lipidomics_#10          0 -12.338462 -5.345409   \n",
       "2      20231228_Laezza_Lipidomics_#11          1 -12.338462 -4.967576   \n",
       "3      20231228_Laezza_Lipidomics_#12          1 -12.338462 -4.937850   \n",
       "4      20231228_Laezza_Lipidomics_#13          1 -12.338462 -6.092390   \n",
       "\n",
       "lipid  CE(16:1)   CE(18:0)  CE(18:1)  CE(18:2)   CE(18:3)   CE(20:0)  ...  \\\n",
       "0     -4.673449 -12.338462 -3.863233 -4.406319 -12.338462 -12.338462  ...   \n",
       "1     -5.432992 -12.338462 -4.665982 -5.432992 -12.338462 -12.338462  ...   \n",
       "2     -6.413059 -12.338462 -4.546901 -4.619269 -12.338462 -12.338462  ...   \n",
       "3     -4.465408 -12.338462 -5.624048 -4.936456 -12.338462 -12.338462  ...   \n",
       "4     -4.335143 -12.338462 -4.518992 -5.190360 -12.338462 -12.338462  ...   \n",
       "\n",
       "lipid  TAG58:9-FA18:1  TAG58:9-FA18:2  TAG58:9-FA20:4  TAG58:9-FA22:5  \\\n",
       "0           -4.817127      -12.338462       -3.721403       -5.121008   \n",
       "1           -5.304335      -12.338462       -4.771225       -6.137647   \n",
       "2           -4.957569      -12.338462       -3.649659       -5.499210   \n",
       "3           -5.451469      -12.338462       -3.767923       -4.969014   \n",
       "4           -5.432992      -12.338462       -4.268698       -5.381699   \n",
       "\n",
       "lipid  TAG58:9-FA22:6  TAG60:10-FA22:5  TAG60:10-FA22:6  TAG60:11-FA22:5  \\\n",
       "0           -3.107782        -4.873050        -2.354932        -4.045554   \n",
       "1           -3.825845        -5.738374        -2.487711        -4.664920   \n",
       "2           -3.414283        -5.025241        -2.422495        -4.297685   \n",
       "3           -3.759302        -5.377361        -2.660690        -4.439656   \n",
       "4           -3.676951        -5.001180        -2.638058        -4.414550   \n",
       "\n",
       "lipid  TAG60:11-FA22:6  TAG60:12-FA22:6  \n",
       "0            -2.918771        -1.584745  \n",
       "1            -3.480241        -1.973281  \n",
       "2            -2.837021        -1.456717  \n",
       "3            -3.186893        -1.783791  \n",
       "4            -2.933697        -1.951928  \n",
       "\n",
       "[5 rows x 1834 columns]"
      ]
     },
     "execution_count": 72,
     "metadata": {},
     "output_type": "execute_result"
    }
   ],
   "source": [
    "\n",
    "\n",
    "data_pivot = data_all.pivot(index=['name', 'treatment'], columns='lipid', values=data_all.columns[-2])\n",
    "\n",
    "data_pivot = data_pivot.reset_index().dropna(axis=1, thresh=0.9*data_pivot.shape[0]).fillna(1e-3*np.min(np.abs(data_all.iloc[:,-2])))\n",
    "\n",
    "data_pivot['treatment'] = LabelEncoder().fit_transform(data_pivot['treatment'])\n",
    "\n",
    "data_pivot.head()"
   ]
  },
  {
   "cell_type": "code",
   "execution_count": 73,
   "metadata": {},
   "outputs": [
    {
     "data": {
      "text/plain": [
       "1832"
      ]
     },
     "execution_count": 73,
     "metadata": {},
     "output_type": "execute_result"
    }
   ],
   "source": [
    "lipids_ok = list(data_pivot.columns[2:])\n",
    "tot_lipids = len(lipids_ok)\n",
    "tot_lipids"
   ]
  },
  {
   "cell_type": "code",
   "execution_count": 74,
   "metadata": {},
   "outputs": [
    {
     "data": {
      "text/plain": [
       "Index(['CE(14:0)', 'CE(16:0)', 'CE(16:1)', 'CE(18:0)', 'CE(18:1)', 'CE(18:2)',\n",
       "       'CE(18:3)', 'CE(20:0)', 'CE(20:1)', 'CE(20:2)',\n",
       "       ...\n",
       "       'TAG58:9-FA18:1', 'TAG58:9-FA18:2', 'TAG58:9-FA20:4', 'TAG58:9-FA22:5',\n",
       "       'TAG58:9-FA22:6', 'TAG60:10-FA22:5', 'TAG60:10-FA22:6',\n",
       "       'TAG60:11-FA22:5', 'TAG60:11-FA22:6', 'TAG60:12-FA22:6'],\n",
       "      dtype='object', name='lipid', length=1832)"
      ]
     },
     "execution_count": 74,
     "metadata": {},
     "output_type": "execute_result"
    }
   ],
   "source": [
    "data_pivot.columns[2:]"
   ]
  },
  {
   "cell_type": "markdown",
   "metadata": {},
   "source": [
    "### Dimensionality Reduction"
   ]
  },
  {
   "cell_type": "code",
   "execution_count": 75,
   "metadata": {},
   "outputs": [
    {
     "name": "stderr",
     "output_type": "stream",
     "text": [
      "c:\\Users\\ibern\\AppData\\Local\\Programs\\Python\\Python311\\Lib\\site-packages\\sklearn\\cross_decomposition\\_pls.py:302: UserWarning: Y residual is constant at iteration 19\n",
      "  warnings.warn(f\"Y residual is constant at iteration {k}\")\n"
     ]
    }
   ],
   "source": [
    "from sklearn.cross_decomposition import PLSRegression\n",
    "\n",
    "pls2_treatment = PLSRegression(n_components=20, scale = False)\n",
    "pls2_date = PLSRegression(n_components=20, scale = False)\n",
    "data_pls2_treatment = pls2_treatment.fit_transform(data_pivot.values[:,2:], data_pivot['treatment'].values)"
   ]
  },
  {
   "cell_type": "code",
   "execution_count": 76,
   "metadata": {},
   "outputs": [
    {
     "name": "stdout",
     "output_type": "stream",
     "text": [
      "(20, 2)\n"
     ]
    }
   ],
   "source": [
    "p_values_pls2 = [\n",
    "    [\n",
    "        d,\n",
    "        ttest_ind(data_pls2_treatment[0][data_pivot['treatment']==0, d], data_pls2_treatment[0][data_pivot['treatment']==1, d])[1],\n",
    "    ]\n",
    "    for d in range(data_pls2_treatment[0].shape[1])\n",
    "]\n",
    "p_values_pls2 = np.asarray(p_values_pls2)\n",
    "print(p_values_pls2.shape)"
   ]
  },
  {
   "cell_type": "code",
   "execution_count": 80,
   "metadata": {},
   "outputs": [
    {
     "name": "stderr",
     "output_type": "stream",
     "text": [
      "No artists with labels found to put in legend.  Note that artists whose label start with an underscore are ignored when legend() is called with no argument.\n"
     ]
    },
    {
     "data": {
      "image/png": "[encoded data removed]",
      "text/plain": [
       "<Figure size 1400x800 with 1 Axes>"
      ]
     },
     "metadata": {},
     "output_type": "display_data"
    }
   ],
   "source": [
    "fig = plt.figure(figsize=(14,8))\n",
    "plt.scatter(data_pls2_treatment[0][data_pivot['treatment']==0, 0], data_pls2_treatment[0][data_pivot['treatment']==0, 1],c=\"red\")\n",
    "plt.scatter(data_pls2_treatment[0][data_pivot['treatment']==1, 0], data_pls2_treatment[0][data_pivot['treatment']==1, 1],c=\"blue\")\n",
    "plt.legend()\n",
    "plt.title('Representation of samples in PLS space', fontdict={'fontsize':18})\n",
    "plt.tick_params(axis='both', which='major', labelsize=12)\n",
    "plt.xlabel('PLS1', fontdict={'fontsize':14})\n",
    "plt.ylabel('PLS2', fontdict={'fontsize':14})\n",
    "fig.savefig(os.path.join(data_path,\"mb-sample_distribution_PLS_space\"+test_enc_name_new+\".png\"), format='png', facecolor='w', dpi=100)"
   ]
  },
  {
   "cell_type": "code",
   "execution_count": 78,
   "metadata": {},
   "outputs": [
    {
     "name": "stdout",
     "output_type": "stream",
     "text": [
      "2 significant pc with respect to TREATMENT\n",
      "[0 1]\n"
     ]
    }
   ],
   "source": [
    "print(f'{np.sum(p_values_pls2[:,1]<0.05)} significant pc with respect to TREATMENT')\n",
    "\n",
    "significant_pc_pls2_treatment = np.where(p_values_pls2[:,1]<0.05)[0]\n",
    "print(significant_pc_pls2_treatment)"
   ]
  },
  {
   "cell_type": "code",
   "execution_count": 81,
   "metadata": {},
   "outputs": [],
   "source": [
    "significant_components_pls2_treatment = pls2_treatment.x_weights_.T[significant_pc_pls2_treatment,:]\n",
    "max_values_pls2_treatment = np.max(np.abs(significant_components_pls2_treatment), axis = 0)"
   ]
  },
  {
   "cell_type": "code",
   "execution_count": 82,
   "metadata": {},
   "outputs": [],
   "source": [
    "ths_pls2_treatment = np.percentile(np.abs(pls2_treatment.x_weights_.T.flatten()), THRESHOLD)"
   ]
  },
  {
   "cell_type": "code",
   "execution_count": 84,
   "metadata": {},
   "outputs": [],
   "source": [
    "tot_lipids = data_pivot.shape[1] - 2"
   ]
  },
  {
   "cell_type": "code",
   "execution_count": 86,
   "metadata": {},
   "outputs": [
    {
     "name": "stdout",
     "output_type": "stream",
     "text": [
      "653 (35.64% of original total) significant metabolites found\n"
     ]
    }
   ],
   "source": [
    "idx_significant_lipids_pls2_treatment = np.where(max_values_pls2_treatment>ths_pls2_treatment)[0]\n",
    "n_significant_lipids_pls2_treatment = len(idx_significant_lipids_pls2_treatment)\n",
    "print(f'{n_significant_lipids_pls2_treatment} ({n_significant_lipids_pls2_treatment/tot_lipids*100:.2f}% of original total) significant metabolites found')\n",
    "significant_lipids_pls2_treatment = [lipids_ok[i] for i in idx_significant_lipids_pls2_treatment]\n"
   ]
  },
  {
   "cell_type": "code",
   "execution_count": 87,
   "metadata": {},
   "outputs": [],
   "source": [
    "with open(os.path.join('results','significant_lipids_pls2_treatment'+test_enc_name_new+'.txt'), 'w+') as f:\n",
    "    for l in significant_lipids_pls2_treatment:\n",
    "        f.write(l+'\\n')"
   ]
  },
  {
   "cell_type": "code",
   "execution_count": null,
   "metadata": {},
   "outputs": [],
   "source": []
  }
 ],
 "metadata": {
  "kernelspec": {
   "display_name": "Python 3",
   "language": "python",
   "name": "python3"
  },
  "language_info": {
   "codemirror_mode": {
    "name": "ipython",
    "version": 3
   },
   "file_extension": ".py",
   "mimetype": "text/x-python",
   "name": "python",
   "nbconvert_exporter": "python",
   "pygments_lexer": "ipython3",
   "version": "3.11.4"
  }
 },
 "nbformat": 4,
 "nbformat_minor": 2
}
