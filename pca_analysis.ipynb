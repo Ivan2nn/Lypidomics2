{
 "cells": [
  {
   "cell_type": "code",
   "execution_count": 1,
   "metadata": {},
   "outputs": [],
   "source": [
    "import pandas as pd\n",
    "import numpy as np\n",
    "import matplotlib.pyplot as plt\n",
    "import seaborn as sns\n",
    "from sklearn.decomposition import PCA\n",
    "from sklearn.preprocessing import StandardScaler, LabelEncoder, MinMaxScaler\n",
    "from sklearn.feature_selection import SelectKBest, f_classif\n",
    "from scipy.stats import ttest_ind\n",
    "import json\n",
    "import os"
   ]
  },
  {
   "cell_type": "markdown",
   "metadata": {},
   "source": [
    "# Set options"
   ]
  },
  {
   "cell_type": "code",
   "execution_count": 2,
   "metadata": {},
   "outputs": [],
   "source": [
    "THRESHOLD = 80\n",
    "batch_corrected = True\n",
    "nan_remove = True\n",
    "scaler_term = 'minmax'\n",
    "scaler = MinMaxScaler() if scaler_term=='minmax' else StandardScaler()\n",
    "\n",
    "test_enc_name = '_BatchCor'+str(batch_corrected)+'_NanRem'+str(nan_remove)+'_'+str(scaler_term)"
   ]
  },
  {
   "cell_type": "markdown",
   "metadata": {},
   "source": [
    "# Load config files"
   ]
  },
  {
   "cell_type": "code",
   "execution_count": 3,
   "metadata": {},
   "outputs": [],
   "source": [
    "with open('data/paths.json','r') as f:\n",
    "    paths = json.load(f)\n",
    "\n",
    "data_path = paths[\"data_path\"]"
   ]
  },
  {
   "cell_type": "markdown",
   "metadata": {},
   "source": [
    "# Get data"
   ]
  },
  {
   "cell_type": "code",
   "execution_count": 4,
   "metadata": {},
   "outputs": [
    {
     "data": {
      "text/html": [
       "<div>\n",
       "<style scoped>\n",
       "    .dataframe tbody tr th:only-of-type {\n",
       "        vertical-align: middle;\n",
       "    }\n",
       "\n",
       "    .dataframe tbody tr th {\n",
       "        vertical-align: top;\n",
       "    }\n",
       "\n",
       "    .dataframe thead th {\n",
       "        text-align: right;\n",
       "    }\n",
       "</style>\n",
       "<table border=\"1\" class=\"dataframe\">\n",
       "  <thead>\n",
       "    <tr style=\"text-align: right;\">\n",
       "      <th></th>\n",
       "      <th>Sample Number</th>\n",
       "      <th>Sample Submission Date</th>\n",
       "      <th>Sample Name</th>\n",
       "      <th>Sex</th>\n",
       "      <th>Tissue weight (mg)</th>\n",
       "      <th>Treatment</th>\n",
       "      <th>Tissue Type</th>\n",
       "      <th>PND</th>\n",
       "      <th>Litter</th>\n",
       "      <th>Individual Lipid Species</th>\n",
       "      <th>Lipid Class</th>\n",
       "      <th>MRM Transition of each lipid species\\n(Parent ion / Fragment ion)</th>\n",
       "      <th>Lipid Species used as Internal Standard</th>\n",
       "      <th>Retention Time\\n(min)</th>\n",
       "      <th>UNCORRECTED\\nPeak Area of Lipid Species</th>\n",
       "      <th>UNCORRECTED\\nPeak Area of Internal Standard</th>\n",
       "      <th>UNCORRECTED\\nNormalized Peak Area (Peak Area of Lipid Species / (Peak Area of Internal Standard * Tissue weight))</th>\n",
       "      <th>BATCH CORRECTED\\nPeak Area of Lipid Species</th>\n",
       "      <th>BATCH CORRECTED\\nPeak Area of Internal Standard</th>\n",
       "      <th>BATCH CORRECTED\\nNormalized Peak Area (Peak Area of Lipid Species / (Peak Area of Internal Standard * Tissue weight))</th>\n",
       "    </tr>\n",
       "  </thead>\n",
       "  <tbody>\n",
       "    <tr>\n",
       "      <th>82147</th>\n",
       "      <td>83</td>\n",
       "      <td>11/2022</td>\n",
       "      <td>T36F3</td>\n",
       "      <td>F</td>\n",
       "      <td>84</td>\n",
       "      <td>deltamethrin</td>\n",
       "      <td>striatum</td>\n",
       "      <td>60</td>\n",
       "      <td>T36</td>\n",
       "      <td>PG(20:0_20:4)-H</td>\n",
       "      <td>PG</td>\n",
       "      <td>825.6 / 303.2</td>\n",
       "      <td>PG(15:0_18:1)-Hd7_SPLASH.IS</td>\n",
       "      <td>0.0</td>\n",
       "      <td>NaN</td>\n",
       "      <td>4986258.0</td>\n",
       "      <td>NaN</td>\n",
       "      <td>NaN</td>\n",
       "      <td>71757909.0</td>\n",
       "      <td>NaN</td>\n",
       "    </tr>\n",
       "    <tr>\n",
       "      <th>82148</th>\n",
       "      <td>83</td>\n",
       "      <td>11/2022</td>\n",
       "      <td>T36F3</td>\n",
       "      <td>F</td>\n",
       "      <td>84</td>\n",
       "      <td>deltamethrin</td>\n",
       "      <td>striatum</td>\n",
       "      <td>60</td>\n",
       "      <td>T36</td>\n",
       "      <td>PG(20:0_20:5)-H</td>\n",
       "      <td>PG</td>\n",
       "      <td>823.5 / 301.2</td>\n",
       "      <td>PG(15:0_18:1)-Hd7_SPLASH.IS</td>\n",
       "      <td>0.0</td>\n",
       "      <td>NaN</td>\n",
       "      <td>4986258.0</td>\n",
       "      <td>NaN</td>\n",
       "      <td>NaN</td>\n",
       "      <td>71757909.0</td>\n",
       "      <td>NaN</td>\n",
       "    </tr>\n",
       "    <tr>\n",
       "      <th>82149</th>\n",
       "      <td>83</td>\n",
       "      <td>11/2022</td>\n",
       "      <td>T36F3</td>\n",
       "      <td>F</td>\n",
       "      <td>84</td>\n",
       "      <td>deltamethrin</td>\n",
       "      <td>striatum</td>\n",
       "      <td>60</td>\n",
       "      <td>T36</td>\n",
       "      <td>PG(20:0_22:4)-H</td>\n",
       "      <td>PG</td>\n",
       "      <td>853.6 / 331.3</td>\n",
       "      <td>PG(15:0_18:1)-Hd7_SPLASH.IS</td>\n",
       "      <td>0.0</td>\n",
       "      <td>NaN</td>\n",
       "      <td>4986258.0</td>\n",
       "      <td>NaN</td>\n",
       "      <td>NaN</td>\n",
       "      <td>71757909.0</td>\n",
       "      <td>NaN</td>\n",
       "    </tr>\n",
       "    <tr>\n",
       "      <th>82150</th>\n",
       "      <td>83</td>\n",
       "      <td>11/2022</td>\n",
       "      <td>T36F3</td>\n",
       "      <td>F</td>\n",
       "      <td>84</td>\n",
       "      <td>deltamethrin</td>\n",
       "      <td>striatum</td>\n",
       "      <td>60</td>\n",
       "      <td>T36</td>\n",
       "      <td>PG(20:0_22:5)-H</td>\n",
       "      <td>PG</td>\n",
       "      <td>851.6 / 329.2</td>\n",
       "      <td>PG(15:0_18:1)-Hd7_SPLASH.IS</td>\n",
       "      <td>0.0</td>\n",
       "      <td>NaN</td>\n",
       "      <td>4986258.0</td>\n",
       "      <td>NaN</td>\n",
       "      <td>NaN</td>\n",
       "      <td>71757909.0</td>\n",
       "      <td>NaN</td>\n",
       "    </tr>\n",
       "    <tr>\n",
       "      <th>82151</th>\n",
       "      <td>83</td>\n",
       "      <td>11/2022</td>\n",
       "      <td>T36F3</td>\n",
       "      <td>F</td>\n",
       "      <td>84</td>\n",
       "      <td>deltamethrin</td>\n",
       "      <td>striatum</td>\n",
       "      <td>60</td>\n",
       "      <td>T36</td>\n",
       "      <td>PG(20:0_22:6)-H</td>\n",
       "      <td>PG</td>\n",
       "      <td>849.6 / 327.2</td>\n",
       "      <td>PG(15:0_18:1)-Hd7_SPLASH.IS</td>\n",
       "      <td>0.0</td>\n",
       "      <td>NaN</td>\n",
       "      <td>4986258.0</td>\n",
       "      <td>NaN</td>\n",
       "      <td>NaN</td>\n",
       "      <td>71757909.0</td>\n",
       "      <td>NaN</td>\n",
       "    </tr>\n",
       "  </tbody>\n",
       "</table>\n",
       "</div>"
      ],
      "text/plain": [
       "       Sample Number Sample Submission Date Sample Name Sex  \\\n",
       "82147             83                11/2022       T36F3   F   \n",
       "82148             83                11/2022       T36F3   F   \n",
       "82149             83                11/2022       T36F3   F   \n",
       "82150             83                11/2022       T36F3   F   \n",
       "82151             83                11/2022       T36F3   F   \n",
       "\n",
       "       Tissue weight (mg)     Treatment Tissue Type  PND Litter  \\\n",
       "82147                  84  deltamethrin    striatum   60    T36   \n",
       "82148                  84  deltamethrin    striatum   60    T36   \n",
       "82149                  84  deltamethrin    striatum   60    T36   \n",
       "82150                  84  deltamethrin    striatum   60    T36   \n",
       "82151                  84  deltamethrin    striatum   60    T36   \n",
       "\n",
       "      Individual Lipid Species Lipid Class  \\\n",
       "82147          PG(20:0_20:4)-H          PG   \n",
       "82148          PG(20:0_20:5)-H          PG   \n",
       "82149          PG(20:0_22:4)-H          PG   \n",
       "82150          PG(20:0_22:5)-H          PG   \n",
       "82151          PG(20:0_22:6)-H          PG   \n",
       "\n",
       "      MRM Transition of each lipid species\\n(Parent ion / Fragment ion)  \\\n",
       "82147                                      825.6 / 303.2                  \n",
       "82148                                      823.5 / 301.2                  \n",
       "82149                                      853.6 / 331.3                  \n",
       "82150                                      851.6 / 329.2                  \n",
       "82151                                      849.6 / 327.2                  \n",
       "\n",
       "      Lipid Species used as Internal Standard  Retention Time\\n(min)  \\\n",
       "82147             PG(15:0_18:1)-Hd7_SPLASH.IS                    0.0   \n",
       "82148             PG(15:0_18:1)-Hd7_SPLASH.IS                    0.0   \n",
       "82149             PG(15:0_18:1)-Hd7_SPLASH.IS                    0.0   \n",
       "82150             PG(15:0_18:1)-Hd7_SPLASH.IS                    0.0   \n",
       "82151             PG(15:0_18:1)-Hd7_SPLASH.IS                    0.0   \n",
       "\n",
       "       UNCORRECTED\\nPeak Area of Lipid Species  \\\n",
       "82147                                      NaN   \n",
       "82148                                      NaN   \n",
       "82149                                      NaN   \n",
       "82150                                      NaN   \n",
       "82151                                      NaN   \n",
       "\n",
       "       UNCORRECTED\\nPeak Area of Internal Standard  \\\n",
       "82147                                    4986258.0   \n",
       "82148                                    4986258.0   \n",
       "82149                                    4986258.0   \n",
       "82150                                    4986258.0   \n",
       "82151                                    4986258.0   \n",
       "\n",
       "       UNCORRECTED\\nNormalized Peak Area (Peak Area of Lipid Species / (Peak Area of Internal Standard * Tissue weight))  \\\n",
       "82147                                                NaN                                                                   \n",
       "82148                                                NaN                                                                   \n",
       "82149                                                NaN                                                                   \n",
       "82150                                                NaN                                                                   \n",
       "82151                                                NaN                                                                   \n",
       "\n",
       "       BATCH CORRECTED\\nPeak Area of Lipid Species  \\\n",
       "82147                                          NaN   \n",
       "82148                                          NaN   \n",
       "82149                                          NaN   \n",
       "82150                                          NaN   \n",
       "82151                                          NaN   \n",
       "\n",
       "       BATCH CORRECTED\\nPeak Area of Internal Standard  \\\n",
       "82147                                       71757909.0   \n",
       "82148                                       71757909.0   \n",
       "82149                                       71757909.0   \n",
       "82150                                       71757909.0   \n",
       "82151                                       71757909.0   \n",
       "\n",
       "       BATCH CORRECTED\\nNormalized Peak Area (Peak Area of Lipid Species / (Peak Area of Internal Standard * Tissue weight))  \n",
       "82147                                                NaN                                                                      \n",
       "82148                                                NaN                                                                      \n",
       "82149                                                NaN                                                                      \n",
       "82150                                                NaN                                                                      \n",
       "82151                                                NaN                                                                      "
      ]
     },
     "execution_count": 4,
     "metadata": {},
     "output_type": "execute_result"
    }
   ],
   "source": [
    "df = pd.read_excel(os.path.join(data_path,\"raw_data.xlsx\"))\n",
    "n_classes = len(np.unique(df['Lipid Class']))\n",
    "df.tail()"
   ]
  },
  {
   "cell_type": "code",
   "execution_count": 5,
   "metadata": {},
   "outputs": [
    {
     "data": {
      "text/plain": [
       "1141"
      ]
     },
     "execution_count": 5,
     "metadata": {},
     "output_type": "execute_result"
    }
   ],
   "source": [
    "#sum(df.groupby('Sample Name')['Sample Submission Date'].unique() == '11/2022')\n",
    "df['Individual Lipid Species'].nunique()"
   ]
  },
  {
   "cell_type": "markdown",
   "metadata": {},
   "source": [
    "## Select normalized or unnormalized data"
   ]
  },
  {
   "cell_type": "code",
   "execution_count": 6,
   "metadata": {},
   "outputs": [
    {
     "data": {
      "text/html": [
       "<div>\n",
       "<style scoped>\n",
       "    .dataframe tbody tr th:only-of-type {\n",
       "        vertical-align: middle;\n",
       "    }\n",
       "\n",
       "    .dataframe tbody tr th {\n",
       "        vertical-align: top;\n",
       "    }\n",
       "\n",
       "    .dataframe thead th {\n",
       "        text-align: right;\n",
       "    }\n",
       "</style>\n",
       "<table border=\"1\" class=\"dataframe\">\n",
       "  <thead>\n",
       "    <tr style=\"text-align: right;\">\n",
       "      <th></th>\n",
       "      <th>Sample Number</th>\n",
       "      <th>Sample Submission Date</th>\n",
       "      <th>Sample Name</th>\n",
       "      <th>Sex</th>\n",
       "      <th>Tissue weight (mg)</th>\n",
       "      <th>Treatment</th>\n",
       "      <th>Tissue Type</th>\n",
       "      <th>PND</th>\n",
       "      <th>Litter</th>\n",
       "      <th>Individual Lipid Species</th>\n",
       "      <th>Lipid Class</th>\n",
       "      <th>BATCH CORRECTED\\nNormalized Peak Area (Peak Area of Lipid Species / (Peak Area of Internal Standard * Tissue weight))</th>\n",
       "    </tr>\n",
       "  </thead>\n",
       "  <tbody>\n",
       "    <tr>\n",
       "      <th>0</th>\n",
       "      <td>1</td>\n",
       "      <td>09/2021</td>\n",
       "      <td>C20M1S</td>\n",
       "      <td>M</td>\n",
       "      <td>56</td>\n",
       "      <td>control</td>\n",
       "      <td>striatum</td>\n",
       "      <td>30</td>\n",
       "      <td>C20</td>\n",
       "      <td>SM(14:0)+H</td>\n",
       "      <td>SM</td>\n",
       "      <td>0.000842</td>\n",
       "    </tr>\n",
       "    <tr>\n",
       "      <th>1</th>\n",
       "      <td>1</td>\n",
       "      <td>09/2021</td>\n",
       "      <td>C20M1S</td>\n",
       "      <td>M</td>\n",
       "      <td>56</td>\n",
       "      <td>control</td>\n",
       "      <td>striatum</td>\n",
       "      <td>30</td>\n",
       "      <td>C20</td>\n",
       "      <td>SM(16:0)+H</td>\n",
       "      <td>SM</td>\n",
       "      <td>0.006390</td>\n",
       "    </tr>\n",
       "    <tr>\n",
       "      <th>2</th>\n",
       "      <td>1</td>\n",
       "      <td>09/2021</td>\n",
       "      <td>C20M1S</td>\n",
       "      <td>M</td>\n",
       "      <td>56</td>\n",
       "      <td>control</td>\n",
       "      <td>striatum</td>\n",
       "      <td>30</td>\n",
       "      <td>C20</td>\n",
       "      <td>SM(18:0)+H</td>\n",
       "      <td>SM</td>\n",
       "      <td>0.036989</td>\n",
       "    </tr>\n",
       "    <tr>\n",
       "      <th>3</th>\n",
       "      <td>1</td>\n",
       "      <td>09/2021</td>\n",
       "      <td>C20M1S</td>\n",
       "      <td>M</td>\n",
       "      <td>56</td>\n",
       "      <td>control</td>\n",
       "      <td>striatum</td>\n",
       "      <td>30</td>\n",
       "      <td>C20</td>\n",
       "      <td>SM(18:1)+H</td>\n",
       "      <td>SM</td>\n",
       "      <td>0.046320</td>\n",
       "    </tr>\n",
       "    <tr>\n",
       "      <th>4</th>\n",
       "      <td>1</td>\n",
       "      <td>09/2021</td>\n",
       "      <td>C20M1S</td>\n",
       "      <td>M</td>\n",
       "      <td>56</td>\n",
       "      <td>control</td>\n",
       "      <td>striatum</td>\n",
       "      <td>30</td>\n",
       "      <td>C20</td>\n",
       "      <td>SM(20:0)+H</td>\n",
       "      <td>SM</td>\n",
       "      <td>0.001167</td>\n",
       "    </tr>\n",
       "  </tbody>\n",
       "</table>\n",
       "</div>"
      ],
      "text/plain": [
       "   Sample Number Sample Submission Date Sample Name Sex  Tissue weight (mg)  \\\n",
       "0              1                09/2021      C20M1S   M                  56   \n",
       "1              1                09/2021      C20M1S   M                  56   \n",
       "2              1                09/2021      C20M1S   M                  56   \n",
       "3              1                09/2021      C20M1S   M                  56   \n",
       "4              1                09/2021      C20M1S   M                  56   \n",
       "\n",
       "  Treatment Tissue Type  PND Litter Individual Lipid Species Lipid Class  \\\n",
       "0   control    striatum   30    C20               SM(14:0)+H          SM   \n",
       "1   control    striatum   30    C20               SM(16:0)+H          SM   \n",
       "2   control    striatum   30    C20               SM(18:0)+H          SM   \n",
       "3   control    striatum   30    C20               SM(18:1)+H          SM   \n",
       "4   control    striatum   30    C20               SM(20:0)+H          SM   \n",
       "\n",
       "   BATCH CORRECTED\\nNormalized Peak Area (Peak Area of Lipid Species / (Peak Area of Internal Standard * Tissue weight))  \n",
       "0                                           0.000842                                                                      \n",
       "1                                           0.006390                                                                      \n",
       "2                                           0.036989                                                                      \n",
       "3                                           0.046320                                                                      \n",
       "4                                           0.001167                                                                      "
      ]
     },
     "execution_count": 6,
     "metadata": {},
     "output_type": "execute_result"
    }
   ],
   "source": [
    "metadata = df.iloc[:,:11]\n",
    "if batch_corrected:\n",
    "    data = pd.concat([metadata, df.iloc[:,19]],axis=1)\n",
    "else:\n",
    "    data = pd.concat([metadata, df.iloc[:,16]],axis=1)\n",
    "data.head()"
   ]
  },
  {
   "cell_type": "markdown",
   "metadata": {},
   "source": [
    "## Organize pivot table"
   ]
  },
  {
   "cell_type": "code",
   "execution_count": 7,
   "metadata": {},
   "outputs": [],
   "source": [
    "data_pivot = data.pivot(index=['Sample Name', 'Sex', 'Treatment', 'PND', 'Tissue Type', 'Sample Submission Date'], columns='Individual Lipid Species', values=data.columns[-1])\n",
    "tot_lipids = data_pivot.shape[1] - 6"
   ]
  },
  {
   "cell_type": "markdown",
   "metadata": {},
   "source": [
    "## Manage NaN"
   ]
  },
  {
   "cell_type": "code",
   "execution_count": 8,
   "metadata": {},
   "outputs": [],
   "source": [
    "if nan_remove:\n",
    "    data_stats = data_pivot.reset_index().dropna(axis=1, thresh=0.9*data_pivot.shape[0]).fillna(1e-3*np.min(np.abs(data.iloc[:,-1])))\n",
    "else:\n",
    "    data_stats = data_pivot.reset_index().fillna(1e-3*np.min(np.abs(data.iloc[:,-1])))\n",
    "data_stats.head()\n",
    "lipids_ok = list(data_stats.columns[6:])"
   ]
  },
  {
   "cell_type": "markdown",
   "metadata": {},
   "source": [
    "## Encode batch"
   ]
  },
  {
   "cell_type": "code",
   "execution_count": 9,
   "metadata": {},
   "outputs": [
    {
     "data": {
      "text/plain": [
       "array([0, 1])"
      ]
     },
     "execution_count": 9,
     "metadata": {},
     "output_type": "execute_result"
    }
   ],
   "source": [
    "data_stats['Sample Submission Date'] = LabelEncoder().fit_transform(data_stats['Sample Submission Date'])\n",
    "data_stats['Treatment'] = LabelEncoder().fit_transform(data_stats['Treatment'])\n",
    "data_stats['Sample Submission Date'].unique()"
   ]
  },
  {
   "cell_type": "markdown",
   "metadata": {},
   "source": [
    "## Log transform"
   ]
  },
  {
   "cell_type": "code",
   "execution_count": 10,
   "metadata": {},
   "outputs": [
    {
     "name": "stdout",
     "output_type": "stream",
     "text": [
      "(72, 372)\n"
     ]
    }
   ],
   "source": [
    "data_np = data_stats.values[:,6:]\n",
    "data_np = np.log10(data_np.astype('float64'))\n",
    "print(data_np.shape)"
   ]
  },
  {
   "cell_type": "markdown",
   "metadata": {},
   "source": [
    "## Visualize data distribution"
   ]
  },
  {
   "cell_type": "code",
   "execution_count": 11,
   "metadata": {},
   "outputs": [
    {
     "data": {
      "image/png": "[encoded data removed]",
      "text/plain": [
       "<Figure size 640x480 with 1 Axes>"
      ]
     },
     "metadata": {},
     "output_type": "display_data"
    }
   ],
   "source": [
    "plt.figure()\n",
    "plt.hist(data_np.flatten())\n",
    "plt.show()"
   ]
  },
  {
   "cell_type": "markdown",
   "metadata": {},
   "source": [
    "# Normalize data"
   ]
  },
  {
   "cell_type": "code",
   "execution_count": 12,
   "metadata": {},
   "outputs": [],
   "source": [
    "data_norm = scaler.fit_transform(data_np)"
   ]
  },
  {
   "cell_type": "markdown",
   "metadata": {},
   "source": [
    "## Visualize normalized data distribution"
   ]
  },
  {
   "cell_type": "code",
   "execution_count": 13,
   "metadata": {},
   "outputs": [
    {
     "data": {
      "image/png": "[encoded data removed]",
      "text/plain": [
       "<Figure size 1400x800 with 1 Axes>"
      ]
     },
     "metadata": {},
     "output_type": "display_data"
    }
   ],
   "source": [
    "fig = plt.figure(figsize=(14,8), dpi=100)\n",
    "plt.hist(data_norm.flatten())\n",
    "plt.title('Normalized Peak Area', fontdict={'fontsize':18})\n",
    "plt.tick_params(axis='both', which='major', labelsize=14)\n",
    "fig.savefig('results/figure1.png')"
   ]
  },
  {
   "cell_type": "markdown",
   "metadata": {},
   "source": [
    "# PCA"
   ]
  },
  {
   "cell_type": "code",
   "execution_count": 14,
   "metadata": {},
   "outputs": [
    {
     "name": "stdout",
     "output_type": "stream",
     "text": [
      "(72, 72)\n"
     ]
    }
   ],
   "source": [
    "pca = PCA()\n",
    "data_pca = pca.fit_transform(data_norm)\n",
    "print(data_pca.shape)"
   ]
  },
  {
   "cell_type": "markdown",
   "metadata": {},
   "source": [
    "## Latent curve"
   ]
  },
  {
   "cell_type": "code",
   "execution_count": 15,
   "metadata": {},
   "outputs": [
    {
     "data": {
      "image/png": "[encoded data removed]",
      "text/plain": [
       "<Figure size 640x480 with 1 Axes>"
      ]
     },
     "metadata": {},
     "output_type": "display_data"
    }
   ],
   "source": [
    "plt.figure()\n",
    "plt.plot(np.cumsum(pca.explained_variance_ratio_))\n",
    "plt.show()"
   ]
  },
  {
   "cell_type": "markdown",
   "metadata": {},
   "source": [
    "# T-test"
   ]
  },
  {
   "cell_type": "code",
   "execution_count": 16,
   "metadata": {},
   "outputs": [
    {
     "name": "stdout",
     "output_type": "stream",
     "text": [
      "(72, 3)\n"
     ]
    },
    {
     "name": "stderr",
     "output_type": "stream",
     "text": [
      "c:\\Users\\ibern\\AppData\\Local\\Programs\\Python\\Python311\\Lib\\site-packages\\scipy\\stats\\_axis_nan_policy.py:523: RuntimeWarning: Precision loss occurred in moment calculation due to catastrophic cancellation. This occurs when the data are nearly identical. Results may be unreliable.\n",
      "  res = hypotest_fun_out(*samples, **kwds)\n"
     ]
    }
   ],
   "source": [
    "p_values = [\n",
    "    [\n",
    "        d,\n",
    "        ttest_ind(data_pca[data_stats['Sample Submission Date']==0, d], data_pca[data_stats['Sample Submission Date']==1, d])[1],\n",
    "        ttest_ind(data_pca[data_stats['Treatment']==0, d], data_pca[data_stats['Treatment']==1, d])[1],\n",
    "    ]\n",
    "    for d in range(data_pca.shape[1])\n",
    "]\n",
    "p_values = np.asarray(p_values)\n",
    "print(p_values.shape)"
   ]
  },
  {
   "cell_type": "markdown",
   "metadata": {},
   "source": [
    "# Visualize data after PCA"
   ]
  },
  {
   "cell_type": "code",
   "execution_count": 17,
   "metadata": {},
   "outputs": [
    {
     "data": {
      "image/png": "[encoded data removed]",
      "text/plain": [
       "<Figure size 640x480 with 1 Axes>"
      ]
     },
     "metadata": {},
     "output_type": "display_data"
    }
   ],
   "source": [
    "plt.scatter(data_pca[data_stats['Treatment']==0, 14], data_pca[data_stats['Treatment']==0, 21],c=\"red\")\n",
    "plt.scatter(data_pca[data_stats['Treatment']==1, 14], data_pca[data_stats['Treatment']==1, 21],c=\"blue\")\n",
    "plt.show()"
   ]
  },
  {
   "cell_type": "markdown",
   "metadata": {},
   "source": [
    "# Isolate significant PCs"
   ]
  },
  {
   "cell_type": "code",
   "execution_count": 18,
   "metadata": {},
   "outputs": [
    {
     "name": "stdout",
     "output_type": "stream",
     "text": [
      "4 significant pc with respect to date\n",
      "2 significant pc with respect to date\n",
      "0 significant pc with respect to both\n"
     ]
    }
   ],
   "source": [
    "print(f'{np.sum(p_values[:,1]<0.05)} significant pc with respect to date')\n",
    "print(f'{np.sum(p_values[:,2]<0.05)} significant pc with respect to date')\n",
    "print(f'{np.sum((p_values[:,2]<0.05)*(p_values[:,1]<0.05))} significant pc with respect to both')\n",
    "\n",
    "significant_pc = np.where(p_values[:,2]<0.05)[0]"
   ]
  },
  {
   "cell_type": "markdown",
   "metadata": {},
   "source": [
    "# Isolate significant lipids"
   ]
  },
  {
   "cell_type": "code",
   "execution_count": 19,
   "metadata": {},
   "outputs": [
    {
     "name": "stdout",
     "output_type": "stream",
     "text": [
      "(2, 372)\n",
      "(372,)\n"
     ]
    }
   ],
   "source": [
    "significant_components = pca.components_[significant_pc,:]\n",
    "print(significant_components.shape)\n",
    "max_values = np.max(np.abs(significant_components), axis=0)\n",
    "print(max_values.shape)"
   ]
  },
  {
   "cell_type": "code",
   "execution_count": 20,
   "metadata": {},
   "outputs": [
    {
     "name": "stdout",
     "output_type": "stream",
     "text": [
      "100 (8.81% of original total) significant lipids found\n"
     ]
    }
   ],
   "source": [
    "ths = np.percentile(np.abs(pca.components_.flatten()), THRESHOLD)\n",
    "idx_significant_lipids = np.where(max_values>ths)[0]\n",
    "n_significant_lipids = len(idx_significant_lipids)\n",
    "print(f'{n_significant_lipids} ({n_significant_lipids/tot_lipids*100:.2f}% of original total) significant lipids found')\n",
    "significant_lipids = [lipids_ok[i] for i in idx_significant_lipids]"
   ]
  },
  {
   "cell_type": "code",
   "execution_count": 21,
   "metadata": {},
   "outputs": [
    {
     "name": "stdout",
     "output_type": "stream",
     "text": [
      "17 (80.95% of original total) lipid classes found\n",
      "['CE' 'CER' 'DAG' 'DCER' 'HCER' 'LPC' 'LPE' 'LPG' 'LPI' 'MAG' 'PC' 'PE'\n",
      " 'PG' 'PI' 'PS' 'SM' 'TAG']\n"
     ]
    }
   ],
   "source": [
    "lipid_classes = np.unique([lipids_ok[i].split('(')[0] for i in idx_significant_lipids])\n",
    "print(f'{len(lipid_classes)} ({len(lipid_classes)/n_classes*100:.2f}% of original total) lipid classes found')\n",
    "print(lipid_classes)"
   ]
  },
  {
   "cell_type": "code",
   "execution_count": 22,
   "metadata": {},
   "outputs": [
    {
     "name": "stdout",
     "output_type": "stream",
     "text": [
      "230 (20.26% of original total) date dependent lipids found\n"
     ]
    }
   ],
   "source": [
    "date_pc = np.where(p_values[:,1]<0.05)[0]\n",
    "significant_components = pca.components_[date_pc,:]\n",
    "max_values = np.max(np.abs(significant_components), axis=0)\n",
    "\n",
    "idx_significant_lipids = np.where(max_values>ths)[0]\n",
    "n_significant_lipids = len(idx_significant_lipids)\n",
    "print(f'{n_significant_lipids} ({n_significant_lipids/tot_lipids*100:.2f}% of original total) date dependent lipids found')\n",
    "date_lipids = [lipids_ok[i] for i in idx_significant_lipids]"
   ]
  },
  {
   "cell_type": "markdown",
   "metadata": {},
   "source": [
    "## Save results"
   ]
  },
  {
   "cell_type": "code",
   "execution_count": 23,
   "metadata": {},
   "outputs": [],
   "source": [
    "with open(os.path.join('results','significant_lipid'+test_enc_name+'.txt'), 'w') as f:\n",
    "    for l in significant_lipids:\n",
    "        f.write(l+'\\n')\n",
    "\n",
    "with open(os.path.join('results','date_lipids'+test_enc_name+'.txt'), 'w') as f:\n",
    "    for l in date_lipids:\n",
    "        f.write(l+'\\n')\n",
    "\n",
    "with open(os.path.join('results','significant_lipid_classes'+test_enc_name+'.txt'), 'w') as f:\n",
    "    for l in lipid_classes:\n",
    "        f.write(l+'\\n')"
   ]
  },
  {
   "cell_type": "markdown",
   "metadata": {},
   "source": [
    "### EXAMPLE WITH PARTIAL LEAST SQUARE - DA"
   ]
  },
  {
   "cell_type": "code",
   "execution_count": 24,
   "metadata": {},
   "outputs": [
    {
     "name": "stderr",
     "output_type": "stream",
     "text": [
      "c:\\Users\\ibern\\AppData\\Local\\Programs\\Python\\Python311\\Lib\\site-packages\\sklearn\\cross_decomposition\\_pls.py:302: UserWarning: Y residual is constant at iteration 56\n",
      "  warnings.warn(f\"Y residual is constant at iteration {k}\")\n",
      "c:\\Users\\ibern\\AppData\\Local\\Programs\\Python\\Python311\\Lib\\site-packages\\sklearn\\cross_decomposition\\_pls.py:302: UserWarning: Y residual is constant at iteration 55\n",
      "  warnings.warn(f\"Y residual is constant at iteration {k}\")\n"
     ]
    }
   ],
   "source": [
    "from sklearn.cross_decomposition import PLSRegression\n",
    "pls2_treatment = PLSRegression(n_components=72, scale = False)\n",
    "pls2_date = PLSRegression(n_components=72, scale = False)\n",
    "data_pls2_treatment = pls2_treatment.fit_transform(data_norm, data_stats['Treatment'].values)\n",
    "data_pls2_date = pls2_date.fit_transform(data_norm, data_stats['Sample Submission Date'].values)\n"
   ]
  },
  {
   "cell_type": "code",
   "execution_count": 25,
   "metadata": {},
   "outputs": [
    {
     "name": "stdout",
     "output_type": "stream",
     "text": [
      "(72, 3)\n"
     ]
    }
   ],
   "source": [
    "p_values_pls2 = [\n",
    "    [\n",
    "        d,\n",
    "        ttest_ind(data_pls2_treatment[0][data_stats['Sample Submission Date']==0, d], data_pls2_treatment[0][data_stats['Sample Submission Date']==1, d])[1],\n",
    "        ttest_ind(data_pls2_treatment[0][data_stats['Treatment']==0, d], data_pls2_treatment[0][data_stats['Treatment']==1, d])[1],\n",
    "    ]\n",
    "    for d in range(data_pls2_treatment[0].shape[1])\n",
    "]\n",
    "p_values_pls2 = np.asarray(p_values_pls2)\n",
    "print(p_values_pls2.shape)"
   ]
  },
  {
   "cell_type": "code",
   "execution_count": 26,
   "metadata": {},
   "outputs": [
    {
     "data": {
      "text/plain": [
       "array([[ 0.07473674,  1.42071025,  0.19214078, ...,  0.        ,\n",
       "         0.        ,  0.        ],\n",
       "       [-0.45257015,  0.7907593 ,  1.15392275, ...,  0.        ,\n",
       "         0.        ,  0.        ],\n",
       "       [ 2.44833954,  1.2304216 , -0.88760168, ...,  0.        ,\n",
       "         0.        ,  0.        ],\n",
       "       ...,\n",
       "       [-0.73944258, -0.64421849, -2.70771404, ...,  0.        ,\n",
       "         0.        ,  0.        ],\n",
       "       [-0.08718034,  0.32392182,  0.45486872, ...,  0.        ,\n",
       "         0.        ,  0.        ],\n",
       "       [-0.97806989, -1.19228261, -0.5760815 , ...,  0.        ,\n",
       "         0.        ,  0.        ]])"
      ]
     },
     "execution_count": 26,
     "metadata": {},
     "output_type": "execute_result"
    }
   ],
   "source": [
    "data_pls2_treatment[0]  "
   ]
  },
  {
   "cell_type": "code",
   "execution_count": 27,
   "metadata": {},
   "outputs": [
    {
     "name": "stderr",
     "output_type": "stream",
     "text": [
      "No artists with labels found to put in legend.  Note that artists whose label start with an underscore are ignored when legend() is called with no argument.\n"
     ]
    },
    {
     "data": {
      "image/png": "[encoded data removed]",
      "text/plain": [
       "<Figure size 1400x800 with 1 Axes>"
      ]
     },
     "metadata": {},
     "output_type": "display_data"
    }
   ],
   "source": [
    "fig = plt.figure(figsize=(14,8), dpi=100)\n",
    "plt.scatter(data_pls2_treatment[0][data_stats['Treatment']==0, 1], data_pls2_treatment[0][data_stats['Treatment']==0, 2],c=\"red\")\n",
    "plt.scatter(data_pls2_treatment[0][data_stats['Treatment']==1, 1], data_pls2_treatment[0][data_stats['Treatment']==1, 2],c=\"blue\")\n",
    "plt.legend()\n",
    "plt.title('Representation of samples in PLS space', fontdict={'fontsize':18})\n",
    "plt.tick_params(axis='both', which='major', labelsize=12)\n",
    "plt.xlabel('PLS1', fontdict={'fontsize':14})\n",
    "plt.ylabel('PLS2', fontdict={'fontsize':14})\n",
    "fig.savefig('results/figure2.png')"
   ]
  },
  {
   "cell_type": "code",
   "execution_count": 28,
   "metadata": {},
   "outputs": [
    {
     "data": {
      "image/png": "[encoded data removed]",
      "text/plain": [
       "<Figure size 640x480 with 1 Axes>"
      ]
     },
     "metadata": {},
     "output_type": "display_data"
    }
   ],
   "source": [
    "plt.scatter(data_pls2_date[0][data_stats['Sample Submission Date']==0, 0], data_pls2_date[0][data_stats['Sample Submission Date']==0, 1],c=\"red\")\n",
    "plt.scatter(data_pls2_date[0][data_stats['Sample Submission Date']==1, 0], data_pls2_date[0][data_stats['Sample Submission Date']==1, 1],c=\"blue\")\n",
    "plt.show()"
   ]
  },
  {
   "cell_type": "code",
   "execution_count": 29,
   "metadata": {},
   "outputs": [
    {
     "data": {
      "text/plain": [
       "array([[0.00000000e+00, 2.07921749e-02, 3.59102371e-04],\n",
       "       [1.00000000e+00, 1.50903515e-03, 8.22013374e-07],\n",
       "       [3.40000000e+01, 2.72221251e-03, 9.99998950e-01]])"
      ]
     },
     "execution_count": 29,
     "metadata": {},
     "output_type": "execute_result"
    }
   ],
   "source": [
    "p_values_pls2[[0,1,34,],:]"
   ]
  },
  {
   "cell_type": "code",
   "execution_count": 30,
   "metadata": {},
   "outputs": [
    {
     "name": "stdout",
     "output_type": "stream",
     "text": [
      "3 significant pc with respect to date\n",
      "5 significant pc with respect to TREATMENT\n",
      "2 significant pc with respect to both\n",
      "[0 1 2 3 4]\n",
      "[ 0  1 34]\n"
     ]
    }
   ],
   "source": [
    "print(f'{np.sum(p_values_pls2[:,1]<0.05)} significant pc with respect to date')\n",
    "print(f'{np.sum(p_values_pls2[:,2]<0.05)} significant pc with respect to TREATMENT')\n",
    "print(f'{np.sum((p_values_pls2[:,2]<0.05)*(p_values_pls2[:,1]<0.05))} significant pc with respect to both')\n",
    "\n",
    "significant_pc_pls2_treatment = np.where(p_values_pls2[:,2]<0.05)[0]\n",
    "significant_pc_pls2_date = np.where(p_values_pls2[:,1]<0.05)[0]\n",
    "print(significant_pc_pls2_treatment)\n",
    "print(significant_pc_pls2_date)"
   ]
  },
  {
   "cell_type": "code",
   "execution_count": 31,
   "metadata": {},
   "outputs": [],
   "source": [
    "# we have 372x72 so 372 lypids composing each of the 72 components. We ahve to transapose them and isolate the components identified as the most significants\n",
    "significant_components_pls2_treatment = pls2_treatment.x_weights_.T[significant_pc_pls2_treatment,:]\n",
    "# and then we get the 372 highest lypids avlues acroos all th selcted components\n",
    "max_values_pls2_treatment = np.max(np.abs(significant_components_pls2_treatment), axis = 0)"
   ]
  },
  {
   "cell_type": "code",
   "execution_count": 32,
   "metadata": {},
   "outputs": [],
   "source": [
    "ths_pls2_treatment = np.percentile(np.abs(pls2_treatment.x_weights_.T), THRESHOLD)"
   ]
  },
  {
   "cell_type": "code",
   "execution_count": 33,
   "metadata": {},
   "outputs": [
    {
     "data": {
      "text/plain": [
       "0.05536853316619667"
      ]
     },
     "execution_count": 33,
     "metadata": {},
     "output_type": "execute_result"
    }
   ],
   "source": [
    "ths_pls2_treatment"
   ]
  },
  {
   "cell_type": "code",
   "execution_count": 34,
   "metadata": {},
   "outputs": [
    {
     "name": "stdout",
     "output_type": "stream",
     "text": [
      "298 (26.26% of original total) significant lipids found\n",
      "[  0   1   2   3   4   6   7   8  11  12  13  14  15  16  18  19  21  22\n",
      "  24  25  26  27  29  30  31  32  33  34  36  38  39  41  43  44  45  46\n",
      "  47  48  49  51  53  54  56  57  58  59  60  61  62  63  65  66  67  68\n",
      "  70  71  72  73  74  75  76  77  78  79  82  83  84  85  86  87  88  89\n",
      "  90  91  92  93  94  96  97  98 100 101 103 106 109 110 111 112 113 114\n",
      " 116 117 119 120 121 123 124 125 127 128 129 130 131 133 134 135 137 139\n",
      " 140 141 142 143 144 145 146 149 150 151 153 154 155 156 158 159 160 161\n",
      " 165 166 167 168 169 170 171 172 173 176 177 178 179 181 182 183 184 185\n",
      " 186 187 189 190 192 193 194 195 196 197 198 199 200 201 202 203 204 205\n",
      " 206 207 208 209 210 211 212 213 214 215 216 217 219 220 221 222 223 224\n",
      " 226 227 228 229 230 231 232 233 234 235 236 237 238 239 240 241 242 244\n",
      " 246 249 250 252 253 254 255 257 258 259 260 261 262 263 264 265 266 267\n",
      " 268 269 270 271 272 273 274 275 276 277 278 279 280 281 282 283 284 285\n",
      " 287 290 291 292 293 294 295 296 297 298 299 300 302 304 305 307 308 310\n",
      " 311 317 318 319 320 321 323 325 326 327 328 330 332 333 334 336 337 338\n",
      " 339 340 341 342 345 346 347 348 349 350 351 352 353 356 357 359 360 361\n",
      " 362 363 364 365 366 367 368 369 370 371]\n"
     ]
    }
   ],
   "source": [
    "idx_significant_lipids_pls2_treatment = np.where(max_values_pls2_treatment>ths_pls2_treatment)[0]\n",
    "n_significant_lipids_pls2_treatment = len(idx_significant_lipids_pls2_treatment)\n",
    "print(f'{n_significant_lipids_pls2_treatment} ({n_significant_lipids_pls2_treatment/tot_lipids*100:.2f}% of original total) significant lipids found')\n",
    "significant_lipids_pls2_treatment = [lipids_ok[i] for i in idx_significant_lipids_pls2_treatment]\n",
    "print(idx_significant_lipids_pls2_treatment)"
   ]
  },
  {
   "cell_type": "code",
   "execution_count": 35,
   "metadata": {},
   "outputs": [],
   "source": [
    "#significant_components_pls2_date = pls2_date.x_weights_.T[significant_pc_pls2_date,:]\n",
    "#max_values_pls2_date = np.max(np.abs(significant_components_pls2_date), axis = 0)\n",
    "\n",
    "significant_components_pls2_date = pls2_treatment.x_weights_.T[significant_pc_pls2_date,:]\n",
    "max_values_pls2_date = np.max(np.abs(significant_components_pls2_date), axis = 0)"
   ]
  },
  {
   "cell_type": "code",
   "execution_count": 36,
   "metadata": {},
   "outputs": [],
   "source": [
    "# we actually don'tneed this if we are working with the treatment components\n",
    "#ths_pls2_date = np.percentile(np.abs(pls2_treatment.x_weights_.T), THRESHOLD)"
   ]
  },
  {
   "cell_type": "code",
   "execution_count": 37,
   "metadata": {},
   "outputs": [
    {
     "name": "stdout",
     "output_type": "stream",
     "text": [
      "247 (21.76% of original total) significant lipids found\n"
     ]
    }
   ],
   "source": [
    "\"\"\" idx_significant_lipids_pls2_date = np.where(max_values_pls2_date>ths_pls2_date)[0]\n",
    "n_significant_lipids_pls2_date = len(idx_significant_lipids_pls2_date)\n",
    "print(f'{n_significant_lipids_pls2_date} ({n_significant_lipids_pls2_date/tot_lipids*100:.2f}% of original total) significant lipids found')\n",
    "significant_lipids_pls2_date = [lipids_ok[i] for i in idx_significant_lipids_pls2_date] \"\"\"\n",
    "\n",
    "idx_significant_lipids_pls2_date = np.where(max_values_pls2_date>ths_pls2_treatment)[0]\n",
    "n_significant_lipids_pls2_date = len(idx_significant_lipids_pls2_date)\n",
    "print(f'{n_significant_lipids_pls2_date} ({n_significant_lipids_pls2_date/tot_lipids*100:.2f}% of original total) significant lipids found')\n",
    "significant_lipids_pls2_date = [lipids_ok[i] for i in idx_significant_lipids_pls2_date]"
   ]
  },
  {
   "cell_type": "code",
   "execution_count": 38,
   "metadata": {},
   "outputs": [
    {
     "name": "stdout",
     "output_type": "stream",
     "text": [
      "18 (85.71% of original total) lipid classes found\n",
      "['CE' 'CER' 'DAG' 'DCER' 'HCER' 'LPC' 'LPE' 'LPG' 'LPI' 'LPS' 'MAG' 'PC'\n",
      " 'PE' 'PG' 'PI' 'PS' 'SM' 'TAG']\n"
     ]
    }
   ],
   "source": [
    "lipid_classes_pls2_treatment = np.unique([lipids_ok[i].split('(')[0] for i in idx_significant_lipids_pls2_treatment])\n",
    "print(f'{len(lipid_classes_pls2_treatment)} ({len(lipid_classes_pls2_treatment)/n_classes*100:.2f}% of original total) lipid classes found')\n",
    "print(lipid_classes_pls2_treatment)"
   ]
  },
  {
   "cell_type": "code",
   "execution_count": 39,
   "metadata": {},
   "outputs": [
    {
     "name": "stdout",
     "output_type": "stream",
     "text": [
      "16 (76.19% of original total) lipid classes found\n",
      "['CER' 'DAG' 'DCER' 'HCER' 'LPC' 'LPE' 'LPI' 'LPS' 'MAG' 'PC' 'PE' 'PG'\n",
      " 'PI' 'PS' 'SM' 'TAG']\n"
     ]
    }
   ],
   "source": [
    "lipid_classes_pls2_date = np.unique([lipids_ok[i].split('(')[0] for i in idx_significant_lipids_pls2_date])\n",
    "print(f'{len(lipid_classes_pls2_date)} ({len(lipid_classes_pls2_date)/n_classes*100:.2f}% of original total) lipid classes found')\n",
    "print(lipid_classes_pls2_date)"
   ]
  },
  {
   "cell_type": "code",
   "execution_count": 40,
   "metadata": {},
   "outputs": [
    {
     "data": {
      "text/plain": [
       "75"
      ]
     },
     "execution_count": 40,
     "metadata": {},
     "output_type": "execute_result"
    }
   ],
   "source": [
    "unique_set_treatment = set(significant_lipids_pls2_treatment).difference(set(significant_lipids_pls2_date))\n",
    "unique_list_treatment = list(unique_set_treatment)\n",
    "len(unique_list_treatment)"
   ]
  },
  {
   "cell_type": "code",
   "execution_count": 41,
   "metadata": {},
   "outputs": [],
   "source": [
    "with open(os.path.join('results','significant_lipids_pls2_treatment'+test_enc_name+'.txt'), 'w') as f:\n",
    "    for l in significant_lipids_pls2_treatment:\n",
    "        f.write(l+'\\n')"
   ]
  },
  {
   "cell_type": "code",
   "execution_count": 42,
   "metadata": {},
   "outputs": [],
   "source": [
    "with open(os.path.join('results','significant_lipids_pls2_date'+test_enc_name+'.txt'), 'w') as f:\n",
    "    for l in significant_lipids_pls2_date:\n",
    "        f.write(l+'\\n')"
   ]
  },
  {
   "cell_type": "code",
   "execution_count": 43,
   "metadata": {},
   "outputs": [],
   "source": [
    "with open(os.path.join('results','significant_lipids_pls2_unique_treatment'+test_enc_name+'.txt'), 'w') as f:\n",
    "    for l in unique_list_treatment:\n",
    "        f.write(l+'\\n')"
   ]
  },
  {
   "cell_type": "code",
   "execution_count": null,
   "metadata": {},
   "outputs": [],
   "source": []
  },
  {
   "cell_type": "code",
   "execution_count": null,
   "metadata": {},
   "outputs": [],
   "source": []
  }
 ],
 "metadata": {
  "kernelspec": {
   "display_name": "Python 3 (ipykernel)",
   "language": "python",
   "name": "python3"
  },
  "language_info": {
   "codemirror_mode": {
    "name": "ipython",
    "version": 3
   },
   "file_extension": ".py",
   "mimetype": "text/x-python",
   "name": "python",
   "nbconvert_exporter": "python",
   "pygments_lexer": "ipython3",
   "version": "3.11.4"
  },
  "orig_nbformat": 4,
  "vscode": {
   "interpreter": {
    "hash": "19d1d53a962d236aa061289c2ac16dc8e6d9648c89fe79f459ae9a3493bc67b4"
   }
  }
 },
 "nbformat": 4,
 "nbformat_minor": 2
}
