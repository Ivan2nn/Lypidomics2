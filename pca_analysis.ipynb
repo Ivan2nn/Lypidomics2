{
 "cells": [
  {
   "cell_type": "code",
   "execution_count": 1,
   "metadata": {},
   "outputs": [],
   "source": [
    "import pandas as pd\n",
    "import numpy as np\n",
    "import matplotlib.pyplot as plt\n",
    "import seaborn as sns\n",
    "from sklearn.decomposition import PCA\n",
    "from sklearn.preprocessing import StandardScaler, LabelEncoder\n",
    "from sklearn.feature_selection import SelectKBest, f_classif\n",
    "from scipy.stats import ttest_ind\n",
    "import json\n",
    "import os\n",
    "\n",
    "THRESHOLD = 90"
   ]
  },
  {
   "cell_type": "code",
   "execution_count": 2,
   "metadata": {},
   "outputs": [],
   "source": [
    "with open('data/paths.json','r') as f:\n",
    "    paths = json.load(f)\n",
    "\n",
    "data_path = paths[\"data_path\"]"
   ]
  },
  {
   "cell_type": "code",
   "execution_count": 3,
   "metadata": {},
   "outputs": [
    {
     "data": {
      "text/html": [
       "<div>\n",
       "<style scoped>\n",
       "    .dataframe tbody tr th:only-of-type {\n",
       "        vertical-align: middle;\n",
       "    }\n",
       "\n",
       "    .dataframe tbody tr th {\n",
       "        vertical-align: top;\n",
       "    }\n",
       "\n",
       "    .dataframe thead th {\n",
       "        text-align: right;\n",
       "    }\n",
       "</style>\n",
       "<table border=\"1\" class=\"dataframe\">\n",
       "  <thead>\n",
       "    <tr style=\"text-align: right;\">\n",
       "      <th></th>\n",
       "      <th>Sample Number</th>\n",
       "      <th>Sample Submission Date</th>\n",
       "      <th>Sample Name</th>\n",
       "      <th>Sex</th>\n",
       "      <th>Tissue weight (mg)</th>\n",
       "      <th>Treatment</th>\n",
       "      <th>Tissue Type</th>\n",
       "      <th>PND</th>\n",
       "      <th>Litter</th>\n",
       "      <th>Individual Lipid Species</th>\n",
       "      <th>Lipid Class</th>\n",
       "      <th>MRM Transition of each lipid species\\n(Parent ion / Fragment ion)</th>\n",
       "      <th>Lipid Species used as Internal Standard</th>\n",
       "      <th>Retention Time (min)</th>\n",
       "      <th>Peak Area of Lipid Species</th>\n",
       "      <th>Peak Area of Internal Standard</th>\n",
       "      <th>Normalized Peak Area (Peak Area of Lipid Species / (Peak Area of Internal Standard * Tissue Weight))</th>\n",
       "    </tr>\n",
       "  </thead>\n",
       "  <tbody>\n",
       "    <tr>\n",
       "      <th>0</th>\n",
       "      <td>1</td>\n",
       "      <td>09/2021</td>\n",
       "      <td>C20M1S</td>\n",
       "      <td>M</td>\n",
       "      <td>56</td>\n",
       "      <td>control</td>\n",
       "      <td>striatum</td>\n",
       "      <td>30</td>\n",
       "      <td>C20</td>\n",
       "      <td>SM(14:0)+H</td>\n",
       "      <td>SM</td>\n",
       "      <td>675.5 / 184.1</td>\n",
       "      <td>SM(18:1)+H_d9_SPLASH.IS</td>\n",
       "      <td>12.737513</td>\n",
       "      <td>4.116176e+06</td>\n",
       "      <td>4.165659e+07</td>\n",
       "      <td>0.000842</td>\n",
       "    </tr>\n",
       "    <tr>\n",
       "      <th>1</th>\n",
       "      <td>1</td>\n",
       "      <td>09/2021</td>\n",
       "      <td>C20M1S</td>\n",
       "      <td>M</td>\n",
       "      <td>56</td>\n",
       "      <td>control</td>\n",
       "      <td>striatum</td>\n",
       "      <td>30</td>\n",
       "      <td>C20</td>\n",
       "      <td>SM(16:0)+H</td>\n",
       "      <td>SM</td>\n",
       "      <td>703.6 / 184.1</td>\n",
       "      <td>SM(18:1)+H_d9_SPLASH.IS</td>\n",
       "      <td>12.662914</td>\n",
       "      <td>2.433723e+07</td>\n",
       "      <td>4.165659e+07</td>\n",
       "      <td>0.006390</td>\n",
       "    </tr>\n",
       "    <tr>\n",
       "      <th>2</th>\n",
       "      <td>1</td>\n",
       "      <td>09/2021</td>\n",
       "      <td>C20M1S</td>\n",
       "      <td>M</td>\n",
       "      <td>56</td>\n",
       "      <td>control</td>\n",
       "      <td>striatum</td>\n",
       "      <td>30</td>\n",
       "      <td>C20</td>\n",
       "      <td>SM(18:0)+H</td>\n",
       "      <td>SM</td>\n",
       "      <td>731.6 / 184.1</td>\n",
       "      <td>SM(18:1)+H_d9_SPLASH.IS</td>\n",
       "      <td>12.580159</td>\n",
       "      <td>1.432478e+08</td>\n",
       "      <td>4.165659e+07</td>\n",
       "      <td>0.036989</td>\n",
       "    </tr>\n",
       "    <tr>\n",
       "      <th>3</th>\n",
       "      <td>1</td>\n",
       "      <td>09/2021</td>\n",
       "      <td>C20M1S</td>\n",
       "      <td>M</td>\n",
       "      <td>56</td>\n",
       "      <td>control</td>\n",
       "      <td>striatum</td>\n",
       "      <td>30</td>\n",
       "      <td>C20</td>\n",
       "      <td>SM(18:1)+H</td>\n",
       "      <td>SM</td>\n",
       "      <td>729.6 / 184.1</td>\n",
       "      <td>SM(18:1)+H_d9_SPLASH.IS</td>\n",
       "      <td>12.572303</td>\n",
       "      <td>1.268323e+08</td>\n",
       "      <td>4.165659e+07</td>\n",
       "      <td>0.046320</td>\n",
       "    </tr>\n",
       "    <tr>\n",
       "      <th>4</th>\n",
       "      <td>1</td>\n",
       "      <td>09/2021</td>\n",
       "      <td>C20M1S</td>\n",
       "      <td>M</td>\n",
       "      <td>56</td>\n",
       "      <td>control</td>\n",
       "      <td>striatum</td>\n",
       "      <td>30</td>\n",
       "      <td>C20</td>\n",
       "      <td>SM(20:0)+H</td>\n",
       "      <td>SM</td>\n",
       "      <td>759.6 / 184.1</td>\n",
       "      <td>SM(18:1)+H_d9_SPLASH.IS</td>\n",
       "      <td>12.486523</td>\n",
       "      <td>5.419340e+06</td>\n",
       "      <td>4.165659e+07</td>\n",
       "      <td>0.001167</td>\n",
       "    </tr>\n",
       "  </tbody>\n",
       "</table>\n",
       "</div>"
      ],
      "text/plain": [
       "   Sample Number Sample Submission Date Sample Name Sex  Tissue weight (mg)  \\\n",
       "0              1                09/2021      C20M1S   M                  56   \n",
       "1              1                09/2021      C20M1S   M                  56   \n",
       "2              1                09/2021      C20M1S   M                  56   \n",
       "3              1                09/2021      C20M1S   M                  56   \n",
       "4              1                09/2021      C20M1S   M                  56   \n",
       "\n",
       "  Treatment Tissue Type  PND Litter Individual Lipid Species Lipid Class  \\\n",
       "0   control    striatum   30    C20               SM(14:0)+H          SM   \n",
       "1   control    striatum   30    C20               SM(16:0)+H          SM   \n",
       "2   control    striatum   30    C20               SM(18:0)+H          SM   \n",
       "3   control    striatum   30    C20               SM(18:1)+H          SM   \n",
       "4   control    striatum   30    C20               SM(20:0)+H          SM   \n",
       "\n",
       "  MRM Transition of each lipid species\\n(Parent ion / Fragment ion)  \\\n",
       "0                                      675.5 / 184.1                  \n",
       "1                                      703.6 / 184.1                  \n",
       "2                                      731.6 / 184.1                  \n",
       "3                                      729.6 / 184.1                  \n",
       "4                                      759.6 / 184.1                  \n",
       "\n",
       "  Lipid Species used as Internal Standard  Retention Time (min)  \\\n",
       "0                 SM(18:1)+H_d9_SPLASH.IS             12.737513   \n",
       "1                 SM(18:1)+H_d9_SPLASH.IS             12.662914   \n",
       "2                 SM(18:1)+H_d9_SPLASH.IS             12.580159   \n",
       "3                 SM(18:1)+H_d9_SPLASH.IS             12.572303   \n",
       "4                 SM(18:1)+H_d9_SPLASH.IS             12.486523   \n",
       "\n",
       "   Peak Area of Lipid Species  Peak Area of Internal Standard  \\\n",
       "0                4.116176e+06                    4.165659e+07   \n",
       "1                2.433723e+07                    4.165659e+07   \n",
       "2                1.432478e+08                    4.165659e+07   \n",
       "3                1.268323e+08                    4.165659e+07   \n",
       "4                5.419340e+06                    4.165659e+07   \n",
       "\n",
       "   Normalized Peak Area (Peak Area of Lipid Species / (Peak Area of Internal Standard * Tissue Weight))  \n",
       "0                                           0.000842                                                     \n",
       "1                                           0.006390                                                     \n",
       "2                                           0.036989                                                     \n",
       "3                                           0.046320                                                     \n",
       "4                                           0.001167                                                     "
      ]
     },
     "execution_count": 3,
     "metadata": {},
     "output_type": "execute_result"
    }
   ],
   "source": [
    "data = pd.read_csv(os.path.join(data_path,'clean_data.csv'))\n",
    "n_classes = len(np.unique(data['Lipid Class']))\n",
    "data.head()"
   ]
  },
  {
   "cell_type": "code",
   "execution_count": 4,
   "metadata": {},
   "outputs": [
    {
     "data": {
      "text/plain": [
       "(43434, 17)"
      ]
     },
     "execution_count": 4,
     "metadata": {},
     "output_type": "execute_result"
    }
   ],
   "source": [
    "data.shape"
   ]
  },
  {
   "cell_type": "code",
   "execution_count": 5,
   "metadata": {},
   "outputs": [],
   "source": [
    "data_pivot = data.pivot(index=['Sample Name', 'Sex', 'Treatment', 'PND', 'Tissue Type', 'Sample Submission Date'], columns='Individual Lipid Species', values=data.columns[16])\n",
    "tot_lipids = data_pivot.shape[1] - 6\n",
    "data_stats = data_pivot.reset_index().dropna(axis=1, thresh=0.9*data_pivot.shape[0]).fillna(0)\n",
    "# data_stats.drop(columns=['Individual Lipid Species'])\n",
    "data_stats.head()\n",
    "lipids_ok = list(data_stats.columns[6:])"
   ]
  },
  {
   "cell_type": "code",
   "execution_count": 6,
   "metadata": {},
   "outputs": [
    {
     "data": {
      "text/plain": [
       "array([0, 1])"
      ]
     },
     "execution_count": 6,
     "metadata": {},
     "output_type": "execute_result"
    }
   ],
   "source": [
    "data_stats['Sample Submission Date'] = LabelEncoder().fit_transform(data_stats['Sample Submission Date'])\n",
    "data_stats['Treatment'] = LabelEncoder().fit_transform(data_stats['Treatment'])\n",
    "data_stats['Sample Submission Date'].unique()"
   ]
  },
  {
   "cell_type": "code",
   "execution_count": 7,
   "metadata": {},
   "outputs": [
    {
     "name": "stdout",
     "output_type": "stream",
     "text": [
      "(72, 372)\n"
     ]
    }
   ],
   "source": [
    "data_np = data_stats.values[:,6:] + 1e-10\n",
    "data_np = np.log(data_np.astype('float64'))\n",
    "print(data_np.shape)"
   ]
  },
  {
   "cell_type": "code",
   "execution_count": 8,
   "metadata": {},
   "outputs": [
    {
     "data": {
      "image/png": "[encoded data removed]",
      "text/plain": [
       "<Figure size 432x288 with 1 Axes>"
      ]
     },
     "metadata": {
      "needs_background": "light"
     },
     "output_type": "display_data"
    }
   ],
   "source": [
    "plt.figure()\n",
    "plt.hist(data_np.flatten())\n",
    "plt.show()"
   ]
  },
  {
   "cell_type": "code",
   "execution_count": 9,
   "metadata": {},
   "outputs": [
    {
     "name": "stdout",
     "output_type": "stream",
     "text": [
      "(72, 72)\n"
     ]
    }
   ],
   "source": [
    "pca = PCA()\n",
    "data_norm = StandardScaler().fit_transform(data_np)\n",
    "data_pca = pca.fit_transform(data_norm)\n",
    "print(data_pca.shape)"
   ]
  },
  {
   "cell_type": "code",
   "execution_count": 10,
   "metadata": {},
   "outputs": [
    {
     "data": {
      "image/png": "[encoded data removed]",
      "text/plain": [
       "<Figure size 432x288 with 1 Axes>"
      ]
     },
     "metadata": {
      "needs_background": "light"
     },
     "output_type": "display_data"
    }
   ],
   "source": [
    "plt.figure()\n",
    "plt.plot(np.cumsum(pca.explained_variance_ratio_))\n",
    "plt.show()"
   ]
  },
  {
   "cell_type": "code",
   "execution_count": 11,
   "metadata": {},
   "outputs": [
    {
     "data": {
      "text/plain": [
       "(72, 378)"
      ]
     },
     "execution_count": 11,
     "metadata": {},
     "output_type": "execute_result"
    }
   ],
   "source": [
    "data_stats.shape"
   ]
  },
  {
   "cell_type": "code",
   "execution_count": 12,
   "metadata": {},
   "outputs": [
    {
     "name": "stdout",
     "output_type": "stream",
     "text": [
      "(72, 3)\n"
     ]
    }
   ],
   "source": [
    "p_values = [\n",
    "    [\n",
    "        d,\n",
    "        ttest_ind(data_pca[data_stats['Sample Submission Date']==0, d], data_pca[data_stats['Sample Submission Date']==1, d])[1],\n",
    "        ttest_ind(data_pca[data_stats['Treatment']==0, d], data_pca[data_stats['Treatment']==1, d])[1],\n",
    "    ]\n",
    "    for d in range(data_pca.shape[1])\n",
    "]\n",
    "p_values = np.asarray(p_values)\n",
    "print(p_values.shape)"
   ]
  },
  {
   "cell_type": "code",
   "execution_count": 35,
   "metadata": {},
   "outputs": [
    {
     "data": {
      "text/plain": [
       "array([[0.00000000e+00, 1.46586851e-04, 2.87280383e-01],\n",
       "       [1.00000000e+00, 1.04494033e-01, 1.24421797e-01],\n",
       "       [2.00000000e+00, 9.61042936e-01, 2.50787994e-01],\n",
       "       [3.00000000e+00, 6.48766924e-01, 2.85179141e-01],\n",
       "       [4.00000000e+00, 3.77486230e-01, 3.23223248e-01],\n",
       "       [5.00000000e+00, 6.79882821e-01, 7.15397836e-01],\n",
       "       [6.00000000e+00, 2.52311970e-01, 4.59044800e-01],\n",
       "       [7.00000000e+00, 8.01348284e-01, 3.86608646e-01],\n",
       "       [8.00000000e+00, 5.42462048e-01, 2.30188579e-01],\n",
       "       [9.00000000e+00, 2.39716255e-02, 6.61995117e-01],\n",
       "       [1.00000000e+01, 2.44404558e-01, 1.08239666e-01],\n",
       "       [1.10000000e+01, 3.82784729e-01, 2.18374845e-01],\n",
       "       [1.20000000e+01, 6.82094931e-01, 8.49295639e-01],\n",
       "       [1.30000000e+01, 8.63788993e-01, 5.71486044e-02],\n",
       "       [1.40000000e+01, 4.11701634e-01, 6.64955274e-03],\n",
       "       [1.50000000e+01, 6.35592717e-01, 9.45249894e-01],\n",
       "       [1.60000000e+01, 8.60757825e-02, 7.05068260e-01],\n",
       "       [1.70000000e+01, 4.50202331e-01, 7.95327167e-01],\n",
       "       [1.80000000e+01, 4.10360694e-01, 8.79194447e-01],\n",
       "       [1.90000000e+01, 6.14401846e-01, 6.33634572e-01],\n",
       "       [2.00000000e+01, 7.91787761e-01, 7.32059625e-01],\n",
       "       [2.10000000e+01, 7.08236385e-01, 6.25389603e-04],\n",
       "       [2.20000000e+01, 5.69565151e-01, 9.71289279e-01],\n",
       "       [2.30000000e+01, 8.30617465e-01, 7.27554294e-01],\n",
       "       [2.40000000e+01, 2.27574142e-01, 6.93190833e-01],\n",
       "       [2.50000000e+01, 2.87506082e-01, 9.63539300e-01],\n",
       "       [2.60000000e+01, 7.89646990e-01, 1.83820873e-01],\n",
       "       [2.70000000e+01, 3.17450313e-01, 4.21073052e-01],\n",
       "       [2.80000000e+01, 4.33380085e-01, 9.96999131e-01],\n",
       "       [2.90000000e+01, 4.75024155e-01, 5.35911022e-01],\n",
       "       [3.00000000e+01, 7.16884079e-01, 4.07325261e-01],\n",
       "       [3.10000000e+01, 7.39426771e-01, 9.13373785e-01],\n",
       "       [3.20000000e+01, 5.77337707e-01, 8.46754395e-01],\n",
       "       [3.30000000e+01, 4.42823845e-01, 4.26646922e-01],\n",
       "       [3.40000000e+01, 6.40705742e-01, 5.47530793e-01],\n",
       "       [3.50000000e+01, 8.94832409e-01, 6.32846052e-01],\n",
       "       [3.60000000e+01, 3.45887331e-01, 9.30623121e-02],\n",
       "       [3.70000000e+01, 1.61627367e-01, 7.25753142e-01],\n",
       "       [3.80000000e+01, 7.47291409e-01, 9.27870273e-01],\n",
       "       [3.90000000e+01, 3.82962412e-01, 5.51395208e-02],\n",
       "       [4.00000000e+01, 6.92295822e-01, 6.24348546e-01],\n",
       "       [4.10000000e+01, 4.79383661e-01, 1.35512633e-01],\n",
       "       [4.20000000e+01, 6.42083160e-01, 5.52540546e-01],\n",
       "       [4.30000000e+01, 5.10638944e-01, 2.95902073e-02],\n",
       "       [4.40000000e+01, 5.21067846e-01, 6.88466939e-01],\n",
       "       [4.50000000e+01, 3.81221291e-01, 9.67120542e-01],\n",
       "       [4.60000000e+01, 1.99241425e-01, 9.25831151e-01],\n",
       "       [4.70000000e+01, 9.12795197e-01, 1.19213351e-01],\n",
       "       [4.80000000e+01, 8.36081514e-01, 6.25993349e-01],\n",
       "       [4.90000000e+01, 2.77740185e-01, 4.59608417e-01],\n",
       "       [5.00000000e+01, 6.28693790e-01, 5.30370809e-01],\n",
       "       [5.10000000e+01, 1.37523508e-01, 7.21122120e-01],\n",
       "       [5.20000000e+01, 9.79779886e-01, 6.12706751e-01],\n",
       "       [5.30000000e+01, 6.00263564e-01, 9.54144511e-01],\n",
       "       [5.40000000e+01, 4.12748406e-01, 2.15979710e-01],\n",
       "       [5.50000000e+01, 8.21575059e-01, 3.31760828e-01],\n",
       "       [5.60000000e+01, 8.88220590e-01, 7.71850642e-01],\n",
       "       [5.70000000e+01, 8.66509107e-01, 3.21777560e-01],\n",
       "       [5.80000000e+01, 1.17686922e-01, 6.19277714e-01],\n",
       "       [5.90000000e+01, 5.95743660e-01, 6.86221129e-01],\n",
       "       [6.00000000e+01, 3.16068551e-01, 4.62413077e-01],\n",
       "       [6.10000000e+01, 4.70366450e-01, 1.50698814e-01],\n",
       "       [6.20000000e+01, 5.01201020e-01, 9.56862389e-01],\n",
       "       [6.30000000e+01, 8.81121874e-01, 4.25851716e-01],\n",
       "       [6.40000000e+01, 3.18679005e-01, 9.19099158e-01],\n",
       "       [6.50000000e+01, 9.73035937e-01, 2.30144692e-01],\n",
       "       [6.60000000e+01, 3.73236367e-01, 8.73549227e-01],\n",
       "       [6.70000000e+01, 4.25617864e-03, 4.91783625e-01],\n",
       "       [6.80000000e+01, 2.30618736e-02, 7.84427625e-01],\n",
       "       [6.90000000e+01, 9.99615435e-01, 2.13282237e-01],\n",
       "       [7.00000000e+01, 6.20377448e-01, 8.03583719e-01],\n",
       "       [7.10000000e+01, 3.72933755e-02, 9.88911076e-02]])"
      ]
     },
     "execution_count": 35,
     "metadata": {},
     "output_type": "execute_result"
    }
   ],
   "source": [
    "p_values"
   ]
  },
  {
   "cell_type": "code",
   "execution_count": 13,
   "metadata": {},
   "outputs": [
    {
     "data": {
      "image/png": "[encoded data removed]",
      "text/plain": [
       "<Figure size 432x288 with 1 Axes>"
      ]
     },
     "metadata": {
      "needs_background": "light"
     },
     "output_type": "display_data"
    }
   ],
   "source": [
    "plt.scatter(data_pca[data_stats['Treatment']==0, 14], data_pca[data_stats['Treatment']==0, 21],c=\"red\")\n",
    "plt.scatter(data_pca[data_stats['Treatment']==1, 14], data_pca[data_stats['Treatment']==1, 21],c=\"blue\")\n",
    "plt.show()"
   ]
  },
  {
   "attachments": {},
   "cell_type": "markdown",
   "metadata": {},
   "source": [
    "### EXAMPLE WITH PARTIAL LEAST SQUARE - DA"
   ]
  },
  {
   "cell_type": "code",
   "execution_count": 66,
   "metadata": {},
   "outputs": [
    {
     "name": "stderr",
     "output_type": "stream",
     "text": [
      "/home/ivan/.local/lib/python3.8/site-packages/sklearn/cross_decomposition/_pls.py:305: UserWarning: Y residual is constant at iteration 55\n",
      "  warnings.warn(f\"Y residual is constant at iteration {k}\")\n",
      "/home/ivan/.local/lib/python3.8/site-packages/sklearn/cross_decomposition/_pls.py:305: UserWarning: Y residual is constant at iteration 55\n",
      "  warnings.warn(f\"Y residual is constant at iteration {k}\")\n"
     ]
    }
   ],
   "source": [
    "from sklearn.cross_decomposition import PLSRegression\n",
    "pls2_treatment = PLSRegression(n_components=72, scale = False)\n",
    "pls2_date = PLSRegression(n_components=72, scale = False)\n",
    "data_pls2_treatment = pls2_treatment.fit_transform(data_norm, data_stats['Treatment'].values)\n",
    "data_pls2_date = pls2_date.fit_transform(data_norm, data_stats['Sample Submission Date'].values)\n"
   ]
  },
  {
   "cell_type": "code",
   "execution_count": 67,
   "metadata": {},
   "outputs": [
    {
     "name": "stdout",
     "output_type": "stream",
     "text": [
      "(72, 72)\n",
      "(72, 72)\n"
     ]
    }
   ],
   "source": [
    "print(data_pls2_treatment[0].shape)\n",
    "print(data_pls2_date[0].shape)"
   ]
  },
  {
   "cell_type": "code",
   "execution_count": 54,
   "metadata": {},
   "outputs": [
    {
     "data": {
      "text/plain": [
       "array([[ 0.8627207 ,  8.15252639, -1.43205113, ...,  0.        ,\n",
       "         0.        ,  0.        ],\n",
       "       [-1.58591843,  4.84439443, -7.9130282 , ...,  0.        ,\n",
       "         0.        ,  0.        ],\n",
       "       [12.45724662,  7.04821415,  4.31145251, ...,  0.        ,\n",
       "         0.        ,  0.        ],\n",
       "       ...,\n",
       "       [-2.71639784, -1.06590207, 13.01775933, ...,  0.        ,\n",
       "         0.        ,  0.        ],\n",
       "       [-0.93392201,  0.82002363, -1.68685053, ...,  0.        ,\n",
       "         0.        ,  0.        ],\n",
       "       [-5.50621558, -7.20302168,  3.58957083, ...,  0.        ,\n",
       "         0.        ,  0.        ]])"
      ]
     },
     "execution_count": 54,
     "metadata": {},
     "output_type": "execute_result"
    }
   ],
   "source": [
    "data_pls2_treatment[0]"
   ]
  },
  {
   "cell_type": "code",
   "execution_count": 68,
   "metadata": {},
   "outputs": [
    {
     "name": "stdout",
     "output_type": "stream",
     "text": [
      "(72, 3)\n"
     ]
    }
   ],
   "source": [
    "p_values_pls2 = [\n",
    "    [\n",
    "        d,\n",
    "        ttest_ind(data_pls2_date[0][data_stats['Sample Submission Date']==0, d], data_pls2_date[0][data_stats['Sample Submission Date']==1, d])[1],\n",
    "        ttest_ind(data_pls2_treatment[0][data_stats['Treatment']==0, d], data_pls2_treatment[0][data_stats['Treatment']==1, d])[1],\n",
    "    ]\n",
    "    for d in range(data_pls2_treatment[0].shape[1])\n",
    "]\n",
    "p_values_pls2 = np.asarray(p_values_pls2)\n",
    "print(p_values_pls2.shape)"
   ]
  },
  {
   "cell_type": "code",
   "execution_count": 56,
   "metadata": {},
   "outputs": [
    {
     "data": {
      "text/plain": [
       "array([[0.00000000e+00, 4.72146976e-06, 1.21213815e-04],\n",
       "       [1.00000000e+00, 8.62094739e-05, 8.88203009e-06],\n",
       "       [2.00000000e+00, 3.99239092e-05, 1.48856851e-06],\n",
       "       [3.00000000e+00, 4.02092871e-03, 6.11802244e-03],\n",
       "       [4.00000000e+00, 1.52270794e-02, 1.77364054e-02],\n",
       "       [5.00000000e+00, 4.81419247e-02, 7.60571292e-02],\n",
       "       [6.00000000e+00, 1.14378163e-01, 2.15167545e-01],\n",
       "       [7.00000000e+00, 3.05779580e-01, 3.05676420e-01],\n",
       "       [8.00000000e+00, 3.59361404e-01, 4.58934824e-01],\n",
       "       [9.00000000e+00, 4.05941086e-01, 5.59638368e-01],\n",
       "       [1.00000000e+01, 6.68314765e-01, 6.87456792e-01],\n",
       "       [1.10000000e+01, 7.33173610e-01, 8.11841979e-01],\n",
       "       [1.20000000e+01, 8.55878582e-01, 8.66239980e-01],\n",
       "       [1.30000000e+01, 8.97674220e-01, 9.00621533e-01],\n",
       "       [1.40000000e+01, 9.43882357e-01, 9.39310541e-01],\n",
       "       [1.50000000e+01, 9.63931025e-01, 9.58302128e-01],\n",
       "       [1.60000000e+01, 9.75744719e-01, 9.75599984e-01],\n",
       "       [1.70000000e+01, 9.85269951e-01, 9.83409408e-01],\n",
       "       [1.80000000e+01, 9.89889221e-01, 9.91374215e-01],\n",
       "       [1.90000000e+01, 9.93927465e-01, 9.94862168e-01],\n",
       "       [2.00000000e+01, 9.95802898e-01, 9.97189398e-01],\n",
       "       [2.10000000e+01, 9.97398157e-01, 9.98408470e-01],\n",
       "       [2.20000000e+01, 9.98413024e-01, 9.98794770e-01],\n",
       "       [2.30000000e+01, 9.99129478e-01, 9.99250061e-01],\n",
       "       [2.40000000e+01, 9.99482445e-01, 9.99585215e-01],\n",
       "       [2.50000000e+01, 9.99692803e-01, 9.99784980e-01],\n",
       "       [2.60000000e+01, 9.99854776e-01, 9.99856237e-01],\n",
       "       [2.70000000e+01, 9.99925816e-01, 9.99923176e-01],\n",
       "       [2.80000000e+01, 9.99953870e-01, 9.99953804e-01],\n",
       "       [2.90000000e+01, 9.99974898e-01, 9.99980074e-01],\n",
       "       [3.00000000e+01, 9.99987679e-01, 9.99990526e-01],\n",
       "       [3.10000000e+01, 9.99994366e-01, 9.99994903e-01],\n",
       "       [3.20000000e+01, 9.99996940e-01, 9.99997373e-01],\n",
       "       [3.30000000e+01, 9.99998432e-01, 9.99998707e-01],\n",
       "       [3.40000000e+01, 9.99999228e-01, 9.99999347e-01],\n",
       "       [3.50000000e+01, 9.99999614e-01, 9.99999707e-01],\n",
       "       [3.60000000e+01, 9.99999859e-01, 9.99999852e-01],\n",
       "       [3.70000000e+01, 9.99999936e-01, 9.99999933e-01],\n",
       "       [3.80000000e+01, 9.99999967e-01, 9.99999963e-01],\n",
       "       [3.90000000e+01, 9.99999984e-01, 9.99999985e-01],\n",
       "       [4.00000000e+01, 9.99999993e-01, 9.99999993e-01],\n",
       "       [4.10000000e+01, 9.99999997e-01, 9.99999997e-01],\n",
       "       [4.20000000e+01, 9.99999999e-01, 9.99999998e-01],\n",
       "       [4.30000000e+01, 9.99999999e-01, 9.99999999e-01],\n",
       "       [4.40000000e+01, 1.00000000e+00, 1.00000000e+00],\n",
       "       [4.50000000e+01, 1.00000000e+00, 1.00000000e+00],\n",
       "       [4.60000000e+01, 1.00000000e+00, 1.00000000e+00],\n",
       "       [4.70000000e+01, 1.00000000e+00, 1.00000000e+00],\n",
       "       [4.80000000e+01, 1.00000000e+00, 1.00000000e+00],\n",
       "       [4.90000000e+01, 1.00000000e+00, 1.00000000e+00],\n",
       "       [5.00000000e+01, 1.00000000e+00, 1.00000000e+00],\n",
       "       [5.10000000e+01, 1.00000000e+00, 1.00000000e+00],\n",
       "       [5.20000000e+01, 1.00000000e+00, 1.00000000e+00],\n",
       "       [5.30000000e+01, 1.00000000e+00, 1.00000000e+00],\n",
       "       [5.40000000e+01, 1.00000000e+00, 1.00000000e+00],\n",
       "       [5.50000000e+01,            nan,            nan],\n",
       "       [5.60000000e+01,            nan,            nan],\n",
       "       [5.70000000e+01,            nan,            nan],\n",
       "       [5.80000000e+01,            nan,            nan],\n",
       "       [5.90000000e+01,            nan,            nan],\n",
       "       [6.00000000e+01,            nan,            nan],\n",
       "       [6.10000000e+01,            nan,            nan],\n",
       "       [6.20000000e+01,            nan,            nan],\n",
       "       [6.30000000e+01,            nan,            nan],\n",
       "       [6.40000000e+01,            nan,            nan],\n",
       "       [6.50000000e+01,            nan,            nan],\n",
       "       [6.60000000e+01,            nan,            nan],\n",
       "       [6.70000000e+01,            nan,            nan],\n",
       "       [6.80000000e+01,            nan,            nan],\n",
       "       [6.90000000e+01,            nan,            nan],\n",
       "       [7.00000000e+01,            nan,            nan],\n",
       "       [7.10000000e+01,            nan,            nan]])"
      ]
     },
     "execution_count": 56,
     "metadata": {},
     "output_type": "execute_result"
    }
   ],
   "source": [
    "p_values_pls2"
   ]
  },
  {
   "cell_type": "code",
   "execution_count": 57,
   "metadata": {},
   "outputs": [
    {
     "data": {
      "image/png": "[encoded data removed]",
      "text/plain": [
       "<Figure size 432x288 with 1 Axes>"
      ]
     },
     "metadata": {
      "needs_background": "light"
     },
     "output_type": "display_data"
    }
   ],
   "source": [
    "plt.scatter(data_pls2_treatment[0][data_stats['Treatment']==0, 1], data_pls2_treatment[0][data_stats['Treatment']==0, 2],c=\"red\")\n",
    "plt.scatter(data_pls2_treatment[0][data_stats['Treatment']==1, 1], data_pls2_treatment[0][data_stats['Treatment']==1, 2],c=\"blue\")\n",
    "plt.show()"
   ]
  },
  {
   "cell_type": "code",
   "execution_count": 69,
   "metadata": {},
   "outputs": [
    {
     "data": {
      "image/png": "[encoded data removed]",
      "text/plain": [
       "<Figure size 432x288 with 1 Axes>"
      ]
     },
     "metadata": {
      "needs_background": "light"
     },
     "output_type": "display_data"
    }
   ],
   "source": [
    "plt.scatter(data_pls2_date[0][data_stats['Sample Submission Date']==0, 0], data_pls2_date[0][data_stats['Sample Submission Date']==0, 1],c=\"red\")\n",
    "plt.scatter(data_pls2_date[0][data_stats['Sample Submission Date']==1, 0], data_pls2_date[0][data_stats['Sample Submission Date']==1, 1],c=\"blue\")\n",
    "plt.show()"
   ]
  },
  {
   "cell_type": "code",
   "execution_count": 70,
   "metadata": {},
   "outputs": [
    {
     "name": "stdout",
     "output_type": "stream",
     "text": [
      "6 significant pc with respect to date\n",
      "5 significant pc with respect to TREATMENT\n",
      "1 significant pc with respect to both\n",
      "[0 1 2 3 4]\n",
      "[0 1 2 3 4 5]\n"
     ]
    }
   ],
   "source": [
    "print(f'{np.sum(p_values_pls2[:,1]<0.05)} significant pc with respect to date')\n",
    "print(f'{np.sum(p_values_pls2[:,2]<0.05)} significant pc with respect to TREATMENT')\n",
    "print(f'{np.sum((p_values_pls2[:,2]<0.05)*(p_values[:,1]<0.05))} significant pc with respect to both')\n",
    "\n",
    "significant_pc_pls2_treatment = np.where(p_values_pls2[:,2]<0.05)[0]\n",
    "significant_pc_pls2_date = np.where(p_values_pls2[:,1]<0.05)[0]\n",
    "print(significant_pc_pls2_treatment)\n",
    "print(significant_pc_pls2_date)"
   ]
  },
  {
   "cell_type": "code",
   "execution_count": 80,
   "metadata": {},
   "outputs": [
    {
     "name": "stdout",
     "output_type": "stream",
     "text": [
      "(5, 372)\n",
      "(372,)\n"
     ]
    }
   ],
   "source": [
    "significant_components_pls2_treatment = pls2_treatment.x_weights_.T[significant_pc_pls2_treatment,:]\n",
    "print(significant_components_pls2_treatment.shape)\n",
    "max_values_pls2_treatment = np.max(np.abs(significant_components_pls2_treatment), axis = 0)\n",
    "print(max_values_pls2_treatment.shape)"
   ]
  },
  {
   "cell_type": "code",
   "execution_count": 81,
   "metadata": {},
   "outputs": [],
   "source": [
    "ths_pls2_treatment = np.percentile(np.abs(pls2_treatment.x_weights_.T.flatten()), THRESHOLD)"
   ]
  },
  {
   "cell_type": "code",
   "execution_count": 82,
   "metadata": {},
   "outputs": [
    {
     "name": "stdout",
     "output_type": "stream",
     "text": [
      "192 (22.48% of original total) significant lipids found\n"
     ]
    }
   ],
   "source": [
    "idx_significant_lipids_pls2_treatment = np.where(max_values_pls2_treatment>ths_pls2_treatment)[0]\n",
    "n_significant_lipids_pls2_treatment = len(idx_significant_lipids_pls2_treatment)\n",
    "print(f'{n_significant_lipids_pls2_treatment} ({n_significant_lipids_pls2_treatment/tot_lipids*100:.2f}% of original total) significant lipids found')\n",
    "significant_lipids_pls2_treatment = [lipids_ok[i] for i in idx_significant_lipids_pls2_treatment]"
   ]
  },
  {
   "cell_type": "code",
   "execution_count": 83,
   "metadata": {},
   "outputs": [
    {
     "name": "stdout",
     "output_type": "stream",
     "text": [
      "(6, 372)\n",
      "(372,)\n"
     ]
    }
   ],
   "source": [
    "significant_components_pls2_date = pls2_date.x_weights_.T[significant_pc_pls2_date,:]\n",
    "print(significant_components_pls2_date.shape)\n",
    "max_values_pls2_date = np.max(np.abs(significant_components_pls2_date), axis = 0)\n",
    "print(max_values_pls2_date.shape)"
   ]
  },
  {
   "cell_type": "code",
   "execution_count": 84,
   "metadata": {},
   "outputs": [],
   "source": [
    "ths_pls2_date = np.percentile(np.abs(pls2_date.x_weights_.T.flatten()), THRESHOLD)"
   ]
  },
  {
   "cell_type": "code",
   "execution_count": 85,
   "metadata": {},
   "outputs": [
    {
     "name": "stdout",
     "output_type": "stream",
     "text": [
      "215 (25.18% of original total) significant lipids found\n"
     ]
    }
   ],
   "source": [
    "idx_significant_lipids_pls2_date = np.where(max_values_pls2_date>ths_pls2_date)[0]\n",
    "n_significant_lipids_pls2_date = len(idx_significant_lipids_pls2_date)\n",
    "print(f'{n_significant_lipids_pls2_date} ({n_significant_lipids_pls2_date/tot_lipids*100:.2f}% of original total) significant lipids found')\n",
    "significant_lipids_pls2_date = [lipids_ok[i] for i in idx_significant_lipids_pls2_date]"
   ]
  },
  {
   "cell_type": "code",
   "execution_count": 86,
   "metadata": {},
   "outputs": [
    {
     "name": "stdout",
     "output_type": "stream",
     "text": [
      "16 (76.19% of original total) lipid classes found\n",
      "['CER' 'DAG' 'DCER' 'HCER' 'LPC' 'LPE' 'LPI' 'LPS' 'MAG' 'PC' 'PE' 'PG'\n",
      " 'PI' 'PS' 'SM' 'TAG']\n"
     ]
    }
   ],
   "source": [
    "lipid_classes_pls2_treatment = np.unique([lipids_ok[i].split('(')[0] for i in idx_significant_lipids_pls2_treatment])\n",
    "print(f'{len(lipid_classes_pls2_treatment)} ({len(lipid_classes_pls2_treatment)/n_classes*100:.2f}% of original total) lipid classes found')\n",
    "print(lipid_classes_pls2_treatment)"
   ]
  },
  {
   "cell_type": "code",
   "execution_count": 87,
   "metadata": {},
   "outputs": [
    {
     "name": "stdout",
     "output_type": "stream",
     "text": [
      "18 (85.71% of original total) lipid classes found\n",
      "['CE' 'CER' 'DAG' 'DCER' 'HCER' 'LPC' 'LPE' 'LPG' 'LPI' 'LPS' 'MAG' 'PC'\n",
      " 'PE' 'PG' 'PI' 'PS' 'SM' 'TAG']\n"
     ]
    }
   ],
   "source": [
    "lipid_classes_pls2_date = np.unique([lipids_ok[i].split('(')[0] for i in idx_significant_lipids_pls2_date])\n",
    "print(f'{len(lipid_classes_pls2_date)} ({len(lipid_classes_pls2_date)/n_classes*100:.2f}% of original total) lipid classes found')\n",
    "print(lipid_classes_pls2_date)"
   ]
  },
  {
   "cell_type": "code",
   "execution_count": 94,
   "metadata": {},
   "outputs": [
    {
     "data": {
      "text/plain": [
       "['LPI(20:3)-H',\n",
       " 'PE(O-18:0_16:1)-H',\n",
       " 'TAG(56:6_FA20:4)+NH4',\n",
       " 'PE(18:1_22:6)-H',\n",
       " 'DAG(16:1_20:4)+NH4',\n",
       " 'TAG(52:4_FA18:2)+NH4',\n",
       " 'DCER(18:0)+H',\n",
       " 'TAG(56:7_FA20:3)+NH4',\n",
       " 'PS(18:0_18:0)-H',\n",
       " 'PE(16:0_20:4)-H',\n",
       " 'PE(18:1_18:2)-H',\n",
       " 'PG(18:0_20:3)-H',\n",
       " 'PE(P-16:0_16:1)-H',\n",
       " 'PC(18:2_20:4)+AcO',\n",
       " 'TAG(58:10_FA20:4)+NH4',\n",
       " 'TAG(54:4_FA20:4)+NH4',\n",
       " 'PI(14:0_20:1)-H',\n",
       " 'TAG(54:5_FA20:4)+NH4',\n",
       " 'PE(P-18:1_18:2)-H',\n",
       " 'TAG(56:6_FA22:6)+NH4',\n",
       " 'PS(18:0_22:4)-H',\n",
       " 'LPI(20:4)-H',\n",
       " 'CER(18:1)+H',\n",
       " 'PG(18:0_22:4)-H',\n",
       " 'MAG(16:1)+NH4',\n",
       " 'PE(16:0_20:3)-H',\n",
       " 'LPC(22:5)+AcO',\n",
       " 'TAG(52:4_FA20:4)+NH4',\n",
       " 'PE(P-18:0_16:0)-H',\n",
       " 'PS(18:0_18:1)-H',\n",
       " 'PE(P-18:0_22:6)-H',\n",
       " 'CER(24:0)+H',\n",
       " 'PS(18:0_18:2)-H',\n",
       " 'PI(18:1_18:2)-H',\n",
       " 'LPI(20:1)-H',\n",
       " 'PS(18:0_20:1)-H',\n",
       " 'PI(18:1_20:3)-H',\n",
       " 'PI(18:1_20:4)-H',\n",
       " 'MAG(22:6)+NH4',\n",
       " 'PI(18:1_16:1)-H',\n",
       " 'PS(18:0_20:0)-H',\n",
       " 'PE(P-18:1_22:5)-H',\n",
       " 'PG(16:0_22:6)-H',\n",
       " 'PI(18:2_22:6)-H',\n",
       " 'PS(18:2_20:4)-H',\n",
       " 'PE(O-18:0_16:0)-H',\n",
       " 'PS(16:0_22:6)-H',\n",
       " 'TAG(46:4_FA18:2)+NH4',\n",
       " 'TAG(56:7_FA16:0)+NH4',\n",
       " 'PE(O-16:0_20:5)-H',\n",
       " 'MAG(18:2)+NH4',\n",
       " 'PG(18:1_20:4)-H',\n",
       " 'PG(18:0_20:4)-H',\n",
       " 'PI(16:0_18:2)-H',\n",
       " 'TAG(52:5_FA16:1)+NH4',\n",
       " 'PE(16:0_22:4)-H',\n",
       " 'PE(P-18:2_20:4)-H',\n",
       " 'TAG(54:7_FA20:4)+NH4',\n",
       " 'PE(P-18:1_20:3)-H',\n",
       " 'PE(O-16:0_20:3)-H',\n",
       " 'PS(18:0_16:1)-H',\n",
       " 'PS(18:0_20:3)-H',\n",
       " 'TAG(50:2_FA16:1)+NH4',\n",
       " 'DAG(18:1_22:4)+NH4',\n",
       " 'TAG(54:5_FA18:1)+NH4',\n",
       " 'PC(16:0_16:1)+AcO']"
      ]
     },
     "execution_count": 94,
     "metadata": {},
     "output_type": "execute_result"
    }
   ],
   "source": [
    "unique_set_treatment = set(significant_lipids_pls2_treatment).difference(set(significant_lipids_pls2_date))\n",
    "unique_list_treatment = list(unique_set_treatment)\n",
    "unique_list_treatment"
   ]
  },
  {
   "cell_type": "code",
   "execution_count": 95,
   "metadata": {},
   "outputs": [],
   "source": [
    "with open('significant_lipids_pls2_treatment.txt', 'w') as f:\n",
    "    for l in significant_lipids_pls2_treatment:\n",
    "        f.write(l+'\\n')"
   ]
  },
  {
   "cell_type": "code",
   "execution_count": 96,
   "metadata": {},
   "outputs": [],
   "source": [
    "with open('significant_lipids_pls2_date.txt', 'w') as f:\n",
    "    for l in significant_lipids_pls2_date:\n",
    "        f.write(l+'\\n')"
   ]
  },
  {
   "cell_type": "code",
   "execution_count": 97,
   "metadata": {},
   "outputs": [],
   "source": [
    "with open('significant_lipids_pls2_unique_treatment.txt', 'w') as f:\n",
    "    for l in unique_list_treatment:\n",
    "        f.write(l+'\\n')"
   ]
  },
  {
   "attachments": {},
   "cell_type": "markdown",
   "metadata": {},
   "source": [
    "### ENDING OF PARTIAL LEAST SQUARE - DA EXAMPLE"
   ]
  },
  {
   "cell_type": "code",
   "execution_count": 25,
   "metadata": {},
   "outputs": [
    {
     "data": {
      "text/plain": [
       "array([[0.00000000e+00, 1.46586851e-04, 2.87280383e-01],\n",
       "       [1.00000000e+00, 1.04494033e-01, 1.24421797e-01],\n",
       "       [2.00000000e+00, 9.61042936e-01, 2.50787994e-01],\n",
       "       [3.00000000e+00, 6.48766924e-01, 2.85179141e-01],\n",
       "       [4.00000000e+00, 3.77486230e-01, 3.23223248e-01],\n",
       "       [5.00000000e+00, 6.79882821e-01, 7.15397836e-01],\n",
       "       [6.00000000e+00, 2.52311970e-01, 4.59044800e-01],\n",
       "       [7.00000000e+00, 8.01348284e-01, 3.86608646e-01],\n",
       "       [8.00000000e+00, 5.42462048e-01, 2.30188579e-01],\n",
       "       [9.00000000e+00, 2.39716255e-02, 6.61995117e-01],\n",
       "       [1.00000000e+01, 2.44404558e-01, 1.08239666e-01],\n",
       "       [1.10000000e+01, 3.82784729e-01, 2.18374845e-01],\n",
       "       [1.20000000e+01, 6.82094931e-01, 8.49295639e-01],\n",
       "       [1.30000000e+01, 8.63788993e-01, 5.71486044e-02],\n",
       "       [1.40000000e+01, 4.11701634e-01, 6.64955274e-03],\n",
       "       [1.50000000e+01, 6.35592717e-01, 9.45249894e-01],\n",
       "       [1.60000000e+01, 8.60757825e-02, 7.05068260e-01],\n",
       "       [1.70000000e+01, 4.50202331e-01, 7.95327167e-01],\n",
       "       [1.80000000e+01, 4.10360694e-01, 8.79194447e-01],\n",
       "       [1.90000000e+01, 6.14401846e-01, 6.33634572e-01],\n",
       "       [2.00000000e+01, 7.91787761e-01, 7.32059625e-01],\n",
       "       [2.10000000e+01, 7.08236385e-01, 6.25389603e-04],\n",
       "       [2.20000000e+01, 5.69565151e-01, 9.71289279e-01],\n",
       "       [2.30000000e+01, 8.30617465e-01, 7.27554294e-01],\n",
       "       [2.40000000e+01, 2.27574142e-01, 6.93190833e-01],\n",
       "       [2.50000000e+01, 2.87506082e-01, 9.63539300e-01],\n",
       "       [2.60000000e+01, 7.89646990e-01, 1.83820873e-01],\n",
       "       [2.70000000e+01, 3.17450313e-01, 4.21073052e-01],\n",
       "       [2.80000000e+01, 4.33380085e-01, 9.96999131e-01],\n",
       "       [2.90000000e+01, 4.75024155e-01, 5.35911022e-01],\n",
       "       [3.00000000e+01, 7.16884079e-01, 4.07325261e-01],\n",
       "       [3.10000000e+01, 7.39426771e-01, 9.13373785e-01],\n",
       "       [3.20000000e+01, 5.77337707e-01, 8.46754395e-01],\n",
       "       [3.30000000e+01, 4.42823845e-01, 4.26646922e-01],\n",
       "       [3.40000000e+01, 6.40705742e-01, 5.47530793e-01],\n",
       "       [3.50000000e+01, 8.94832409e-01, 6.32846052e-01],\n",
       "       [3.60000000e+01, 3.45887331e-01, 9.30623121e-02],\n",
       "       [3.70000000e+01, 1.61627367e-01, 7.25753142e-01],\n",
       "       [3.80000000e+01, 7.47291409e-01, 9.27870273e-01],\n",
       "       [3.90000000e+01, 3.82962412e-01, 5.51395208e-02],\n",
       "       [4.00000000e+01, 6.92295822e-01, 6.24348546e-01],\n",
       "       [4.10000000e+01, 4.79383661e-01, 1.35512633e-01],\n",
       "       [4.20000000e+01, 6.42083160e-01, 5.52540546e-01],\n",
       "       [4.30000000e+01, 5.10638944e-01, 2.95902073e-02],\n",
       "       [4.40000000e+01, 5.21067846e-01, 6.88466939e-01],\n",
       "       [4.50000000e+01, 3.81221291e-01, 9.67120542e-01],\n",
       "       [4.60000000e+01, 1.99241425e-01, 9.25831151e-01],\n",
       "       [4.70000000e+01, 9.12795197e-01, 1.19213351e-01],\n",
       "       [4.80000000e+01, 8.36081514e-01, 6.25993349e-01],\n",
       "       [4.90000000e+01, 2.77740185e-01, 4.59608417e-01],\n",
       "       [5.00000000e+01, 6.28693790e-01, 5.30370809e-01],\n",
       "       [5.10000000e+01, 1.37523508e-01, 7.21122120e-01],\n",
       "       [5.20000000e+01, 9.79779886e-01, 6.12706751e-01],\n",
       "       [5.30000000e+01, 6.00263564e-01, 9.54144511e-01],\n",
       "       [5.40000000e+01, 4.12748406e-01, 2.15979710e-01],\n",
       "       [5.50000000e+01, 8.21575059e-01, 3.31760828e-01],\n",
       "       [5.60000000e+01, 8.88220590e-01, 7.71850642e-01],\n",
       "       [5.70000000e+01, 8.66509107e-01, 3.21777560e-01],\n",
       "       [5.80000000e+01, 1.17686922e-01, 6.19277714e-01],\n",
       "       [5.90000000e+01, 5.95743660e-01, 6.86221129e-01],\n",
       "       [6.00000000e+01, 3.16068551e-01, 4.62413077e-01],\n",
       "       [6.10000000e+01, 4.70366450e-01, 1.50698814e-01],\n",
       "       [6.20000000e+01, 5.01201020e-01, 9.56862389e-01],\n",
       "       [6.30000000e+01, 8.81121874e-01, 4.25851716e-01],\n",
       "       [6.40000000e+01, 3.18679005e-01, 9.19099158e-01],\n",
       "       [6.50000000e+01, 9.73035937e-01, 2.30144692e-01],\n",
       "       [6.60000000e+01, 3.73236367e-01, 8.73549227e-01],\n",
       "       [6.70000000e+01, 4.25617864e-03, 4.91783625e-01],\n",
       "       [6.80000000e+01, 2.30618736e-02, 7.84427625e-01],\n",
       "       [6.90000000e+01, 9.99615435e-01, 2.13282237e-01],\n",
       "       [7.00000000e+01, 6.20377448e-01, 8.03583719e-01],\n",
       "       [7.10000000e+01, 3.72933755e-02, 9.88911076e-02]])"
      ]
     },
     "execution_count": 25,
     "metadata": {},
     "output_type": "execute_result"
    }
   ],
   "source": [
    "p_values"
   ]
  },
  {
   "cell_type": "code",
   "execution_count": 26,
   "metadata": {},
   "outputs": [
    {
     "data": {
      "image/png": "[encoded data removed]",
      "text/plain": [
       "<Figure size 432x288 with 1 Axes>"
      ]
     },
     "metadata": {
      "needs_background": "light"
     },
     "output_type": "display_data"
    }
   ],
   "source": [
    "plt.figure()\n",
    "plt.plot(p_values[:,1], p_values[:,2],'o')\n",
    "plt.show()"
   ]
  },
  {
   "cell_type": "code",
   "execution_count": 27,
   "metadata": {},
   "outputs": [
    {
     "name": "stdout",
     "output_type": "stream",
     "text": [
      "5 significant pc with respect to date\n",
      "3 significant pc with respect to date\n",
      "0 significant pc with respect to both\n"
     ]
    }
   ],
   "source": [
    "print(f'{np.sum(p_values[:,1]<0.05)} significant pc with respect to date')\n",
    "print(f'{np.sum(p_values[:,2]<0.05)} significant pc with respect to date')\n",
    "print(f'{np.sum((p_values[:,2]<0.05)*(p_values[:,1]<0.05))} significant pc with respect to both')\n",
    "\n",
    "significant_pc = np.where(p_values[:,2]<0.05)[0]"
   ]
  },
  {
   "cell_type": "code",
   "execution_count": 28,
   "metadata": {},
   "outputs": [
    {
     "data": {
      "image/png": "[encoded data removed]",
      "text/plain": [
       "<Figure size 432x288 with 1 Axes>"
      ]
     },
     "metadata": {
      "needs_background": "light"
     },
     "output_type": "display_data"
    },
    {
     "name": "stdout",
     "output_type": "stream",
     "text": [
      "0.08449578223812229\n"
     ]
    }
   ],
   "source": [
    "plt.figure()\n",
    "plt.hist(pca.components_.flatten())\n",
    "plt.show()\n",
    "ths = np.percentile(np.abs(pca.components_.flatten()), THRESHOLD)\n",
    "print(ths)"
   ]
  },
  {
   "cell_type": "code",
   "execution_count": 29,
   "metadata": {},
   "outputs": [
    {
     "name": "stdout",
     "output_type": "stream",
     "text": [
      "(3, 372)\n",
      "(372,)\n"
     ]
    }
   ],
   "source": [
    "significant_components = pca.components_[significant_pc,:]\n",
    "print(significant_components.shape)\n",
    "max_values = np.max(np.abs(significant_components), axis=0)\n",
    "print(max_values.shape)"
   ]
  },
  {
   "cell_type": "code",
   "execution_count": 57,
   "metadata": {},
   "outputs": [
    {
     "name": "stdout",
     "output_type": "stream",
     "text": [
      "121 (14.17% of original total) significant lipids found\n"
     ]
    }
   ],
   "source": [
    "idx_significant_lipids = np.where(max_values>ths)[0]\n",
    "n_significant_lipids = len(idx_significant_lipids)\n",
    "print(f'{n_significant_lipids} ({n_significant_lipids/tot_lipids*100:.2f}% of original total) significant lipids found')\n",
    "significant_lipids = [lipids_ok[i] for i in idx_significant_lipids]"
   ]
  },
  {
   "cell_type": "code",
   "execution_count": 58,
   "metadata": {},
   "outputs": [
    {
     "name": "stdout",
     "output_type": "stream",
     "text": [
      "16 (76.19% of original total) lipid classes found\n",
      "['CER' 'DAG' 'DCER' 'HCER' 'LPC' 'LPE' 'LPI' 'LPS' 'MAG' 'PC' 'PE' 'PG'\n",
      " 'PI' 'PS' 'SM' 'TAG']\n"
     ]
    }
   ],
   "source": [
    "lipid_classes = np.unique([lipids_ok[i].split('(')[0] for i in idx_significant_lipids])\n",
    "print(f'{len(lipid_classes)} ({len(lipid_classes)/n_classes*100:.2f}% of original total) lipid classes found')\n",
    "print(lipid_classes)"
   ]
  },
  {
   "cell_type": "code",
   "execution_count": 59,
   "metadata": {},
   "outputs": [
    {
     "name": "stdout",
     "output_type": "stream",
     "text": [
      "121 (14.17% of original total) date dependent lipids found\n"
     ]
    }
   ],
   "source": [
    "date_pc = np.where(p_values[:,1]<0.05)[0]\n",
    "significant_components = pca.components_[date_pc,:]\n",
    "max_values = np.max(np.abs(significant_components), axis=0)\n",
    "\n",
    "idx_significant_lipids = np.where(max_values>ths)[0]\n",
    "n_significant_lipids = len(idx_significant_lipids)\n",
    "print(f'{n_significant_lipids} ({n_significant_lipids/tot_lipids*100:.2f}% of original total) date dependent lipids found')\n",
    "date_lipids = [lipids_ok[i] for i in idx_significant_lipids]"
   ]
  },
  {
   "cell_type": "code",
   "execution_count": 60,
   "metadata": {},
   "outputs": [],
   "source": [
    "with open('significant_lipids.txt', 'w') as f:\n",
    "    for l in significant_lipids:\n",
    "        f.write(l+'\\n')\n",
    "\n",
    "with open('date_lipids.txt', 'w') as f:\n",
    "    for l in date_lipids:\n",
    "        f.write(l+'\\n')\n",
    "\n",
    "with open('significant_lipid_classes.txt', 'w') as f:\n",
    "    for l in lipid_classes:\n",
    "        f.write(l+'\\n')"
   ]
  }
 ],
 "metadata": {
  "kernelspec": {
   "display_name": "base",
   "language": "python",
   "name": "python3"
  },
  "language_info": {
   "codemirror_mode": {
    "name": "ipython",
    "version": 3
   },
   "file_extension": ".py",
   "mimetype": "text/x-python",
   "name": "python",
   "nbconvert_exporter": "python",
   "pygments_lexer": "ipython3",
   "version": "3.8.8"
  },
  "orig_nbformat": 4,
  "vscode": {
   "interpreter": {
    "hash": "ce96d18428a423c525a3f0ed973f5e48e845aa99864a704e334219c0da2a8fc7"
   }
  }
 },
 "nbformat": 4,
 "nbformat_minor": 2
}
