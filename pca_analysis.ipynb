{
 "cells": [
  {
   "cell_type": "code",
   "execution_count": 5,
   "metadata": {},
   "outputs": [],
   "source": [
    "import pandas as pd\n",
    "import numpy as np\n",
    "import matplotlib.pyplot as plt\n",
    "import seaborn as sns\n",
    "from sklearn.decomposition import PCA\n",
    "from sklearn.preprocessing import StandardScaler, LabelEncoder, MinMaxScaler\n",
    "from sklearn.feature_selection import SelectKBest, f_classif\n",
    "from scipy.stats import ttest_ind\n",
    "import json\n",
    "import os\n"
   ]
  },
  {
   "cell_type": "markdown",
   "metadata": {},
   "source": [
    "# Set options"
   ]
  },
  {
   "cell_type": "code",
   "execution_count": 44,
   "metadata": {},
   "outputs": [],
   "source": [
    "THRESHOLD = 90\n",
    "batch_corrected = False\n",
    "nan_remove = True\n",
    "scaler_term = 'minmax'\n",
    "scaler = MinMaxScaler() if scaler_term=='minmax' else StandardScaler()\n",
    "\n",
    "test_enc_name = '_BatchCor'+str(batch_corrected)+'_NanRem'+str(nan_remove)+'_'+str(scaler_term)"
   ]
  },
  {
   "cell_type": "markdown",
   "metadata": {},
   "source": [
    "# Load config files"
   ]
  },
  {
   "cell_type": "code",
   "execution_count": 45,
   "metadata": {},
   "outputs": [],
   "source": [
    "with open('data/paths.json','r') as f:\n",
    "    paths = json.load(f)\n",
    "\n",
    "data_path = paths[\"data_path\"]"
   ]
  },
  {
   "cell_type": "markdown",
   "metadata": {},
   "source": [
    "# Get data"
   ]
  },
  {
   "cell_type": "code",
   "execution_count": 46,
   "metadata": {},
   "outputs": [
    {
     "data": {
      "text/html": [
       "<div>\n",
       "<style scoped>\n",
       "    .dataframe tbody tr th:only-of-type {\n",
       "        vertical-align: middle;\n",
       "    }\n",
       "\n",
       "    .dataframe tbody tr th {\n",
       "        vertical-align: top;\n",
       "    }\n",
       "\n",
       "    .dataframe thead th {\n",
       "        text-align: right;\n",
       "    }\n",
       "</style>\n",
       "<table border=\"1\" class=\"dataframe\">\n",
       "  <thead>\n",
       "    <tr style=\"text-align: right;\">\n",
       "      <th></th>\n",
       "      <th>Sample Number</th>\n",
       "      <th>Sample Submission Date</th>\n",
       "      <th>Sample Name</th>\n",
       "      <th>Sex</th>\n",
       "      <th>Tissue weight (mg)</th>\n",
       "      <th>Treatment</th>\n",
       "      <th>Tissue Type</th>\n",
       "      <th>PND</th>\n",
       "      <th>Litter</th>\n",
       "      <th>Individual Lipid Species</th>\n",
       "      <th>Lipid Class</th>\n",
       "      <th>MRM Transition of each lipid species\\n(Parent ion / Fragment ion)</th>\n",
       "      <th>Lipid Species used as Internal Standard</th>\n",
       "      <th>Retention Time\\n(min)</th>\n",
       "      <th>UNCORRECTED\\nPeak Area of Lipid Species</th>\n",
       "      <th>UNCORRECTED\\nPeak Area of Internal Standard</th>\n",
       "      <th>UNCORRECTED\\nNormalized Peak Area (Peak Area of Lipid Species / (Peak Area of Internal Standard * Tissue weight))</th>\n",
       "      <th>BATCH CORRECTED\\nPeak Area of Lipid Species</th>\n",
       "      <th>BATCH CORRECTED\\nPeak Area of Internal Standard</th>\n",
       "      <th>BATCH CORRECTED\\nNormalized Peak Area (Peak Area of Lipid Species / (Peak Area of Internal Standard * Tissue weight))</th>\n",
       "    </tr>\n",
       "  </thead>\n",
       "  <tbody>\n",
       "    <tr>\n",
       "      <th>0</th>\n",
       "      <td>1</td>\n",
       "      <td>09/2021</td>\n",
       "      <td>C20M1S</td>\n",
       "      <td>M</td>\n",
       "      <td>56</td>\n",
       "      <td>control</td>\n",
       "      <td>striatum</td>\n",
       "      <td>30</td>\n",
       "      <td>C20</td>\n",
       "      <td>SM(14:0)+H</td>\n",
       "      <td>SM</td>\n",
       "      <td>675.5 / 184.1</td>\n",
       "      <td>SM(18:1)+H_d9_SPLASH.IS</td>\n",
       "      <td>12.737513</td>\n",
       "      <td>4.116176e+06</td>\n",
       "      <td>6.142877e+07</td>\n",
       "      <td>0.001197</td>\n",
       "      <td>1.963161e+06</td>\n",
       "      <td>4.165659e+07</td>\n",
       "      <td>0.000842</td>\n",
       "    </tr>\n",
       "    <tr>\n",
       "      <th>1</th>\n",
       "      <td>1</td>\n",
       "      <td>09/2021</td>\n",
       "      <td>C20M1S</td>\n",
       "      <td>M</td>\n",
       "      <td>56</td>\n",
       "      <td>control</td>\n",
       "      <td>striatum</td>\n",
       "      <td>30</td>\n",
       "      <td>C20</td>\n",
       "      <td>SM(16:0)+H</td>\n",
       "      <td>SM</td>\n",
       "      <td>703.6 / 184.1</td>\n",
       "      <td>SM(18:1)+H_d9_SPLASH.IS</td>\n",
       "      <td>12.662914</td>\n",
       "      <td>2.433723e+07</td>\n",
       "      <td>6.142877e+07</td>\n",
       "      <td>0.007075</td>\n",
       "      <td>1.490595e+07</td>\n",
       "      <td>4.165659e+07</td>\n",
       "      <td>0.006390</td>\n",
       "    </tr>\n",
       "    <tr>\n",
       "      <th>2</th>\n",
       "      <td>1</td>\n",
       "      <td>09/2021</td>\n",
       "      <td>C20M1S</td>\n",
       "      <td>M</td>\n",
       "      <td>56</td>\n",
       "      <td>control</td>\n",
       "      <td>striatum</td>\n",
       "      <td>30</td>\n",
       "      <td>C20</td>\n",
       "      <td>SM(18:0)+H</td>\n",
       "      <td>SM</td>\n",
       "      <td>731.6 / 184.1</td>\n",
       "      <td>SM(18:1)+H_d9_SPLASH.IS</td>\n",
       "      <td>12.580159</td>\n",
       "      <td>1.432478e+08</td>\n",
       "      <td>6.142877e+07</td>\n",
       "      <td>0.041642</td>\n",
       "      <td>8.628739e+07</td>\n",
       "      <td>4.165659e+07</td>\n",
       "      <td>0.036989</td>\n",
       "    </tr>\n",
       "    <tr>\n",
       "      <th>3</th>\n",
       "      <td>1</td>\n",
       "      <td>09/2021</td>\n",
       "      <td>C20M1S</td>\n",
       "      <td>M</td>\n",
       "      <td>56</td>\n",
       "      <td>control</td>\n",
       "      <td>striatum</td>\n",
       "      <td>30</td>\n",
       "      <td>C20</td>\n",
       "      <td>SM(18:1)+H</td>\n",
       "      <td>SM</td>\n",
       "      <td>729.6 / 184.1</td>\n",
       "      <td>SM(18:1)+H_d9_SPLASH.IS</td>\n",
       "      <td>12.572303</td>\n",
       "      <td>1.268323e+08</td>\n",
       "      <td>6.142877e+07</td>\n",
       "      <td>0.036870</td>\n",
       "      <td>1.080535e+08</td>\n",
       "      <td>4.165659e+07</td>\n",
       "      <td>0.046320</td>\n",
       "    </tr>\n",
       "    <tr>\n",
       "      <th>4</th>\n",
       "      <td>1</td>\n",
       "      <td>09/2021</td>\n",
       "      <td>C20M1S</td>\n",
       "      <td>M</td>\n",
       "      <td>56</td>\n",
       "      <td>control</td>\n",
       "      <td>striatum</td>\n",
       "      <td>30</td>\n",
       "      <td>C20</td>\n",
       "      <td>SM(20:0)+H</td>\n",
       "      <td>SM</td>\n",
       "      <td>759.6 / 184.1</td>\n",
       "      <td>SM(18:1)+H_d9_SPLASH.IS</td>\n",
       "      <td>12.486523</td>\n",
       "      <td>5.419340e+06</td>\n",
       "      <td>6.142877e+07</td>\n",
       "      <td>0.001575</td>\n",
       "      <td>2.723486e+06</td>\n",
       "      <td>4.165659e+07</td>\n",
       "      <td>0.001167</td>\n",
       "    </tr>\n",
       "  </tbody>\n",
       "</table>\n",
       "</div>"
      ],
      "text/plain": [
       "   Sample Number Sample Submission Date Sample Name Sex  Tissue weight (mg)  \\\n",
       "0              1                09/2021      C20M1S   M                  56   \n",
       "1              1                09/2021      C20M1S   M                  56   \n",
       "2              1                09/2021      C20M1S   M                  56   \n",
       "3              1                09/2021      C20M1S   M                  56   \n",
       "4              1                09/2021      C20M1S   M                  56   \n",
       "\n",
       "  Treatment Tissue Type  PND Litter Individual Lipid Species Lipid Class  \\\n",
       "0   control    striatum   30    C20               SM(14:0)+H          SM   \n",
       "1   control    striatum   30    C20               SM(16:0)+H          SM   \n",
       "2   control    striatum   30    C20               SM(18:0)+H          SM   \n",
       "3   control    striatum   30    C20               SM(18:1)+H          SM   \n",
       "4   control    striatum   30    C20               SM(20:0)+H          SM   \n",
       "\n",
       "  MRM Transition of each lipid species\\n(Parent ion / Fragment ion)  \\\n",
       "0                                      675.5 / 184.1                  \n",
       "1                                      703.6 / 184.1                  \n",
       "2                                      731.6 / 184.1                  \n",
       "3                                      729.6 / 184.1                  \n",
       "4                                      759.6 / 184.1                  \n",
       "\n",
       "  Lipid Species used as Internal Standard  Retention Time\\n(min)  \\\n",
       "0                 SM(18:1)+H_d9_SPLASH.IS              12.737513   \n",
       "1                 SM(18:1)+H_d9_SPLASH.IS              12.662914   \n",
       "2                 SM(18:1)+H_d9_SPLASH.IS              12.580159   \n",
       "3                 SM(18:1)+H_d9_SPLASH.IS              12.572303   \n",
       "4                 SM(18:1)+H_d9_SPLASH.IS              12.486523   \n",
       "\n",
       "   UNCORRECTED\\nPeak Area of Lipid Species  \\\n",
       "0                             4.116176e+06   \n",
       "1                             2.433723e+07   \n",
       "2                             1.432478e+08   \n",
       "3                             1.268323e+08   \n",
       "4                             5.419340e+06   \n",
       "\n",
       "   UNCORRECTED\\nPeak Area of Internal Standard  \\\n",
       "0                                 6.142877e+07   \n",
       "1                                 6.142877e+07   \n",
       "2                                 6.142877e+07   \n",
       "3                                 6.142877e+07   \n",
       "4                                 6.142877e+07   \n",
       "\n",
       "   UNCORRECTED\\nNormalized Peak Area (Peak Area of Lipid Species / (Peak Area of Internal Standard * Tissue weight))  \\\n",
       "0                                           0.001197                                                                   \n",
       "1                                           0.007075                                                                   \n",
       "2                                           0.041642                                                                   \n",
       "3                                           0.036870                                                                   \n",
       "4                                           0.001575                                                                   \n",
       "\n",
       "   BATCH CORRECTED\\nPeak Area of Lipid Species  \\\n",
       "0                                 1.963161e+06   \n",
       "1                                 1.490595e+07   \n",
       "2                                 8.628739e+07   \n",
       "3                                 1.080535e+08   \n",
       "4                                 2.723486e+06   \n",
       "\n",
       "   BATCH CORRECTED\\nPeak Area of Internal Standard  \\\n",
       "0                                     4.165659e+07   \n",
       "1                                     4.165659e+07   \n",
       "2                                     4.165659e+07   \n",
       "3                                     4.165659e+07   \n",
       "4                                     4.165659e+07   \n",
       "\n",
       "   BATCH CORRECTED\\nNormalized Peak Area (Peak Area of Lipid Species / (Peak Area of Internal Standard * Tissue weight))  \n",
       "0                                           0.000842                                                                      \n",
       "1                                           0.006390                                                                      \n",
       "2                                           0.036989                                                                      \n",
       "3                                           0.046320                                                                      \n",
       "4                                           0.001167                                                                      "
      ]
     },
     "execution_count": 46,
     "metadata": {},
     "output_type": "execute_result"
    }
   ],
   "source": [
    "df = pd.read_excel(os.path.join(data_path,\"raw_data.xlsx\"))\n",
    "n_classes = len(np.unique(df['Lipid Class']))\n",
    "df.head()"
   ]
  },
  {
   "cell_type": "markdown",
   "metadata": {},
   "source": [
    "## Select normalized or unnormalized data"
   ]
  },
  {
   "cell_type": "code",
   "execution_count": 47,
   "metadata": {},
   "outputs": [
    {
     "data": {
      "text/html": [
       "<div>\n",
       "<style scoped>\n",
       "    .dataframe tbody tr th:only-of-type {\n",
       "        vertical-align: middle;\n",
       "    }\n",
       "\n",
       "    .dataframe tbody tr th {\n",
       "        vertical-align: top;\n",
       "    }\n",
       "\n",
       "    .dataframe thead th {\n",
       "        text-align: right;\n",
       "    }\n",
       "</style>\n",
       "<table border=\"1\" class=\"dataframe\">\n",
       "  <thead>\n",
       "    <tr style=\"text-align: right;\">\n",
       "      <th></th>\n",
       "      <th>Sample Number</th>\n",
       "      <th>Sample Submission Date</th>\n",
       "      <th>Sample Name</th>\n",
       "      <th>Sex</th>\n",
       "      <th>Tissue weight (mg)</th>\n",
       "      <th>Treatment</th>\n",
       "      <th>Tissue Type</th>\n",
       "      <th>PND</th>\n",
       "      <th>Litter</th>\n",
       "      <th>Individual Lipid Species</th>\n",
       "      <th>Lipid Class</th>\n",
       "      <th>UNCORRECTED\\nNormalized Peak Area (Peak Area of Lipid Species / (Peak Area of Internal Standard * Tissue weight))</th>\n",
       "    </tr>\n",
       "  </thead>\n",
       "  <tbody>\n",
       "    <tr>\n",
       "      <th>0</th>\n",
       "      <td>1</td>\n",
       "      <td>09/2021</td>\n",
       "      <td>C20M1S</td>\n",
       "      <td>M</td>\n",
       "      <td>56</td>\n",
       "      <td>control</td>\n",
       "      <td>striatum</td>\n",
       "      <td>30</td>\n",
       "      <td>C20</td>\n",
       "      <td>SM(14:0)+H</td>\n",
       "      <td>SM</td>\n",
       "      <td>0.001197</td>\n",
       "    </tr>\n",
       "    <tr>\n",
       "      <th>1</th>\n",
       "      <td>1</td>\n",
       "      <td>09/2021</td>\n",
       "      <td>C20M1S</td>\n",
       "      <td>M</td>\n",
       "      <td>56</td>\n",
       "      <td>control</td>\n",
       "      <td>striatum</td>\n",
       "      <td>30</td>\n",
       "      <td>C20</td>\n",
       "      <td>SM(16:0)+H</td>\n",
       "      <td>SM</td>\n",
       "      <td>0.007075</td>\n",
       "    </tr>\n",
       "    <tr>\n",
       "      <th>2</th>\n",
       "      <td>1</td>\n",
       "      <td>09/2021</td>\n",
       "      <td>C20M1S</td>\n",
       "      <td>M</td>\n",
       "      <td>56</td>\n",
       "      <td>control</td>\n",
       "      <td>striatum</td>\n",
       "      <td>30</td>\n",
       "      <td>C20</td>\n",
       "      <td>SM(18:0)+H</td>\n",
       "      <td>SM</td>\n",
       "      <td>0.041642</td>\n",
       "    </tr>\n",
       "    <tr>\n",
       "      <th>3</th>\n",
       "      <td>1</td>\n",
       "      <td>09/2021</td>\n",
       "      <td>C20M1S</td>\n",
       "      <td>M</td>\n",
       "      <td>56</td>\n",
       "      <td>control</td>\n",
       "      <td>striatum</td>\n",
       "      <td>30</td>\n",
       "      <td>C20</td>\n",
       "      <td>SM(18:1)+H</td>\n",
       "      <td>SM</td>\n",
       "      <td>0.036870</td>\n",
       "    </tr>\n",
       "    <tr>\n",
       "      <th>4</th>\n",
       "      <td>1</td>\n",
       "      <td>09/2021</td>\n",
       "      <td>C20M1S</td>\n",
       "      <td>M</td>\n",
       "      <td>56</td>\n",
       "      <td>control</td>\n",
       "      <td>striatum</td>\n",
       "      <td>30</td>\n",
       "      <td>C20</td>\n",
       "      <td>SM(20:0)+H</td>\n",
       "      <td>SM</td>\n",
       "      <td>0.001575</td>\n",
       "    </tr>\n",
       "  </tbody>\n",
       "</table>\n",
       "</div>"
      ],
      "text/plain": [
       "   Sample Number Sample Submission Date Sample Name Sex  Tissue weight (mg)  \\\n",
       "0              1                09/2021      C20M1S   M                  56   \n",
       "1              1                09/2021      C20M1S   M                  56   \n",
       "2              1                09/2021      C20M1S   M                  56   \n",
       "3              1                09/2021      C20M1S   M                  56   \n",
       "4              1                09/2021      C20M1S   M                  56   \n",
       "\n",
       "  Treatment Tissue Type  PND Litter Individual Lipid Species Lipid Class  \\\n",
       "0   control    striatum   30    C20               SM(14:0)+H          SM   \n",
       "1   control    striatum   30    C20               SM(16:0)+H          SM   \n",
       "2   control    striatum   30    C20               SM(18:0)+H          SM   \n",
       "3   control    striatum   30    C20               SM(18:1)+H          SM   \n",
       "4   control    striatum   30    C20               SM(20:0)+H          SM   \n",
       "\n",
       "   UNCORRECTED\\nNormalized Peak Area (Peak Area of Lipid Species / (Peak Area of Internal Standard * Tissue weight))  \n",
       "0                                           0.001197                                                                  \n",
       "1                                           0.007075                                                                  \n",
       "2                                           0.041642                                                                  \n",
       "3                                           0.036870                                                                  \n",
       "4                                           0.001575                                                                  "
      ]
     },
     "execution_count": 47,
     "metadata": {},
     "output_type": "execute_result"
    }
   ],
   "source": [
    "metadata = df.iloc[:,:11]\n",
    "if batch_corrected:\n",
    "    data = pd.concat([metadata, df.iloc[:,19]],axis=1)\n",
    "else:\n",
    "    data = pd.concat([metadata, df.iloc[:,16]],axis=1)\n",
    "data.head()"
   ]
  },
  {
   "cell_type": "markdown",
   "metadata": {},
   "source": [
    "## Organize pivot table"
   ]
  },
  {
   "cell_type": "code",
   "execution_count": 48,
   "metadata": {},
   "outputs": [],
   "source": [
    "data_pivot = data.pivot(index=['Sample Name', 'Sex', 'Treatment', 'PND', 'Tissue Type', 'Sample Submission Date'], columns='Individual Lipid Species', values=data.columns[-1])\n",
    "tot_lipids = data_pivot.shape[1] - 6"
   ]
  },
  {
   "cell_type": "markdown",
   "metadata": {},
   "source": [
    "## Manage NaN"
   ]
  },
  {
   "cell_type": "code",
   "execution_count": 49,
   "metadata": {},
   "outputs": [],
   "source": [
    "if nan_remove:\n",
    "    data_stats = data_pivot.reset_index().dropna(axis=1, thresh=0.9*data_pivot.shape[0]).fillna(1e-3*np.max(data.iloc[:,-1]))\n",
    "else:\n",
    "    data_stats = data_pivot.reset_index().fillna(1e-3*np.max(data.iloc[:,-1]))\n",
    "data_stats.head()\n",
    "lipids_ok = list(data_stats.columns[6:])"
   ]
  },
  {
   "cell_type": "markdown",
   "metadata": {},
   "source": [
    "## Encode batch"
   ]
  },
  {
   "cell_type": "code",
   "execution_count": 50,
   "metadata": {},
   "outputs": [
    {
     "data": {
      "text/plain": [
       "array([0, 1])"
      ]
     },
     "execution_count": 50,
     "metadata": {},
     "output_type": "execute_result"
    }
   ],
   "source": [
    "data_stats['Sample Submission Date'] = LabelEncoder().fit_transform(data_stats['Sample Submission Date'])\n",
    "data_stats['Treatment'] = LabelEncoder().fit_transform(data_stats['Treatment'])\n",
    "data_stats['Sample Submission Date'].unique()"
   ]
  },
  {
   "cell_type": "markdown",
   "metadata": {},
   "source": [
    "## Log transform"
   ]
  },
  {
   "cell_type": "code",
   "execution_count": 51,
   "metadata": {},
   "outputs": [
    {
     "name": "stdout",
     "output_type": "stream",
     "text": [
      "(72, 372)\n"
     ]
    }
   ],
   "source": [
    "data_np = data_stats.values[:,6:]\n",
    "data_np = np.log(data_np.astype('float64'))\n",
    "print(data_np.shape)"
   ]
  },
  {
   "attachments": {},
   "cell_type": "markdown",
   "metadata": {},
   "source": [
    "## Visualize data distribution"
   ]
  },
  {
   "cell_type": "code",
   "execution_count": 52,
   "metadata": {},
   "outputs": [
    {
     "data": {
      "image/png": "[encoded data removed]",
      "text/plain": [
       "<Figure size 640x480 with 1 Axes>"
      ]
     },
     "metadata": {},
     "output_type": "display_data"
    }
   ],
   "source": [
    "plt.figure()\n",
    "plt.hist(data_np.flatten())\n",
    "plt.show()"
   ]
  },
  {
   "cell_type": "markdown",
   "metadata": {},
   "source": [
    "# Normalize data"
   ]
  },
  {
   "cell_type": "code",
   "execution_count": 53,
   "metadata": {},
   "outputs": [],
   "source": [
    "data_norm = scaler.fit_transform(data_np)"
   ]
  },
  {
   "cell_type": "markdown",
   "metadata": {},
   "source": [
    "## Visualize normalized data distribution"
   ]
  },
  {
   "cell_type": "code",
   "execution_count": 54,
   "metadata": {},
   "outputs": [
    {
     "data": {
      "image/png": "[encoded data removed]",
      "text/plain": [
       "<Figure size 640x480 with 1 Axes>"
      ]
     },
     "metadata": {},
     "output_type": "display_data"
    }
   ],
   "source": [
    "plt.figure()\n",
    "plt.hist(data_norm.flatten())\n",
    "plt.show()"
   ]
  },
  {
   "cell_type": "markdown",
   "metadata": {},
   "source": [
    "# PCA"
   ]
  },
  {
   "cell_type": "code",
   "execution_count": 55,
   "metadata": {},
   "outputs": [
    {
     "name": "stdout",
     "output_type": "stream",
     "text": [
      "(72, 72)\n"
     ]
    }
   ],
   "source": [
    "pca = PCA()\n",
    "data_pca = pca.fit_transform(data_norm)\n",
    "print(data_pca.shape)"
   ]
  },
  {
   "cell_type": "markdown",
   "metadata": {},
   "source": [
    "## Latent curve"
   ]
  },
  {
   "cell_type": "code",
   "execution_count": 56,
   "metadata": {},
   "outputs": [
    {
     "data": {
      "image/png": "[encoded data removed]",
      "text/plain": [
       "<Figure size 640x480 with 1 Axes>"
      ]
     },
     "metadata": {},
     "output_type": "display_data"
    }
   ],
   "source": [
    "plt.figure()\n",
    "plt.plot(np.cumsum(pca.explained_variance_ratio_))\n",
    "plt.show()"
   ]
  },
  {
   "cell_type": "markdown",
   "metadata": {},
   "source": [
    "# T-test"
   ]
  },
  {
   "cell_type": "code",
   "execution_count": 57,
   "metadata": {},
   "outputs": [
    {
     "name": "stdout",
     "output_type": "stream",
     "text": [
      "(72, 3)\n"
     ]
    },
    {
     "name": "stderr",
     "output_type": "stream",
     "text": [
      "/tmp/ipykernel_261833/260942847.py:4: RuntimeWarning: Precision loss occurred in moment calculation due to catastrophic cancellation. This occurs when the data are nearly identical. Results may be unreliable.\n",
      "  ttest_ind(data_pca[data_stats['Sample Submission Date']==0, d], data_pca[data_stats['Sample Submission Date']==1, d])[1],\n",
      "/tmp/ipykernel_261833/260942847.py:5: RuntimeWarning: Precision loss occurred in moment calculation due to catastrophic cancellation. This occurs when the data are nearly identical. Results may be unreliable.\n",
      "  ttest_ind(data_pca[data_stats['Treatment']==0, d], data_pca[data_stats['Treatment']==1, d])[1],\n"
     ]
    }
   ],
   "source": [
    "p_values = [\n",
    "    [\n",
    "        d,\n",
    "        ttest_ind(data_pca[data_stats['Sample Submission Date']==0, d], data_pca[data_stats['Sample Submission Date']==1, d])[1],\n",
    "        ttest_ind(data_pca[data_stats['Treatment']==0, d], data_pca[data_stats['Treatment']==1, d])[1],\n",
    "    ]\n",
    "    for d in range(data_pca.shape[1])\n",
    "]\n",
    "p_values = np.asarray(p_values)\n",
    "print(p_values.shape)"
   ]
  },
  {
   "cell_type": "markdown",
   "metadata": {},
   "source": [
    "# Visualize data after PCA"
   ]
  },
  {
   "cell_type": "code",
   "execution_count": 58,
   "metadata": {},
   "outputs": [
    {
     "data": {
      "image/png": "[encoded data removed]",
      "text/plain": [
       "<Figure size 640x480 with 1 Axes>"
      ]
     },
     "metadata": {},
     "output_type": "display_data"
    }
   ],
   "source": [
    "plt.scatter(data_pca[data_stats['Treatment']==0, 14], data_pca[data_stats['Treatment']==0, 21],c=\"red\")\n",
    "plt.scatter(data_pca[data_stats['Treatment']==1, 14], data_pca[data_stats['Treatment']==1, 21],c=\"blue\")\n",
    "plt.show()"
   ]
  },
  {
   "attachments": {},
   "cell_type": "markdown",
   "metadata": {},
   "source": [
    "# Isolate significant PCs"
   ]
  },
  {
   "cell_type": "code",
   "execution_count": 59,
   "metadata": {},
   "outputs": [
    {
     "name": "stdout",
     "output_type": "stream",
     "text": [
      "1 significant pc with respect to date\n",
      "4 significant pc with respect to date\n",
      "0 significant pc with respect to both\n"
     ]
    }
   ],
   "source": [
    "print(f'{np.sum(p_values[:,1]<0.05)} significant pc with respect to date')\n",
    "print(f'{np.sum(p_values[:,2]<0.05)} significant pc with respect to date')\n",
    "print(f'{np.sum((p_values[:,2]<0.05)*(p_values[:,1]<0.05))} significant pc with respect to both')\n",
    "\n",
    "significant_pc = np.where(p_values[:,2]<0.05)[0]"
   ]
  },
  {
   "cell_type": "markdown",
   "metadata": {},
   "source": [
    "# Isolate significant lipids"
   ]
  },
  {
   "cell_type": "code",
   "execution_count": 60,
   "metadata": {},
   "outputs": [
    {
     "name": "stdout",
     "output_type": "stream",
     "text": [
      "(4, 372)\n",
      "(372,)\n"
     ]
    }
   ],
   "source": [
    "significant_components = pca.components_[significant_pc,:]\n",
    "print(significant_components.shape)\n",
    "max_values = np.max(np.abs(significant_components), axis=0)\n",
    "print(max_values.shape)"
   ]
  },
  {
   "cell_type": "code",
   "execution_count": 61,
   "metadata": {},
   "outputs": [
    {
     "name": "stdout",
     "output_type": "stream",
     "text": [
      "118 (10.40% of original total) significant lipids found\n"
     ]
    }
   ],
   "source": [
    "ths = np.percentile(np.abs(pca.components_.flatten()), THRESHOLD)\n",
    "idx_significant_lipids = np.where(max_values>ths)[0]\n",
    "n_significant_lipids = len(idx_significant_lipids)\n",
    "print(f'{n_significant_lipids} ({n_significant_lipids/tot_lipids*100:.2f}% of original total) significant lipids found')\n",
    "significant_lipids = [lipids_ok[i] for i in idx_significant_lipids]"
   ]
  },
  {
   "cell_type": "code",
   "execution_count": 62,
   "metadata": {},
   "outputs": [
    {
     "name": "stdout",
     "output_type": "stream",
     "text": [
      "15 (71.43% of original total) lipid classes found\n",
      "['CER' 'DAG' 'DCER' 'HCER' 'LPC' 'LPE' 'LPI' 'LPS' 'PC' 'PE' 'PG' 'PI'\n",
      " 'PS' 'SM' 'TAG']\n"
     ]
    }
   ],
   "source": [
    "lipid_classes = np.unique([lipids_ok[i].split('(')[0] for i in idx_significant_lipids])\n",
    "print(f'{len(lipid_classes)} ({len(lipid_classes)/n_classes*100:.2f}% of original total) lipid classes found')\n",
    "print(lipid_classes)"
   ]
  },
  {
   "cell_type": "code",
   "execution_count": 63,
   "metadata": {},
   "outputs": [
    {
     "name": "stdout",
     "output_type": "stream",
     "text": [
      "30 (2.64% of original total) date dependent lipids found\n"
     ]
    }
   ],
   "source": [
    "date_pc = np.where(p_values[:,1]<0.05)[0]\n",
    "significant_components = pca.components_[date_pc,:]\n",
    "max_values = np.max(np.abs(significant_components), axis=0)\n",
    "\n",
    "idx_significant_lipids = np.where(max_values>ths)[0]\n",
    "n_significant_lipids = len(idx_significant_lipids)\n",
    "print(f'{n_significant_lipids} ({n_significant_lipids/tot_lipids*100:.2f}% of original total) date dependent lipids found')\n",
    "date_lipids = [lipids_ok[i] for i in idx_significant_lipids]"
   ]
  },
  {
   "cell_type": "markdown",
   "metadata": {},
   "source": [
    "## Save results"
   ]
  },
  {
   "cell_type": "code",
   "execution_count": 64,
   "metadata": {},
   "outputs": [],
   "source": [
    "with open(os.path.join('results','significant_lipid'+test_enc_name+'.txt'), 'w') as f:\n",
    "    for l in significant_lipids:\n",
    "        f.write(l+'\\n')\n",
    "\n",
    "with open(os.path.join('results','date_lipids'+test_enc_name+'.txt'), 'w') as f:\n",
    "    for l in date_lipids:\n",
    "        f.write(l+'\\n')\n",
    "\n",
    "with open(os.path.join('results','significant_lipid_classes'+test_enc_name+'.txt'), 'w') as f:\n",
    "    for l in lipid_classes:\n",
    "        f.write(l+'\\n')"
   ]
  },
  {
   "attachments": {},
   "cell_type": "markdown",
   "metadata": {},
   "source": [
    "### EXAMPLE WITH PARTIAL LEAST SQUARE - DA"
   ]
  },
  {
   "cell_type": "code",
   "execution_count": 65,
   "metadata": {},
   "outputs": [
    {
     "name": "stderr",
     "output_type": "stream",
     "text": [
      "/home/ivan/anaconda3/lib/python3.9/site-packages/sklearn/cross_decomposition/_pls.py:305: UserWarning: Y residual is constant at iteration 54\n",
      "  warnings.warn(f\"Y residual is constant at iteration {k}\")\n",
      "/home/ivan/anaconda3/lib/python3.9/site-packages/sklearn/cross_decomposition/_pls.py:305: UserWarning: Y residual is constant at iteration 51\n",
      "  warnings.warn(f\"Y residual is constant at iteration {k}\")\n"
     ]
    }
   ],
   "source": [
    "from sklearn.cross_decomposition import PLSRegression\n",
    "pls2_treatment = PLSRegression(n_components=72, scale = False)\n",
    "pls2_date = PLSRegression(n_components=72, scale = False)\n",
    "data_pls2_treatment = pls2_treatment.fit_transform(data_norm, data_stats['Treatment'].values)\n",
    "data_pls2_date = pls2_date.fit_transform(data_norm, data_stats['Sample Submission Date'].values)\n"
   ]
  },
  {
   "cell_type": "code",
   "execution_count": 66,
   "metadata": {},
   "outputs": [
    {
     "name": "stdout",
     "output_type": "stream",
     "text": [
      "(72, 3)\n"
     ]
    }
   ],
   "source": [
    "p_values_pls2 = [\n",
    "    [\n",
    "        d,\n",
    "        ttest_ind(data_pls2_date[0][data_stats['Sample Submission Date']==0, d], data_pls2_date[0][data_stats['Sample Submission Date']==1, d])[1],\n",
    "        ttest_ind(data_pls2_treatment[0][data_stats['Treatment']==0, d], data_pls2_treatment[0][data_stats['Treatment']==1, d])[1],\n",
    "    ]\n",
    "    for d in range(data_pls2_treatment[0].shape[1])\n",
    "]\n",
    "p_values_pls2 = np.asarray(p_values_pls2)\n",
    "print(p_values_pls2.shape)"
   ]
  },
  {
   "cell_type": "code",
   "execution_count": 67,
   "metadata": {},
   "outputs": [
    {
     "data": {
      "image/png": "[encoded data removed]",
      "text/plain": [
       "<Figure size 640x480 with 1 Axes>"
      ]
     },
     "metadata": {},
     "output_type": "display_data"
    }
   ],
   "source": [
    "plt.scatter(data_pls2_treatment[0][data_stats['Treatment']==0, 1], data_pls2_treatment[0][data_stats['Treatment']==0, 2],c=\"red\")\n",
    "plt.scatter(data_pls2_treatment[0][data_stats['Treatment']==1, 1], data_pls2_treatment[0][data_stats['Treatment']==1, 2],c=\"blue\")\n",
    "plt.show()"
   ]
  },
  {
   "cell_type": "code",
   "execution_count": 30,
   "metadata": {},
   "outputs": [
    {
     "data": {
      "image/png": "[encoded data removed]",
      "text/plain": [
       "<Figure size 640x480 with 1 Axes>"
      ]
     },
     "metadata": {},
     "output_type": "display_data"
    }
   ],
   "source": [
    "plt.scatter(data_pls2_date[0][data_stats['Sample Submission Date']==0, 0], data_pls2_date[0][data_stats['Sample Submission Date']==0, 1],c=\"red\")\n",
    "plt.scatter(data_pls2_date[0][data_stats['Sample Submission Date']==1, 0], data_pls2_date[0][data_stats['Sample Submission Date']==1, 1],c=\"blue\")\n",
    "plt.show()"
   ]
  },
  {
   "cell_type": "code",
   "execution_count": 31,
   "metadata": {},
   "outputs": [
    {
     "name": "stdout",
     "output_type": "stream",
     "text": [
      "1 significant pc with respect to date\n",
      "4 significant pc with respect to TREATMENT\n",
      "1 significant pc with respect to both\n",
      "[0 1 2 3]\n",
      "[0]\n"
     ]
    }
   ],
   "source": [
    "print(f'{np.sum(p_values_pls2[:,1]<0.05)} significant pc with respect to date')\n",
    "print(f'{np.sum(p_values_pls2[:,2]<0.05)} significant pc with respect to TREATMENT')\n",
    "print(f'{np.sum((p_values_pls2[:,2]<0.05)*(p_values[:,1]<0.05))} significant pc with respect to both')\n",
    "\n",
    "significant_pc_pls2_treatment = np.where(p_values_pls2[:,2]<0.05)[0]\n",
    "significant_pc_pls2_date = np.where(p_values_pls2[:,1]<0.05)[0]\n",
    "print(significant_pc_pls2_treatment)\n",
    "print(significant_pc_pls2_date)"
   ]
  },
  {
   "cell_type": "code",
   "execution_count": 32,
   "metadata": {},
   "outputs": [],
   "source": [
    "significant_components_pls2_treatment = pls2_treatment.x_weights_.T[significant_pc_pls2_treatment,:]\n",
    "max_values_pls2_treatment = np.max(np.abs(significant_components_pls2_treatment), axis = 0)"
   ]
  },
  {
   "cell_type": "code",
   "execution_count": 33,
   "metadata": {},
   "outputs": [],
   "source": [
    "ths_pls2_treatment = np.percentile(np.abs(pls2_treatment.x_weights_.T.flatten()), THRESHOLD)"
   ]
  },
  {
   "cell_type": "code",
   "execution_count": 34,
   "metadata": {},
   "outputs": [
    {
     "name": "stdout",
     "output_type": "stream",
     "text": [
      "627 (55.24% of original total) significant lipids found\n"
     ]
    }
   ],
   "source": [
    "idx_significant_lipids_pls2_treatment = np.where(max_values_pls2_treatment>ths_pls2_treatment)[0]\n",
    "n_significant_lipids_pls2_treatment = len(idx_significant_lipids_pls2_treatment)\n",
    "print(f'{n_significant_lipids_pls2_treatment} ({n_significant_lipids_pls2_treatment/tot_lipids*100:.2f}% of original total) significant lipids found')\n",
    "significant_lipids_pls2_treatment = [lipids_ok[i] for i in idx_significant_lipids_pls2_treatment]"
   ]
  },
  {
   "cell_type": "code",
   "execution_count": 35,
   "metadata": {},
   "outputs": [],
   "source": [
    "significant_components_pls2_date = pls2_date.x_weights_.T[significant_pc_pls2_date,:]\n",
    "max_values_pls2_date = np.max(np.abs(significant_components_pls2_date), axis = 0)"
   ]
  },
  {
   "cell_type": "code",
   "execution_count": 36,
   "metadata": {},
   "outputs": [],
   "source": [
    "ths_pls2_date = np.percentile(np.abs(pls2_date.x_weights_.T.flatten()), THRESHOLD)"
   ]
  },
  {
   "cell_type": "code",
   "execution_count": 37,
   "metadata": {},
   "outputs": [
    {
     "name": "stdout",
     "output_type": "stream",
     "text": [
      "216 (19.03% of original total) significant lipids found\n"
     ]
    }
   ],
   "source": [
    "idx_significant_lipids_pls2_date = np.where(max_values_pls2_date>ths_pls2_date)[0]\n",
    "n_significant_lipids_pls2_date = len(idx_significant_lipids_pls2_date)\n",
    "print(f'{n_significant_lipids_pls2_date} ({n_significant_lipids_pls2_date/tot_lipids*100:.2f}% of original total) significant lipids found')\n",
    "significant_lipids_pls2_date = [lipids_ok[i] for i in idx_significant_lipids_pls2_date]"
   ]
  },
  {
   "cell_type": "code",
   "execution_count": 38,
   "metadata": {},
   "outputs": [
    {
     "name": "stdout",
     "output_type": "stream",
     "text": [
      "19 (90.48% of original total) lipid classes found\n",
      "['CE' 'CER' 'DAG' 'DCER' 'HCER' 'LCER' 'LPC' 'LPE' 'LPG' 'LPI' 'LPS' 'MAG'\n",
      " 'PC' 'PE' 'PG' 'PI' 'PS' 'SM' 'TAG']\n"
     ]
    }
   ],
   "source": [
    "lipid_classes_pls2_treatment = np.unique([lipids_ok[i].split('(')[0] for i in idx_significant_lipids_pls2_treatment])\n",
    "print(f'{len(lipid_classes_pls2_treatment)} ({len(lipid_classes_pls2_treatment)/n_classes*100:.2f}% of original total) lipid classes found')\n",
    "print(lipid_classes_pls2_treatment)"
   ]
  },
  {
   "cell_type": "code",
   "execution_count": 39,
   "metadata": {},
   "outputs": [
    {
     "name": "stdout",
     "output_type": "stream",
     "text": [
      "17 (80.95% of original total) lipid classes found\n",
      "['CER' 'DCER' 'HCER' 'LCER' 'LPC' 'LPE' 'LPG' 'LPI' 'LPS' 'MAG' 'PC' 'PE'\n",
      " 'PG' 'PI' 'PS' 'SM' 'TAG']\n"
     ]
    }
   ],
   "source": [
    "lipid_classes_pls2_date = np.unique([lipids_ok[i].split('(')[0] for i in idx_significant_lipids_pls2_date])\n",
    "print(f'{len(lipid_classes_pls2_date)} ({len(lipid_classes_pls2_date)/n_classes*100:.2f}% of original total) lipid classes found')\n",
    "print(lipid_classes_pls2_date)"
   ]
  },
  {
   "cell_type": "code",
   "execution_count": 40,
   "metadata": {},
   "outputs": [],
   "source": [
    "unique_set_treatment = set(significant_lipids_pls2_treatment).difference(set(significant_lipids_pls2_date))\n",
    "unique_list_treatment = list(unique_set_treatment)"
   ]
  },
  {
   "cell_type": "code",
   "execution_count": 41,
   "metadata": {},
   "outputs": [],
   "source": [
    "with open(os.path.join('results','significant_lipids_pls2_treatment'+test_enc_name+'.txt'), 'w') as f:\n",
    "    for l in significant_lipids_pls2_treatment:\n",
    "        f.write(l+'\\n')"
   ]
  },
  {
   "cell_type": "code",
   "execution_count": 42,
   "metadata": {},
   "outputs": [],
   "source": [
    "with open(os.path.join('results','significant_lipids_pls2_date'+test_enc_name+'.txt'), 'w') as f:\n",
    "    for l in significant_lipids_pls2_date:\n",
    "        f.write(l+'\\n')"
   ]
  },
  {
   "cell_type": "code",
   "execution_count": 43,
   "metadata": {},
   "outputs": [],
   "source": [
    "with open(os.path.join('results','significant_lipids_pls2_unique_treatment'+test_enc_name+'.txt'), 'w') as f:\n",
    "    for l in unique_list_treatment:\n",
    "        f.write(l+'\\n')"
   ]
  },
  {
   "cell_type": "code",
   "execution_count": null,
   "metadata": {},
   "outputs": [],
   "source": []
  }
 ],
 "metadata": {
  "kernelspec": {
   "display_name": "Python 3 (ipykernel)",
   "language": "python",
   "name": "python3"
  },
  "orig_nbformat": 4,
  "vscode": {
   "interpreter": {
    "hash": "19d1d53a962d236aa061289c2ac16dc8e6d9648c89fe79f459ae9a3493bc67b4"
   }
  }
 },
 "nbformat": 4,
 "nbformat_minor": 2
}
