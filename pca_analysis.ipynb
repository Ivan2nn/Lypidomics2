{
 "cells": [
  {
   "cell_type": "code",
   "execution_count": 1,
   "metadata": {},
   "outputs": [],
   "source": [
    "import pandas as pd\n",
    "import numpy as np\n",
    "import matplotlib.pyplot as plt\n",
    "import seaborn as sns\n",
    "from sklearn.decomposition import PCA\n",
    "from sklearn.preprocessing import StandardScaler, LabelEncoder\n",
    "from sklearn.feature_selection import SelectKBest, f_classif\n",
    "from scipy.stats import ttest_ind\n",
    "import json\n",
    "import os"
   ]
  },
  {
   "cell_type": "code",
   "execution_count": 2,
   "metadata": {},
   "outputs": [],
   "source": [
    "with open('data/paths.json','r') as f:\n",
    "    paths = json.load(f)\n",
    "\n",
    "data_path = paths[\"data_path\"]"
   ]
  },
  {
   "cell_type": "code",
   "execution_count": 3,
   "metadata": {},
   "outputs": [
    {
     "data": {
      "text/html": [
       "<div>\n",
       "<style scoped>\n",
       "    .dataframe tbody tr th:only-of-type {\n",
       "        vertical-align: middle;\n",
       "    }\n",
       "\n",
       "    .dataframe tbody tr th {\n",
       "        vertical-align: top;\n",
       "    }\n",
       "\n",
       "    .dataframe thead th {\n",
       "        text-align: right;\n",
       "    }\n",
       "</style>\n",
       "<table border=\"1\" class=\"dataframe\">\n",
       "  <thead>\n",
       "    <tr style=\"text-align: right;\">\n",
       "      <th></th>\n",
       "      <th>Sample Number</th>\n",
       "      <th>Sample Submission Date</th>\n",
       "      <th>Sample Name</th>\n",
       "      <th>Sex</th>\n",
       "      <th>Tissue weight (mg)</th>\n",
       "      <th>Treatment</th>\n",
       "      <th>Tissue Type</th>\n",
       "      <th>PND</th>\n",
       "      <th>Litter</th>\n",
       "      <th>Individual Lipid Species</th>\n",
       "      <th>Lipid Class</th>\n",
       "      <th>MRM Transition of each lipid species\\n(Parent ion / Fragment ion)</th>\n",
       "      <th>Lipid Species used as Internal Standard</th>\n",
       "      <th>Retention Time (min)</th>\n",
       "      <th>Peak Area of Lipid Species</th>\n",
       "      <th>Peak Area of Internal Standard</th>\n",
       "      <th>Normalized Peak Area (Peak Area of Lipid Species / (Peak Area of Internal Standard * Tissue Weight))</th>\n",
       "    </tr>\n",
       "  </thead>\n",
       "  <tbody>\n",
       "    <tr>\n",
       "      <th>0</th>\n",
       "      <td>1</td>\n",
       "      <td>09/2021</td>\n",
       "      <td>C20M1S</td>\n",
       "      <td>M</td>\n",
       "      <td>56</td>\n",
       "      <td>control</td>\n",
       "      <td>striatum</td>\n",
       "      <td>30</td>\n",
       "      <td>C20</td>\n",
       "      <td>SM(14:0)+H</td>\n",
       "      <td>SM</td>\n",
       "      <td>675.5 / 184.1</td>\n",
       "      <td>SM(18:1)+H_d9_SPLASH.IS</td>\n",
       "      <td>12.737513</td>\n",
       "      <td>4.116176e+06</td>\n",
       "      <td>4.165659e+07</td>\n",
       "      <td>0.000842</td>\n",
       "    </tr>\n",
       "    <tr>\n",
       "      <th>1</th>\n",
       "      <td>1</td>\n",
       "      <td>09/2021</td>\n",
       "      <td>C20M1S</td>\n",
       "      <td>M</td>\n",
       "      <td>56</td>\n",
       "      <td>control</td>\n",
       "      <td>striatum</td>\n",
       "      <td>30</td>\n",
       "      <td>C20</td>\n",
       "      <td>SM(16:0)+H</td>\n",
       "      <td>SM</td>\n",
       "      <td>703.6 / 184.1</td>\n",
       "      <td>SM(18:1)+H_d9_SPLASH.IS</td>\n",
       "      <td>12.662914</td>\n",
       "      <td>2.433723e+07</td>\n",
       "      <td>4.165659e+07</td>\n",
       "      <td>0.006390</td>\n",
       "    </tr>\n",
       "    <tr>\n",
       "      <th>2</th>\n",
       "      <td>1</td>\n",
       "      <td>09/2021</td>\n",
       "      <td>C20M1S</td>\n",
       "      <td>M</td>\n",
       "      <td>56</td>\n",
       "      <td>control</td>\n",
       "      <td>striatum</td>\n",
       "      <td>30</td>\n",
       "      <td>C20</td>\n",
       "      <td>SM(18:0)+H</td>\n",
       "      <td>SM</td>\n",
       "      <td>731.6 / 184.1</td>\n",
       "      <td>SM(18:1)+H_d9_SPLASH.IS</td>\n",
       "      <td>12.580159</td>\n",
       "      <td>1.432478e+08</td>\n",
       "      <td>4.165659e+07</td>\n",
       "      <td>0.036989</td>\n",
       "    </tr>\n",
       "    <tr>\n",
       "      <th>3</th>\n",
       "      <td>1</td>\n",
       "      <td>09/2021</td>\n",
       "      <td>C20M1S</td>\n",
       "      <td>M</td>\n",
       "      <td>56</td>\n",
       "      <td>control</td>\n",
       "      <td>striatum</td>\n",
       "      <td>30</td>\n",
       "      <td>C20</td>\n",
       "      <td>SM(18:1)+H</td>\n",
       "      <td>SM</td>\n",
       "      <td>729.6 / 184.1</td>\n",
       "      <td>SM(18:1)+H_d9_SPLASH.IS</td>\n",
       "      <td>12.572303</td>\n",
       "      <td>1.268323e+08</td>\n",
       "      <td>4.165659e+07</td>\n",
       "      <td>0.046320</td>\n",
       "    </tr>\n",
       "    <tr>\n",
       "      <th>4</th>\n",
       "      <td>1</td>\n",
       "      <td>09/2021</td>\n",
       "      <td>C20M1S</td>\n",
       "      <td>M</td>\n",
       "      <td>56</td>\n",
       "      <td>control</td>\n",
       "      <td>striatum</td>\n",
       "      <td>30</td>\n",
       "      <td>C20</td>\n",
       "      <td>SM(20:0)+H</td>\n",
       "      <td>SM</td>\n",
       "      <td>759.6 / 184.1</td>\n",
       "      <td>SM(18:1)+H_d9_SPLASH.IS</td>\n",
       "      <td>12.486523</td>\n",
       "      <td>5.419340e+06</td>\n",
       "      <td>4.165659e+07</td>\n",
       "      <td>0.001167</td>\n",
       "    </tr>\n",
       "  </tbody>\n",
       "</table>\n",
       "</div>"
      ],
      "text/plain": [
       "   Sample Number Sample Submission Date Sample Name Sex  Tissue weight (mg)  \\\n",
       "0              1                09/2021      C20M1S   M                  56   \n",
       "1              1                09/2021      C20M1S   M                  56   \n",
       "2              1                09/2021      C20M1S   M                  56   \n",
       "3              1                09/2021      C20M1S   M                  56   \n",
       "4              1                09/2021      C20M1S   M                  56   \n",
       "\n",
       "  Treatment Tissue Type  PND Litter Individual Lipid Species Lipid Class  \\\n",
       "0   control    striatum   30    C20               SM(14:0)+H          SM   \n",
       "1   control    striatum   30    C20               SM(16:0)+H          SM   \n",
       "2   control    striatum   30    C20               SM(18:0)+H          SM   \n",
       "3   control    striatum   30    C20               SM(18:1)+H          SM   \n",
       "4   control    striatum   30    C20               SM(20:0)+H          SM   \n",
       "\n",
       "  MRM Transition of each lipid species\\n(Parent ion / Fragment ion)  \\\n",
       "0                                      675.5 / 184.1                  \n",
       "1                                      703.6 / 184.1                  \n",
       "2                                      731.6 / 184.1                  \n",
       "3                                      729.6 / 184.1                  \n",
       "4                                      759.6 / 184.1                  \n",
       "\n",
       "  Lipid Species used as Internal Standard  Retention Time (min)  \\\n",
       "0                 SM(18:1)+H_d9_SPLASH.IS             12.737513   \n",
       "1                 SM(18:1)+H_d9_SPLASH.IS             12.662914   \n",
       "2                 SM(18:1)+H_d9_SPLASH.IS             12.580159   \n",
       "3                 SM(18:1)+H_d9_SPLASH.IS             12.572303   \n",
       "4                 SM(18:1)+H_d9_SPLASH.IS             12.486523   \n",
       "\n",
       "   Peak Area of Lipid Species  Peak Area of Internal Standard  \\\n",
       "0                4.116176e+06                    4.165659e+07   \n",
       "1                2.433723e+07                    4.165659e+07   \n",
       "2                1.432478e+08                    4.165659e+07   \n",
       "3                1.268323e+08                    4.165659e+07   \n",
       "4                5.419340e+06                    4.165659e+07   \n",
       "\n",
       "   Normalized Peak Area (Peak Area of Lipid Species / (Peak Area of Internal Standard * Tissue Weight))  \n",
       "0                                           0.000842                                                     \n",
       "1                                           0.006390                                                     \n",
       "2                                           0.036989                                                     \n",
       "3                                           0.046320                                                     \n",
       "4                                           0.001167                                                     "
      ]
     },
     "execution_count": 3,
     "metadata": {},
     "output_type": "execute_result"
    }
   ],
   "source": [
    "data = pd.read_csv(os.path.join(data_path,'clean_data.csv'))\n",
    "data.head()"
   ]
  },
  {
   "cell_type": "code",
   "execution_count": 4,
   "metadata": {},
   "outputs": [],
   "source": [
    "data_pivot = data.pivot(index=['Sample Name', 'Sex', 'Treatment', 'PND', 'Tissue Type', 'Sample Submission Date'], columns='Individual Lipid Species', values=data.columns[16])\n",
    "tot_lipids = data_pivot.shape[1] - 6\n",
    "data_stats = data_pivot.reset_index().dropna(axis=1, thresh=0.9*data_pivot.shape[0]).fillna(0)\n",
    "# data_stats.drop(columns=['Individual Lipid Species'])\n",
    "data_stats.head()\n",
    "lipids_ok = list(data_stats.columns[6:])"
   ]
  },
  {
   "cell_type": "code",
   "execution_count": 5,
   "metadata": {},
   "outputs": [
    {
     "data": {
      "text/plain": [
       "array([0, 1])"
      ]
     },
     "execution_count": 5,
     "metadata": {},
     "output_type": "execute_result"
    }
   ],
   "source": [
    "data_stats['Sample Submission Date'] = LabelEncoder().fit_transform(data_stats['Sample Submission Date'])\n",
    "data_stats['Treatment'] = LabelEncoder().fit_transform(data_stats['Treatment'])\n",
    "data_stats['Sample Submission Date'].unique()"
   ]
  },
  {
   "cell_type": "code",
   "execution_count": 6,
   "metadata": {},
   "outputs": [
    {
     "name": "stdout",
     "output_type": "stream",
     "text": [
      "(72, 372)\n"
     ]
    }
   ],
   "source": [
    "data_np = data_stats.values[:,6:] + 1e-10\n",
    "data_np = np.log(data_np.astype('float64'))\n",
    "print(data_np.shape)"
   ]
  },
  {
   "cell_type": "code",
   "execution_count": 7,
   "metadata": {},
   "outputs": [
    {
     "data": {
      "image/png": "[encoded data removed]",
      "text/plain": [
       "<Figure size 432x288 with 1 Axes>"
      ]
     },
     "metadata": {
      "needs_background": "light"
     },
     "output_type": "display_data"
    }
   ],
   "source": [
    "plt.figure()\n",
    "plt.hist(data_np.flatten())\n",
    "plt.show()"
   ]
  },
  {
   "cell_type": "code",
   "execution_count": 8,
   "metadata": {},
   "outputs": [
    {
     "name": "stdout",
     "output_type": "stream",
     "text": [
      "(72, 72)\n"
     ]
    }
   ],
   "source": [
    "pca = PCA()\n",
    "data_norm = StandardScaler().fit_transform(data_np)\n",
    "data_pca = pca.fit_transform(data_norm)\n",
    "print(data_pca.shape)"
   ]
  },
  {
   "cell_type": "code",
   "execution_count": 9,
   "metadata": {},
   "outputs": [
    {
     "data": {
      "image/png": "[encoded data removed]",
      "text/plain": [
       "<Figure size 432x288 with 1 Axes>"
      ]
     },
     "metadata": {
      "needs_background": "light"
     },
     "output_type": "display_data"
    }
   ],
   "source": [
    "plt.figure()\n",
    "plt.plot(np.cumsum(pca.explained_variance_ratio_))\n",
    "plt.show()"
   ]
  },
  {
   "cell_type": "code",
   "execution_count": 10,
   "metadata": {},
   "outputs": [
    {
     "name": "stdout",
     "output_type": "stream",
     "text": [
      "(72, 3)\n"
     ]
    }
   ],
   "source": [
    "p_values = [\n",
    "    [\n",
    "        d,\n",
    "        ttest_ind(data_pca[data_stats['Sample Submission Date']==0, d], data_pca[data_stats['Sample Submission Date']==1, d])[1],\n",
    "        ttest_ind(data_pca[data_stats['Treatment']==0, d], data_pca[data_stats['Treatment']==1, d])[1],\n",
    "    ]\n",
    "    for d in range(data_pca.shape[1])\n",
    "]\n",
    "p_values = np.asarray(p_values)\n",
    "print(p_values.shape)"
   ]
  },
  {
   "cell_type": "code",
   "execution_count": 11,
   "metadata": {},
   "outputs": [
    {
     "data": {
      "image/png": "[encoded data removed]",
      "text/plain": [
       "<Figure size 432x288 with 1 Axes>"
      ]
     },
     "metadata": {
      "needs_background": "light"
     },
     "output_type": "display_data"
    }
   ],
   "source": [
    "plt.figure()\n",
    "plt.plot(p_values[:,1], p_values[:,2],'o')\n",
    "plt.show()"
   ]
  },
  {
   "cell_type": "code",
   "execution_count": 12,
   "metadata": {},
   "outputs": [
    {
     "name": "stdout",
     "output_type": "stream",
     "text": [
      "5 significant pc with respect to date\n",
      "3 significant pc with respect to date\n",
      "0 significant pc with respect to both\n"
     ]
    }
   ],
   "source": [
    "print(f'{np.sum(p_values[:,1]<0.05)} significant pc with respect to date')\n",
    "print(f'{np.sum(p_values[:,2]<0.05)} significant pc with respect to treatment')\n",
    "print(f'{np.sum((p_values[:,2]<0.05)*(p_values[:,1]<0.05))} significant pc with respect to both')\n",
    "\n",
    "significant_pc = np.where(p_values[:,2]<0.05)[0]"
   ]
  },
  {
   "cell_type": "code",
   "execution_count": 13,
   "metadata": {},
   "outputs": [
    {
     "data": {
      "image/png": "[encoded data removed]",
      "text/plain": [
       "<Figure size 432x288 with 1 Axes>"
      ]
     },
     "metadata": {
      "needs_background": "light"
     },
     "output_type": "display_data"
    },
    {
     "name": "stdout",
     "output_type": "stream",
     "text": [
      "0.10525850730551864\n"
     ]
    }
   ],
   "source": [
    "plt.figure()\n",
    "plt.hist(pca.components_.flatten())\n",
    "plt.show()\n",
    "ths = np.percentile(np.abs(pca.components_.flatten()), 95)\n",
    "print(ths)"
   ]
  },
  {
   "cell_type": "code",
   "execution_count": 14,
   "metadata": {},
   "outputs": [
    {
     "name": "stdout",
     "output_type": "stream",
     "text": [
      "(3, 372)\n",
      "(372,)\n"
     ]
    }
   ],
   "source": [
    "significant_components = pca.components_[significant_pc,:]\n",
    "print(significant_components.shape)\n",
    "max_values = np.max(np.abs(significant_components), axis=0)\n",
    "print(max_values.shape)"
   ]
  },
  {
   "cell_type": "code",
   "execution_count": 15,
   "metadata": {},
   "outputs": [
    {
     "name": "stdout",
     "output_type": "stream",
     "text": [
      "55 (6.44% of original total) significant lipids found\n"
     ]
    }
   ],
   "source": [
    "idx_significant_lipids = np.where(max_values>ths)[0]\n",
    "n_significant_lipids = len(idx_significant_lipids)\n",
    "print(f'{n_significant_lipids} ({n_significant_lipids/tot_lipids*100:.2f}% of original total) significant lipids found')"
   ]
  },
  {
   "cell_type": "code",
   "execution_count": 16,
   "metadata": {},
   "outputs": [],
   "source": [
    "with open('significant_lipids.txt','w') as f:\n",
    "    for i in idx_significant_lipids:\n",
    "        f.write(lipids_ok[i]+'\\n')"
   ]
  },
  {
   "cell_type": "code",
   "execution_count": null,
   "metadata": {},
   "outputs": [],
   "source": []
  }
 ],
 "metadata": {
  "kernelspec": {
   "display_name": "base",
   "language": "python",
   "name": "python3"
  },
  "language_info": {
   "codemirror_mode": {
    "name": "ipython",
    "version": 3
   },
   "file_extension": ".py",
   "mimetype": "text/x-python",
   "name": "python",
   "nbconvert_exporter": "python",
   "pygments_lexer": "ipython3",
   "version": "3.8.8"
  },
  "orig_nbformat": 4,
  "vscode": {
   "interpreter": {
    "hash": "ce96d18428a423c525a3f0ed973f5e48e845aa99864a704e334219c0da2a8fc7"
   }
  }
 },
 "nbformat": 4,
 "nbformat_minor": 2
}
