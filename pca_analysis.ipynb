{
 "cells": [
  {
   "cell_type": "code",
   "execution_count": 99,
   "metadata": {},
   "outputs": [],
   "source": [
    "import pandas as pd\n",
    "import numpy as np\n",
    "import matplotlib.pyplot as plt\n",
    "import seaborn as sns\n",
    "from sklearn.decomposition import PCA\n",
    "from sklearn.preprocessing import StandardScaler, LabelEncoder\n",
    "from sklearn.feature_selection import SelectKBest, f_classif\n",
    "from scipy.stats import ttest_ind\n",
    "import json\n",
    "import os"
   ]
  },
  {
   "cell_type": "code",
   "execution_count": 100,
   "metadata": {},
   "outputs": [],
   "source": [
    "with open('data/paths.json','r') as f:\n",
    "    paths = json.load(f)\n",
    "\n",
    "data_path = paths[\"data_path\"]"
   ]
  },
  {
   "cell_type": "code",
   "execution_count": 101,
   "metadata": {},
   "outputs": [
    {
     "data": {
      "text/html": [
       "<div>\n",
       "<style scoped>\n",
       "    .dataframe tbody tr th:only-of-type {\n",
       "        vertical-align: middle;\n",
       "    }\n",
       "\n",
       "    .dataframe tbody tr th {\n",
       "        vertical-align: top;\n",
       "    }\n",
       "\n",
       "    .dataframe thead th {\n",
       "        text-align: right;\n",
       "    }\n",
       "</style>\n",
       "<table border=\"1\" class=\"dataframe\">\n",
       "  <thead>\n",
       "    <tr style=\"text-align: right;\">\n",
       "      <th></th>\n",
       "      <th>Sample Number</th>\n",
       "      <th>Sample Submission Date</th>\n",
       "      <th>Sample Name</th>\n",
       "      <th>Sex</th>\n",
       "      <th>Tissue weight (mg)</th>\n",
       "      <th>Treatment</th>\n",
       "      <th>Tissue Type</th>\n",
       "      <th>PND</th>\n",
       "      <th>Litter</th>\n",
       "      <th>Individual Lipid Species</th>\n",
       "      <th>Lipid Class</th>\n",
       "      <th>MRM Transition of each lipid species\\r\\n(Parent ion / Fragment ion)</th>\n",
       "      <th>Lipid Species used as Internal Standard</th>\n",
       "      <th>Retention Time (min)</th>\n",
       "      <th>Peak Area of Lipid Species</th>\n",
       "      <th>Peak Area of Internal Standard</th>\n",
       "      <th>Normalized Peak Area (Peak Area of Lipid Species / (Peak Area of Internal Standard * Tissue Weight))</th>\n",
       "    </tr>\n",
       "  </thead>\n",
       "  <tbody>\n",
       "    <tr>\n",
       "      <th>0</th>\n",
       "      <td>1</td>\n",
       "      <td>09/2021</td>\n",
       "      <td>C20M1S</td>\n",
       "      <td>M</td>\n",
       "      <td>56</td>\n",
       "      <td>control</td>\n",
       "      <td>striatum</td>\n",
       "      <td>30</td>\n",
       "      <td>C20</td>\n",
       "      <td>SM(14:0)+H</td>\n",
       "      <td>SM</td>\n",
       "      <td>675.5 / 184.1</td>\n",
       "      <td>SM(18:1)+H_d9_SPLASH.IS</td>\n",
       "      <td>12.737513</td>\n",
       "      <td>4.116176e+06</td>\n",
       "      <td>4.165659e+07</td>\n",
       "      <td>0.000842</td>\n",
       "    </tr>\n",
       "    <tr>\n",
       "      <th>1</th>\n",
       "      <td>1</td>\n",
       "      <td>09/2021</td>\n",
       "      <td>C20M1S</td>\n",
       "      <td>M</td>\n",
       "      <td>56</td>\n",
       "      <td>control</td>\n",
       "      <td>striatum</td>\n",
       "      <td>30</td>\n",
       "      <td>C20</td>\n",
       "      <td>SM(16:0)+H</td>\n",
       "      <td>SM</td>\n",
       "      <td>703.6 / 184.1</td>\n",
       "      <td>SM(18:1)+H_d9_SPLASH.IS</td>\n",
       "      <td>12.662914</td>\n",
       "      <td>2.433723e+07</td>\n",
       "      <td>4.165659e+07</td>\n",
       "      <td>0.006390</td>\n",
       "    </tr>\n",
       "    <tr>\n",
       "      <th>2</th>\n",
       "      <td>1</td>\n",
       "      <td>09/2021</td>\n",
       "      <td>C20M1S</td>\n",
       "      <td>M</td>\n",
       "      <td>56</td>\n",
       "      <td>control</td>\n",
       "      <td>striatum</td>\n",
       "      <td>30</td>\n",
       "      <td>C20</td>\n",
       "      <td>SM(18:0)+H</td>\n",
       "      <td>SM</td>\n",
       "      <td>731.6 / 184.1</td>\n",
       "      <td>SM(18:1)+H_d9_SPLASH.IS</td>\n",
       "      <td>12.580159</td>\n",
       "      <td>1.432478e+08</td>\n",
       "      <td>4.165659e+07</td>\n",
       "      <td>0.036989</td>\n",
       "    </tr>\n",
       "    <tr>\n",
       "      <th>3</th>\n",
       "      <td>1</td>\n",
       "      <td>09/2021</td>\n",
       "      <td>C20M1S</td>\n",
       "      <td>M</td>\n",
       "      <td>56</td>\n",
       "      <td>control</td>\n",
       "      <td>striatum</td>\n",
       "      <td>30</td>\n",
       "      <td>C20</td>\n",
       "      <td>SM(18:1)+H</td>\n",
       "      <td>SM</td>\n",
       "      <td>729.6 / 184.1</td>\n",
       "      <td>SM(18:1)+H_d9_SPLASH.IS</td>\n",
       "      <td>12.572303</td>\n",
       "      <td>1.268323e+08</td>\n",
       "      <td>4.165659e+07</td>\n",
       "      <td>0.046320</td>\n",
       "    </tr>\n",
       "    <tr>\n",
       "      <th>4</th>\n",
       "      <td>1</td>\n",
       "      <td>09/2021</td>\n",
       "      <td>C20M1S</td>\n",
       "      <td>M</td>\n",
       "      <td>56</td>\n",
       "      <td>control</td>\n",
       "      <td>striatum</td>\n",
       "      <td>30</td>\n",
       "      <td>C20</td>\n",
       "      <td>SM(20:0)+H</td>\n",
       "      <td>SM</td>\n",
       "      <td>759.6 / 184.1</td>\n",
       "      <td>SM(18:1)+H_d9_SPLASH.IS</td>\n",
       "      <td>12.486523</td>\n",
       "      <td>5.419340e+06</td>\n",
       "      <td>4.165659e+07</td>\n",
       "      <td>0.001167</td>\n",
       "    </tr>\n",
       "  </tbody>\n",
       "</table>\n",
       "</div>"
      ],
      "text/plain": [
       "   Sample Number Sample Submission Date Sample Name Sex  Tissue weight (mg)  \\\n",
       "0              1                09/2021      C20M1S   M                  56   \n",
       "1              1                09/2021      C20M1S   M                  56   \n",
       "2              1                09/2021      C20M1S   M                  56   \n",
       "3              1                09/2021      C20M1S   M                  56   \n",
       "4              1                09/2021      C20M1S   M                  56   \n",
       "\n",
       "  Treatment Tissue Type  PND Litter Individual Lipid Species Lipid Class  \\\n",
       "0   control    striatum   30    C20               SM(14:0)+H          SM   \n",
       "1   control    striatum   30    C20               SM(16:0)+H          SM   \n",
       "2   control    striatum   30    C20               SM(18:0)+H          SM   \n",
       "3   control    striatum   30    C20               SM(18:1)+H          SM   \n",
       "4   control    striatum   30    C20               SM(20:0)+H          SM   \n",
       "\n",
       "  MRM Transition of each lipid species\\r\\n(Parent ion / Fragment ion)  \\\n",
       "0                                      675.5 / 184.1                    \n",
       "1                                      703.6 / 184.1                    \n",
       "2                                      731.6 / 184.1                    \n",
       "3                                      729.6 / 184.1                    \n",
       "4                                      759.6 / 184.1                    \n",
       "\n",
       "  Lipid Species used as Internal Standard  Retention Time (min)  \\\n",
       "0                 SM(18:1)+H_d9_SPLASH.IS             12.737513   \n",
       "1                 SM(18:1)+H_d9_SPLASH.IS             12.662914   \n",
       "2                 SM(18:1)+H_d9_SPLASH.IS             12.580159   \n",
       "3                 SM(18:1)+H_d9_SPLASH.IS             12.572303   \n",
       "4                 SM(18:1)+H_d9_SPLASH.IS             12.486523   \n",
       "\n",
       "   Peak Area of Lipid Species  Peak Area of Internal Standard  \\\n",
       "0                4.116176e+06                    4.165659e+07   \n",
       "1                2.433723e+07                    4.165659e+07   \n",
       "2                1.432478e+08                    4.165659e+07   \n",
       "3                1.268323e+08                    4.165659e+07   \n",
       "4                5.419340e+06                    4.165659e+07   \n",
       "\n",
       "   Normalized Peak Area (Peak Area of Lipid Species / (Peak Area of Internal Standard * Tissue Weight))  \n",
       "0                                           0.000842                                                     \n",
       "1                                           0.006390                                                     \n",
       "2                                           0.036989                                                     \n",
       "3                                           0.046320                                                     \n",
       "4                                           0.001167                                                     "
      ]
     },
     "execution_count": 101,
     "metadata": {},
     "output_type": "execute_result"
    }
   ],
   "source": [
    "data = pd.read_csv(os.path.join(data_path,'clean_data.csv'))\n",
    "data.head()"
   ]
  },
  {
   "cell_type": "code",
   "execution_count": 102,
   "metadata": {},
   "outputs": [
    {
     "data": {
      "text/html": [
       "<div>\n",
       "<style scoped>\n",
       "    .dataframe tbody tr th:only-of-type {\n",
       "        vertical-align: middle;\n",
       "    }\n",
       "\n",
       "    .dataframe tbody tr th {\n",
       "        vertical-align: top;\n",
       "    }\n",
       "\n",
       "    .dataframe thead th {\n",
       "        text-align: right;\n",
       "    }\n",
       "</style>\n",
       "<table border=\"1\" class=\"dataframe\">\n",
       "  <thead>\n",
       "    <tr style=\"text-align: right;\">\n",
       "      <th>Individual Lipid Species</th>\n",
       "      <th>Sample Name</th>\n",
       "      <th>Sex</th>\n",
       "      <th>Treatment</th>\n",
       "      <th>PND</th>\n",
       "      <th>Tissue Type</th>\n",
       "      <th>Sample Submission Date</th>\n",
       "      <th>CE(20:4)+H</th>\n",
       "      <th>CER(16:0)+H</th>\n",
       "      <th>CER(18:0)+H</th>\n",
       "      <th>CER(18:1)+H</th>\n",
       "      <th>...</th>\n",
       "      <th>TAG(58:10_FA20:4)+NH4</th>\n",
       "      <th>TAG(58:10_FA22:6)+NH4</th>\n",
       "      <th>TAG(58:7_FA22:6)+NH4</th>\n",
       "      <th>TAG(58:8_FA22:6)+NH4</th>\n",
       "      <th>TAG(58:9_FA20:4)+NH4</th>\n",
       "      <th>TAG(58:9_FA22:6)+NH4</th>\n",
       "      <th>TAG(60:10_FA22:6)+NH4</th>\n",
       "      <th>TAG(60:11_FA22:5)+NH4</th>\n",
       "      <th>TAG(60:11_FA22:6)+NH4</th>\n",
       "      <th>TAG(60:12_FA22:6)+NH4</th>\n",
       "    </tr>\n",
       "  </thead>\n",
       "  <tbody>\n",
       "    <tr>\n",
       "      <th>0</th>\n",
       "      <td>C11F1C</td>\n",
       "      <td>F</td>\n",
       "      <td>control</td>\n",
       "      <td>30</td>\n",
       "      <td>cortex</td>\n",
       "      <td>09/2021</td>\n",
       "      <td>0.034663</td>\n",
       "      <td>0.000374</td>\n",
       "      <td>0.001448</td>\n",
       "      <td>0.002370</td>\n",
       "      <td>...</td>\n",
       "      <td>0.281777</td>\n",
       "      <td>0.259815</td>\n",
       "      <td>0.074786</td>\n",
       "      <td>0.057560</td>\n",
       "      <td>0.126227</td>\n",
       "      <td>0.091787</td>\n",
       "      <td>0.148127</td>\n",
       "      <td>0.175052</td>\n",
       "      <td>0.158825</td>\n",
       "      <td>0.688057</td>\n",
       "    </tr>\n",
       "    <tr>\n",
       "      <th>1</th>\n",
       "      <td>C11F1S</td>\n",
       "      <td>F</td>\n",
       "      <td>control</td>\n",
       "      <td>30</td>\n",
       "      <td>striatum</td>\n",
       "      <td>09/2021</td>\n",
       "      <td>0.002913</td>\n",
       "      <td>0.000155</td>\n",
       "      <td>0.001373</td>\n",
       "      <td>0.000945</td>\n",
       "      <td>...</td>\n",
       "      <td>0.119986</td>\n",
       "      <td>0.129553</td>\n",
       "      <td>0.020608</td>\n",
       "      <td>0.054460</td>\n",
       "      <td>0.054598</td>\n",
       "      <td>0.068822</td>\n",
       "      <td>0.094487</td>\n",
       "      <td>0.078593</td>\n",
       "      <td>0.123341</td>\n",
       "      <td>0.433532</td>\n",
       "    </tr>\n",
       "    <tr>\n",
       "      <th>2</th>\n",
       "      <td>C11M2C</td>\n",
       "      <td>M</td>\n",
       "      <td>control</td>\n",
       "      <td>30</td>\n",
       "      <td>cortex</td>\n",
       "      <td>09/2021</td>\n",
       "      <td>0.002793</td>\n",
       "      <td>0.000105</td>\n",
       "      <td>0.001858</td>\n",
       "      <td>0.002176</td>\n",
       "      <td>...</td>\n",
       "      <td>0.054944</td>\n",
       "      <td>0.039067</td>\n",
       "      <td>0.024871</td>\n",
       "      <td>0.044628</td>\n",
       "      <td>0.011247</td>\n",
       "      <td>0.034973</td>\n",
       "      <td>0.052725</td>\n",
       "      <td>0.018488</td>\n",
       "      <td>0.074373</td>\n",
       "      <td>0.205111</td>\n",
       "    </tr>\n",
       "    <tr>\n",
       "      <th>3</th>\n",
       "      <td>C11M4S</td>\n",
       "      <td>M</td>\n",
       "      <td>control</td>\n",
       "      <td>30</td>\n",
       "      <td>striatum</td>\n",
       "      <td>09/2021</td>\n",
       "      <td>0.006385</td>\n",
       "      <td>0.000147</td>\n",
       "      <td>0.001414</td>\n",
       "      <td>0.001941</td>\n",
       "      <td>...</td>\n",
       "      <td>0.032150</td>\n",
       "      <td>0.037229</td>\n",
       "      <td>0.017533</td>\n",
       "      <td>0.031965</td>\n",
       "      <td>0.009413</td>\n",
       "      <td>0.017476</td>\n",
       "      <td>0.033724</td>\n",
       "      <td>0.020775</td>\n",
       "      <td>0.034453</td>\n",
       "      <td>0.132600</td>\n",
       "    </tr>\n",
       "    <tr>\n",
       "      <th>4</th>\n",
       "      <td>C15M1</td>\n",
       "      <td>M</td>\n",
       "      <td>control</td>\n",
       "      <td>30</td>\n",
       "      <td>striatum</td>\n",
       "      <td>11/2022</td>\n",
       "      <td>0.024006</td>\n",
       "      <td>0.000094</td>\n",
       "      <td>0.000893</td>\n",
       "      <td>0.001037</td>\n",
       "      <td>...</td>\n",
       "      <td>0.191198</td>\n",
       "      <td>0.229205</td>\n",
       "      <td>0.036764</td>\n",
       "      <td>0.108146</td>\n",
       "      <td>0.047342</td>\n",
       "      <td>0.115219</td>\n",
       "      <td>0.106365</td>\n",
       "      <td>0.105238</td>\n",
       "      <td>0.219092</td>\n",
       "      <td>0.640327</td>\n",
       "    </tr>\n",
       "  </tbody>\n",
       "</table>\n",
       "<p>5 rows × 378 columns</p>\n",
       "</div>"
      ],
      "text/plain": [
       "Individual Lipid Species Sample Name Sex Treatment  PND Tissue Type  \\\n",
       "0                             C11F1C   F   control   30      cortex   \n",
       "1                             C11F1S   F   control   30    striatum   \n",
       "2                             C11M2C   M   control   30      cortex   \n",
       "3                             C11M4S   M   control   30    striatum   \n",
       "4                              C15M1   M   control   30    striatum   \n",
       "\n",
       "Individual Lipid Species Sample Submission Date  CE(20:4)+H  CER(16:0)+H  \\\n",
       "0                                       09/2021    0.034663     0.000374   \n",
       "1                                       09/2021    0.002913     0.000155   \n",
       "2                                       09/2021    0.002793     0.000105   \n",
       "3                                       09/2021    0.006385     0.000147   \n",
       "4                                       11/2022    0.024006     0.000094   \n",
       "\n",
       "Individual Lipid Species  CER(18:0)+H  CER(18:1)+H  ...  \\\n",
       "0                            0.001448     0.002370  ...   \n",
       "1                            0.001373     0.000945  ...   \n",
       "2                            0.001858     0.002176  ...   \n",
       "3                            0.001414     0.001941  ...   \n",
       "4                            0.000893     0.001037  ...   \n",
       "\n",
       "Individual Lipid Species  TAG(58:10_FA20:4)+NH4  TAG(58:10_FA22:6)+NH4  \\\n",
       "0                                      0.281777               0.259815   \n",
       "1                                      0.119986               0.129553   \n",
       "2                                      0.054944               0.039067   \n",
       "3                                      0.032150               0.037229   \n",
       "4                                      0.191198               0.229205   \n",
       "\n",
       "Individual Lipid Species  TAG(58:7_FA22:6)+NH4  TAG(58:8_FA22:6)+NH4  \\\n",
       "0                                     0.074786              0.057560   \n",
       "1                                     0.020608              0.054460   \n",
       "2                                     0.024871              0.044628   \n",
       "3                                     0.017533              0.031965   \n",
       "4                                     0.036764              0.108146   \n",
       "\n",
       "Individual Lipid Species  TAG(58:9_FA20:4)+NH4  TAG(58:9_FA22:6)+NH4  \\\n",
       "0                                     0.126227              0.091787   \n",
       "1                                     0.054598              0.068822   \n",
       "2                                     0.011247              0.034973   \n",
       "3                                     0.009413              0.017476   \n",
       "4                                     0.047342              0.115219   \n",
       "\n",
       "Individual Lipid Species  TAG(60:10_FA22:6)+NH4  TAG(60:11_FA22:5)+NH4  \\\n",
       "0                                      0.148127               0.175052   \n",
       "1                                      0.094487               0.078593   \n",
       "2                                      0.052725               0.018488   \n",
       "3                                      0.033724               0.020775   \n",
       "4                                      0.106365               0.105238   \n",
       "\n",
       "Individual Lipid Species  TAG(60:11_FA22:6)+NH4  TAG(60:12_FA22:6)+NH4  \n",
       "0                                      0.158825               0.688057  \n",
       "1                                      0.123341               0.433532  \n",
       "2                                      0.074373               0.205111  \n",
       "3                                      0.034453               0.132600  \n",
       "4                                      0.219092               0.640327  \n",
       "\n",
       "[5 rows x 378 columns]"
      ]
     },
     "execution_count": 102,
     "metadata": {},
     "output_type": "execute_result"
    }
   ],
   "source": [
    "data_pivot = data.pivot(index=['Sample Name', 'Sex', 'Treatment', 'PND', 'Tissue Type', 'Sample Submission Date'], columns='Individual Lipid Species', values=data.columns[16])\n",
    "data_stats = data_pivot.reset_index().dropna(axis=1, thresh=0.9*data_pivot.shape[0]).fillna(0)\n",
    "# data_stats.drop(columns=['Individual Lipid Species'])\n",
    "data_stats.head()"
   ]
  },
  {
   "cell_type": "code",
   "execution_count": 103,
   "metadata": {},
   "outputs": [
    {
     "data": {
      "text/plain": [
       "array([0, 1])"
      ]
     },
     "execution_count": 103,
     "metadata": {},
     "output_type": "execute_result"
    }
   ],
   "source": [
    "data_stats['Sample Submission Date'] = LabelEncoder().fit_transform(data_stats['Sample Submission Date'])\n",
    "data_stats['Treatment'] = LabelEncoder().fit_transform(data_stats['Treatment'])\n",
    "data_stats['Sample Submission Date'].unique()"
   ]
  },
  {
   "cell_type": "code",
   "execution_count": 104,
   "metadata": {},
   "outputs": [
    {
     "name": "stdout",
     "output_type": "stream",
     "text": [
      "(72, 372)\n"
     ]
    }
   ],
   "source": [
    "data_np = data_stats.values[:,6:] + 1e-10\n",
    "data_np = np.log(data_np.astype('float64'))\n",
    "print(data_np.shape)"
   ]
  },
  {
   "cell_type": "code",
   "execution_count": 105,
   "metadata": {},
   "outputs": [
    {
     "data": {
      "image/png": "[encoded data removed]",
      "text/plain": [
       "<Figure size 640x480 with 1 Axes>"
      ]
     },
     "metadata": {},
     "output_type": "display_data"
    }
   ],
   "source": [
    "plt.figure()\n",
    "plt.hist(data_np.flatten())\n",
    "plt.show()"
   ]
  },
  {
   "cell_type": "code",
   "execution_count": 106,
   "metadata": {},
   "outputs": [
    {
     "name": "stdout",
     "output_type": "stream",
     "text": [
      "(72, 72)\n"
     ]
    }
   ],
   "source": [
    "pca = PCA()\n",
    "data_norm = StandardScaler().fit_transform(data_np)\n",
    "data_pca = pca.fit_transform(data_norm)\n",
    "print(data_pca.shape)"
   ]
  },
  {
   "cell_type": "code",
   "execution_count": 107,
   "metadata": {},
   "outputs": [
    {
     "data": {
      "image/png": "[encoded data removed]",
      "text/plain": [
       "<Figure size 640x480 with 1 Axes>"
      ]
     },
     "metadata": {},
     "output_type": "display_data"
    }
   ],
   "source": [
    "plt.figure()\n",
    "plt.plot(np.cumsum(pca.explained_variance_ratio_))\n",
    "plt.show()"
   ]
  },
  {
   "cell_type": "code",
   "execution_count": 109,
   "metadata": {},
   "outputs": [
    {
     "name": "stdout",
     "output_type": "stream",
     "text": [
      "(72, 3)\n"
     ]
    },
    {
     "name": "stderr",
     "output_type": "stream",
     "text": [
      "C:\\Users\\smran\\AppData\\Local\\Temp\\ipykernel_28052\\260942847.py:4: RuntimeWarning: Precision loss occurred in moment calculation due to catastrophic cancellation. This occurs when the data are nearly identical. Results may be unreliable.\n",
      "  ttest_ind(data_pca[data_stats['Sample Submission Date']==0, d], data_pca[data_stats['Sample Submission Date']==1, d])[1],\n",
      "C:\\Users\\smran\\AppData\\Local\\Temp\\ipykernel_28052\\260942847.py:5: RuntimeWarning: Precision loss occurred in moment calculation due to catastrophic cancellation. This occurs when the data are nearly identical. Results may be unreliable.\n",
      "  ttest_ind(data_pca[data_stats['Treatment']==0, d], data_pca[data_stats['Treatment']==1, d])[1],\n"
     ]
    }
   ],
   "source": [
    "p_values = [\n",
    "    [\n",
    "        d,\n",
    "        ttest_ind(data_pca[data_stats['Sample Submission Date']==0, d], data_pca[data_stats['Sample Submission Date']==1, d])[1],\n",
    "        ttest_ind(data_pca[data_stats['Treatment']==0, d], data_pca[data_stats['Treatment']==1, d])[1],\n",
    "    ]\n",
    "    for d in range(data_pca.shape[1])\n",
    "]\n",
    "p_values = np.asarray(p_values)\n",
    "print(p_values.shape)"
   ]
  },
  {
   "cell_type": "code",
   "execution_count": 111,
   "metadata": {},
   "outputs": [
    {
     "data": {
      "image/png": "[encoded data removed]",
      "text/plain": [
       "<Figure size 640x480 with 1 Axes>"
      ]
     },
     "metadata": {},
     "output_type": "display_data"
    }
   ],
   "source": [
    "plt.figure()\n",
    "plt.plot(p_values[:,1], p_values[:,2],'o')\n",
    "plt.show()"
   ]
  },
  {
   "cell_type": "code",
   "execution_count": 114,
   "metadata": {},
   "outputs": [
    {
     "name": "stdout",
     "output_type": "stream",
     "text": [
      "4\n",
      "3\n",
      "0\n"
     ]
    }
   ],
   "source": [
    "print(np.sum(p_values[:,1]<0.05))\n",
    "print(np.sum(p_values[:,2]<0.05))\n",
    "print(np.sum((p_values[:,2]<0.05)*(p_values[:,1]<0.05)))"
   ]
  },
  {
   "cell_type": "code",
   "execution_count": null,
   "metadata": {},
   "outputs": [],
   "source": []
  }
 ],
 "metadata": {
  "kernelspec": {
   "display_name": "base",
   "language": "python",
   "name": "python3"
  },
  "language_info": {
   "codemirror_mode": {
    "name": "ipython",
    "version": 3
   },
   "file_extension": ".py",
   "mimetype": "text/x-python",
   "name": "python",
   "nbconvert_exporter": "python",
   "pygments_lexer": "ipython3",
   "version": "3.9.13"
  },
  "orig_nbformat": 4,
  "vscode": {
   "interpreter": {
    "hash": "19d1d53a962d236aa061289c2ac16dc8e6d9648c89fe79f459ae9a3493bc67b4"
   }
  }
 },
 "nbformat": 4,
 "nbformat_minor": 2
}
