{
 "cells": [
  {
   "cell_type": "code",
   "execution_count": 1,
   "metadata": {},
   "outputs": [],
   "source": [
    "import pandas as pd\n",
    "import numpy as np\n",
    "import matplotlib.pyplot as plt\n",
    "import os\n",
    "\n",
    "whole = False"
   ]
  },
  {
   "cell_type": "code",
   "execution_count": 2,
   "metadata": {},
   "outputs": [],
   "source": [
    "data = pd.read_excel('data/2023_12_laezza_deltamethrin_metabolomics.xlsx')\n",
    "data_old = pd.read_excel('data/2022_12_Laezza_Bernabucci_Mouse_Brain_COMBINED_METABOLOMICS.xlsx')"
   ]
  },
  {
   "cell_type": "code",
   "execution_count": 3,
   "metadata": {},
   "outputs": [],
   "source": [
    "data_old = data_old[data_old['Sex']=='M']\n",
    "data_old = data_old[data_old['Tissue Type']=='striatum']\n",
    "data_old = data_old[data_old['PND']==30]"
   ]
  },
  {
   "cell_type": "code",
   "execution_count": 4,
   "metadata": {},
   "outputs": [],
   "source": [
    "columns_data = ['LCMS Name', 'Tissue Weight\\n(mg)', 'Treatment', 'Metabolite', 'Normalized Peak Area (Peak Area of Metabolite / (Peak Area of Internal Standard * Tissue weight))']\n",
    "columns_old = ['Sample Name', 'Tissue weight\\n(mg)', 'Treatment', 'Metabolite', 'Normalized Peak Area\\n(Peak Area of Metabolite / (Peak Area of Internal Standard * Tisue weight))']\n",
    "columns_new = ['name','weight','treatment','metabolite','area']\n",
    "\n",
    "data = data[columns_data]\n",
    "data.columns = columns_new\n",
    "data['batch']=1\n",
    "data_old = data_old[columns_old]\n",
    "data_old.columns = columns_new\n",
    "data_old['batch']=0\n",
    "if whole:\n",
    "    data_all = pd.concat([data, data_old], axis=0)\n",
    "    data_all = data_all[data_all['area']!=0]\n",
    "else:\n",
    "    data_all = data.copy()\n",
    "data_all['area'] = np.log(data_all['area'])"
   ]
  },
  {
   "cell_type": "code",
   "execution_count": 5,
   "metadata": {},
   "outputs": [
    {
     "data": {
      "image/png": "[encoded data removed]",
      "text/plain": [
       "<Figure size 640x480 with 1 Axes>"
      ]
     },
     "metadata": {},
     "output_type": "display_data"
    }
   ],
   "source": [
    "plt.figure()\n",
    "plt.hist(data_all.iloc[:,-2],bins=100)\n",
    "plt.show()"
   ]
  },
  {
   "cell_type": "markdown",
   "metadata": {},
   "source": [
    "## TTEST"
   ]
  },
  {
   "cell_type": "code",
   "execution_count": 6,
   "metadata": {},
   "outputs": [
    {
     "name": "stdout",
     "output_type": "stream",
     "text": [
      "2 significant metabolites\n"
     ]
    }
   ],
   "source": [
    "from scipy.stats import ranksums, ttest_ind\n",
    "\n",
    "res = []\n",
    "for t in np.unique(data_all['metabolite']):\n",
    "    data_part = data_all[data_all['metabolite'] == t]\n",
    "    a = data_part[data_part['treatment'] == 'control']['area'].values\n",
    "    b = data_part[data_part['treatment'] == 'deltamethrin']['area'].values\n",
    "    p_t = ttest_ind(a,b).pvalue\n",
    "    p_r = ranksums(a,b).pvalue\n",
    "    res.append([t, len(a), len(b), p_t, p_r, np.mean(a)<np.mean(b)])\n",
    "\n",
    "res = pd.DataFrame(res)\n",
    "res.columns=['metabolite','n_control', 'n_treated', 'p_ttest', 'p_ranksum', 'upregulated']\n",
    "res = res[(res['p_ttest']<0.05) | (res['p_ranksum']<0.05)]\n",
    "res.to_csv(os.path.join('data', 'results_metabolites_whole_' + str(whole) + '.csv'))\n",
    "print(f'{res.shape[0]} significant metabolites')"
   ]
  },
  {
   "cell_type": "code",
   "execution_count": null,
   "metadata": {},
   "outputs": [],
   "source": []
  }
 ],
 "metadata": {
  "kernelspec": {
   "display_name": "Python 3",
   "language": "python",
   "name": "python3"
  },
  "language_info": {
   "codemirror_mode": {
    "name": "ipython",
    "version": 3
   },
   "file_extension": ".py",
   "mimetype": "text/x-python",
   "name": "python",
   "nbconvert_exporter": "python",
   "pygments_lexer": "ipython3",
   "version": "3.11.0"
  }
 },
 "nbformat": 4,
 "nbformat_minor": 2
}
